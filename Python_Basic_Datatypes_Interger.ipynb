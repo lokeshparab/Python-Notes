{
  "nbformat": 4,
  "nbformat_minor": 0,
  "metadata": {
    "colab": {
      "name": "Python Basic Datatypes Interger.ipynb",
      "provenance": [],
      "collapsed_sections": [
        "tNn5fWSnfb87"
      ],
      "toc_visible": true,
      "authorship_tag": "ABX9TyOJQV+hbpHr/y36vAAISGcp",
      "include_colab_link": true
    },
    "kernelspec": {
      "name": "python3",
      "display_name": "Python 3"
    },
    "language_info": {
      "name": "python"
    }
  },
  "cells": [
    {
      "cell_type": "markdown",
      "metadata": {
        "id": "view-in-github",
        "colab_type": "text"
      },
      "source": [
        "<a href=\"https://colab.research.google.com/github/lokeshparab/Python-Notes/blob/main/Python_Basic_Datatypes_Interger.ipynb\" target=\"_parent\"><img src=\"https://colab.research.google.com/assets/colab-badge.svg\" alt=\"Open In Colab\"/></a>"
      ]
    },
    {
      "cell_type": "markdown",
      "source": [
        "#**DATATYPES**\n",
        "\n",
        "\n",
        "<ol type=\"1\">\n",
        "\n",
        "  <li><b>Numberic</b></li>\n",
        "\n",
        "  <ol type=\"i\">\n",
        "  <li><b><a href=\"https://colab.research.google.com/github/lokeshparab/Python-Notes/blob/main/Python_Basic_Datatypes_Interger.ipynb\">Integer</a></b></li>\n",
        "  <li><b>Complex Number</b></li>\n",
        "  <li><b><a href=\"https://colab.research.google.com/github/lokeshparab/Python-Notes/blob/main/Python_Basic_Datatypes_Float.ipynb\">Float</a></b></li>\n",
        "  </ol>\n",
        "\n",
        "  <li><b>Dictionary</b></li>\n",
        "\n",
        "  <li><b>Boolean</b></li>\n",
        "\n",
        "  <li><b>Set</b></li>\n",
        "\n",
        "  <li><b>Sequence Type</b></li>\n",
        "\n",
        "  <ol type=\"i\">\n",
        "  <li><b>Strings</b></li>\n",
        "  <li><b>List</b></li>\n",
        "  <li><b>Tuple</b></li>\n",
        "  </ol>\n",
        "\n",
        "\n",
        "\n",
        "\n",
        "![alt text](https://media.geeksforgeeks.org/wp-content/uploads/20191023173512/Python-data-structure.jpg)"
      ],
      "metadata": {
        "id": "kFEl_lMejSnA"
      }
    },
    {
      "cell_type": "markdown",
      "source": [
        "#**Numeric**"
      ],
      "metadata": {
        "id": "0pr-C_UZ2nrT"
      }
    },
    {
      "cell_type": "markdown",
      "source": [
        "##**INTEGER (int)**\n",
        "\n",
        "* *Int, or integer, is a whole number, positive or negative, without decimals, of unlimited length.*\n",
        "\n",
        "* *For example: 1, 99 , -22 , 0*\n",
        "\n",
        "\n",
        "###**type()**\n",
        "This function return the datatype of object when you pass argument\n",
        "<hr>\n",
        "\n",
        "*Syntax:*\n",
        "```python\n",
        "type(69)              #return int\n",
        "type(69.69)           #return float\n",
        "type( [69,420] )      #return list\n",
        "type( (69,420) )      #return tuple\n",
        "```\n",
        "<hr>\n",
        "\n",
        "**See below example to see datatype of number**\n",
        "\n",
        "\n"
      ],
      "metadata": {
        "id": "eMStU8dygyru"
      }
    },
    {
      "cell_type": "code",
      "execution_count": null,
      "metadata": {
        "colab": {
          "base_uri": "https://localhost:8080/"
        },
        "id": "RcLVuNwogp3N",
        "outputId": "69708333-78b6-4a96-feaa-d93785061fd9"
      },
      "outputs": [
        {
          "output_type": "execute_result",
          "data": {
            "text/plain": [
              "int"
            ]
          },
          "metadata": {},
          "execution_count": 1
        }
      ],
      "source": [
        "type(1)"
      ]
    },
    {
      "cell_type": "code",
      "source": [
        "type(99)"
      ],
      "metadata": {
        "id": "htnIm3j9iQhS",
        "colab": {
          "base_uri": "https://localhost:8080/"
        },
        "outputId": "36929264-e7b0-49dd-c15c-fa733923697a"
      },
      "execution_count": null,
      "outputs": [
        {
          "output_type": "execute_result",
          "data": {
            "text/plain": [
              "int"
            ]
          },
          "metadata": {},
          "execution_count": 2
        }
      ]
    },
    {
      "cell_type": "code",
      "source": [
        "type(-22)"
      ],
      "metadata": {
        "id": "QXlsYgjBiSA4",
        "colab": {
          "base_uri": "https://localhost:8080/"
        },
        "outputId": "e6ecf913-e8d8-46e3-c08d-e1ebe4fd8e32"
      },
      "execution_count": null,
      "outputs": [
        {
          "output_type": "execute_result",
          "data": {
            "text/plain": [
              "int"
            ]
          },
          "metadata": {},
          "execution_count": 3
        }
      ]
    },
    {
      "cell_type": "code",
      "source": [
        "type(0)"
      ],
      "metadata": {
        "id": "fDqoTtNniTOb",
        "colab": {
          "base_uri": "https://localhost:8080/"
        },
        "outputId": "929b8f99-bfc3-4036-de90-de3970243a1b"
      },
      "execution_count": null,
      "outputs": [
        {
          "output_type": "execute_result",
          "data": {
            "text/plain": [
              "int"
            ]
          },
          "metadata": {},
          "execution_count": 4
        }
      ]
    },
    {
      "cell_type": "code",
      "source": [
        "# writing integer inside curly brace '()' is also integer\n",
        "print( (45) )\n",
        "\n",
        "x =  (45)\n",
        "print(x)\n",
        "\n",
        "type( (45 ) )"
      ],
      "metadata": {
        "colab": {
          "base_uri": "https://localhost:8080/"
        },
        "id": "O50KiRz-IYYm",
        "outputId": "339dcf2b-41b3-4c77-8503-7464a7015c16"
      },
      "execution_count": null,
      "outputs": [
        {
          "output_type": "stream",
          "name": "stdout",
          "text": [
            "45\n",
            "45\n"
          ]
        },
        {
          "output_type": "execute_result",
          "data": {
            "text/plain": [
              "int"
            ]
          },
          "metadata": {},
          "execution_count": 5
        }
      ]
    },
    {
      "cell_type": "markdown",
      "source": [
        "###**Number System**\n",
        "*In **python** integer can be also be represent in:*\n",
        "\n",
        "1. **Binary**\n",
        "\n",
        "  *A number having <b>0b</b> as prefix with combination of 0 and 1 represent the <u>binary numbers</u>*\n",
        "  \n",
        "  * *A binary integer takes the form:*\n",
        "\n",
        "         [sign] ['0b' / '0B'] binary_integer \n",
        "\n",
        "  * Syntax:\n",
        "```python\n",
        ">>> b=0b01101101\n",
        ">>> b\n",
        "109\n",
        ">>> b=0B01101101\n",
        ">>> b\n",
        "109\n",
        ">>> b=0b_0110_1101\n",
        ">>> b\n",
        "109\n",
        ">>> b=0B_0110_1101\n",
        ">>> b\n",
        "109\n",
        "```\n",
        "---\n",
        "2. **Octal**\n",
        "\n",
        "  *A number having **0o** or **0O** as prefix with combination of from 0 to 7  represents an <u>octal number</u>*\n",
        "\n",
        "  * *A octal integer takes the form:*\n",
        "\n",
        "         [sign] ['0o'/ '0O'] octal_integer\n",
        "\n",
        "  * Syntax:\n",
        "```python\n",
        ">>> x=0o12\n",
        ">>> x\n",
        "10\n",
        ">>> x=0O12\n",
        ">>> x\n",
        "10\n",
        ">>> x=0o_0172_3654\n",
        ">>> x\n",
        "501676\n",
        ">>> x=0O_0172_3654\n",
        ">>> x\n",
        "501676\n",
        "```\n",
        "---\n",
        "3. **Hexadecimal**\n",
        "\n",
        "  *A number having **0x** or **0X** as prefix with combination of from 0 to 9 and then A-10 to F-15  represents an <u>hexadecimal number</u>*\n",
        "\n",
        "  * *A hexadecimal integer takes the form:*\n",
        "\n",
        "         [sign] ['0x' / '0X' ] hexadecimal_integer\n",
        " * *Syntax:*\n",
        "```python\n",
        ">>> x=0x12\n",
        ">>> x\n",
        "18\n",
        ">>> x=0X12\n",
        ">>> x\n",
        "18\n",
        ">>> x=0x_0A28_D3F9\n",
        ">>> x\n",
        "170447865\n",
        ">>> x=0X_0A28_D3F9\n",
        ">>> x\n",
        "170447865\n",
        "```\n",
        "---\n",
        "**Check out below example**"
      ],
      "metadata": {
        "id": "N0RvDE6jjkob"
      }
    },
    {
      "cell_type": "code",
      "source": [
        "# Binary\n",
        "\n",
        "b  = 0b01101101\n",
        "B  = 0B01101101\n",
        "\n",
        "b_  = 0b_0110_1101\n",
        "B_  = 0B_0110_1101\n",
        "\n",
        "print( b, B, b_ , B_ ) # return same output as \"109\"\n",
        "\n",
        "x1 = type(b)\n",
        "x2 = type(B)\n",
        "x3 = type(b_)\n",
        "x4 = type(B_)\n",
        "\n",
        "print( x1, x2, x3, x4 ) # return same output as \"<class 'int'>\""
      ],
      "metadata": {
        "colab": {
          "base_uri": "https://localhost:8080/"
        },
        "id": "oHx9XlE01d6T",
        "outputId": "7a03d60c-f3e1-4724-c096-dced3e1085d3"
      },
      "execution_count": null,
      "outputs": [
        {
          "output_type": "stream",
          "name": "stdout",
          "text": [
            "109 109 109 109\n",
            "<class 'int'> <class 'int'> <class 'int'> <class 'int'>\n"
          ]
        }
      ]
    },
    {
      "cell_type": "code",
      "source": [
        "#Octal\n",
        "\n",
        "o  = 0o01723654\n",
        "O  = 0O01723654\n",
        "\n",
        "o_  = 0o_0172_3654\n",
        "O_  = 0O_0172_3654\n",
        "\n",
        "print( o, O, o_ , O_ ) # return same output as \"501676\"\n",
        "\n",
        "x1 = type(o)\n",
        "x2 = type(O)\n",
        "x3 = type(o_)\n",
        "x4 = type(O_)\n",
        "\n",
        "print( x1, x2, x3, x4 ) # return same output as \"<class 'int'>\""
      ],
      "metadata": {
        "colab": {
          "base_uri": "https://localhost:8080/"
        },
        "id": "YPqv9Dk_8Ghg",
        "outputId": "e704297d-f6a6-4ef9-eba0-c55c7a5a7a28"
      },
      "execution_count": null,
      "outputs": [
        {
          "output_type": "stream",
          "name": "stdout",
          "text": [
            "501676 501676 501676 501676\n",
            "<class 'int'> <class 'int'> <class 'int'> <class 'int'>\n"
          ]
        }
      ]
    },
    {
      "cell_type": "code",
      "source": [
        "#Hexadecimal\n",
        "\n",
        "x  = 0x0A28D3F9\n",
        "X  = 0X0A28D3F9\n",
        "\n",
        "x_  = 0x_0A28_D3F9\n",
        "X_  = 0X_0A28_D3F9\n",
        "\n",
        "print( x, X, x_ , X_ ) # return same output as \"170447865\"\n",
        "\n",
        "x1 = type(x)\n",
        "x2 = type(X)\n",
        "x3 = type(x_)\n",
        "x4 = type(X_)\n",
        "\n",
        "print( x1, x2, x3, x4 ) # return same output as \"<class 'int'>\""
      ],
      "metadata": {
        "colab": {
          "base_uri": "https://localhost:8080/"
        },
        "id": "qU04XPAq9GzR",
        "outputId": "bdc72fc1-3c30-4865-9c7b-c654cceb7e46"
      },
      "execution_count": null,
      "outputs": [
        {
          "output_type": "stream",
          "name": "stdout",
          "text": [
            "170447865 170447865 170447865 170447865\n",
            "<class 'int'> <class 'int'> <class 'int'> <class 'int'>\n"
          ]
        }
      ]
    },
    {
      "cell_type": "markdown",
      "source": [
        ""
      ],
      "metadata": {
        "id": "6oNl0I0tVSin"
      }
    },
    {
      "cell_type": "code",
      "source": [
        "x = 0x_00_01_1_111_00\n",
        "x"
      ],
      "metadata": {
        "colab": {
          "base_uri": "https://localhost:8080/"
        },
        "id": "DQvl4XrdVUrs",
        "outputId": "453840a6-551f-44f2-e597-68ed5d74e5bf"
      },
      "execution_count": null,
      "outputs": [
        {
          "output_type": "execute_result",
          "data": {
            "text/plain": [
              "17895680"
            ]
          },
          "metadata": {},
          "execution_count": 9
        }
      ]
    },
    {
      "cell_type": "code",
      "source": [
        "hex(17895680)"
      ],
      "metadata": {
        "colab": {
          "base_uri": "https://localhost:8080/",
          "height": 36
        },
        "id": "O6aUSdkHVlzS",
        "outputId": "ce8fddd1-0da6-4e3f-ba32-80ffffd28581"
      },
      "execution_count": null,
      "outputs": [
        {
          "output_type": "execute_result",
          "data": {
            "text/plain": [
              "'0x1111100'"
            ],
            "application/vnd.google.colaboratory.intrinsic+json": {
              "type": "string"
            }
          },
          "metadata": {},
          "execution_count": 10
        }
      ]
    },
    {
      "cell_type": "markdown",
      "source": [
        "###**Inbuilt function**\n"
      ],
      "metadata": {
        "id": "38aeSiLtQBFt"
      }
    },
    {
      "cell_type": "markdown",
      "source": [
        "####**bin(), oct(), hex() function**"
      ],
      "metadata": {
        "id": "eVIiiJG0Twi5"
      }
    },
    {
      "cell_type": "markdown",
      "source": [
        "\n",
        "\n",
        "* **bin(int_no)**\n",
        "\n",
        "*This function takes an integer and returns the binary representation in a string format.*\n",
        "\n",
        "---\n",
        "\n",
        "* *Syntax:*\n",
        "```python\n",
        ">>> bin(109)\n",
        "'0b1101101'\n",
        "```\n",
        "\n",
        "<hr>"
      ],
      "metadata": {
        "id": "hThumpi-RZf6"
      }
    },
    {
      "cell_type": "code",
      "source": [
        " #try by changing any number\n",
        " \n",
        " num = 109  \n",
        " bin(num)"
      ],
      "metadata": {
        "colab": {
          "base_uri": "https://localhost:8080/",
          "height": 36
        },
        "id": "86uQdy2_Dl8i",
        "outputId": "236cd7cb-e16a-48a0-fcc9-6788902bdb1a"
      },
      "execution_count": null,
      "outputs": [
        {
          "output_type": "execute_result",
          "data": {
            "text/plain": [
              "'0b1101101'"
            ],
            "application/vnd.google.colaboratory.intrinsic+json": {
              "type": "string"
            }
          },
          "metadata": {},
          "execution_count": 11
        }
      ]
    },
    {
      "cell_type": "markdown",
      "source": [
        "* **Other examples**"
      ],
      "metadata": {
        "id": "gFeEePETNKEf"
      }
    },
    {
      "cell_type": "code",
      "source": [
        "bin(-12)"
      ],
      "metadata": {
        "colab": {
          "base_uri": "https://localhost:8080/",
          "height": 36
        },
        "id": "3uvp1O-1NN2X",
        "outputId": "75bc7eba-41f7-4789-b452-bc6720cff3ff"
      },
      "execution_count": null,
      "outputs": [
        {
          "output_type": "execute_result",
          "data": {
            "text/plain": [
              "'-0b1100'"
            ],
            "application/vnd.google.colaboratory.intrinsic+json": {
              "type": "string"
            }
          },
          "metadata": {},
          "execution_count": 12
        }
      ]
    },
    {
      "cell_type": "markdown",
      "source": [
        "\n",
        "\n",
        "**oct(int_no)**\n",
        "\n",
        "*This function takes an integer and returns the octal representation in a string format.*\n",
        "\n",
        "<hr>\n",
        "\n",
        "* *Syntax:*\n",
        "```python\n",
        ">>> oct(501676)\n",
        "'0o1723654'\n",
        "```\n",
        "\n",
        "<hr>"
      ],
      "metadata": {
        "id": "mMnqCvryQSJ2"
      }
    },
    {
      "cell_type": "code",
      "source": [
        " #try by changing any number\n",
        " \n",
        " num = 501676  \n",
        " oct(num)"
      ],
      "metadata": {
        "colab": {
          "base_uri": "https://localhost:8080/",
          "height": 36
        },
        "id": "OntTYocABfJF",
        "outputId": "9f32b471-02f1-41ed-803a-76139344669e"
      },
      "execution_count": null,
      "outputs": [
        {
          "output_type": "execute_result",
          "data": {
            "text/plain": [
              "'0o1723654'"
            ],
            "application/vnd.google.colaboratory.intrinsic+json": {
              "type": "string"
            }
          },
          "metadata": {},
          "execution_count": 13
        }
      ]
    },
    {
      "cell_type": "markdown",
      "source": [
        "**hex(int_no)**\n",
        "\n",
        "*This function takes an integer and returns the hexadecimal representation in a string format.*\n",
        "<hr>\n",
        "\n",
        "* *Syntax:*\n",
        "```python\n",
        ">>> hex(170447865)\n",
        "'0xa28d3f9'\n",
        "```\n",
        "\n",
        "<hr>"
      ],
      "metadata": {
        "id": "-74csVVaSEou"
      }
    },
    {
      "cell_type": "code",
      "source": [
        "#try by changing any number\n",
        "\n",
        "num = 170447865  \n",
        "hex(num)"
      ],
      "metadata": {
        "colab": {
          "base_uri": "https://localhost:8080/",
          "height": 36
        },
        "id": "you3uVVgPyzG",
        "outputId": "e407e754-573e-42cc-ad56-f978ef31f140"
      },
      "execution_count": null,
      "outputs": [
        {
          "output_type": "execute_result",
          "data": {
            "text/plain": [
              "'0xa28d3f9'"
            ],
            "application/vnd.google.colaboratory.intrinsic+json": {
              "type": "string"
            }
          },
          "metadata": {},
          "execution_count": 14
        }
      ]
    },
    {
      "cell_type": "markdown",
      "source": [
        "####**chr( int )**\n",
        "*  <i>**chr()** function is used to get a string representing of a character which points to a **Unicode code integer.**</i>\n",
        "* <i>take **integer** as input and return **character string**</i>\n",
        "\n",
        "\n",
        "\n",
        "![Master](https://upload.wikimedia.org/wikipedia/commons/thumb/1/1b/ASCII-Table-wide.svg/1313px-ASCII-Table-wide.svg.png)\n",
        "\n"
      ],
      "metadata": {
        "id": "1_-YGWrPY2BU"
      }
    },
    {
      "cell_type": "code",
      "source": [
        "chr(97)"
      ],
      "metadata": {
        "colab": {
          "base_uri": "https://localhost:8080/",
          "height": 36
        },
        "id": "MaBeMCiteQfr",
        "outputId": "78085eb2-c0fa-469c-f206-a51af0152660"
      },
      "execution_count": null,
      "outputs": [
        {
          "output_type": "execute_result",
          "data": {
            "text/plain": [
              "'a'"
            ],
            "application/vnd.google.colaboratory.intrinsic+json": {
              "type": "string"
            }
          },
          "metadata": {},
          "execution_count": 8
        }
      ]
    },
    {
      "cell_type": "code",
      "source": [
        "chr(63)"
      ],
      "metadata": {
        "colab": {
          "base_uri": "https://localhost:8080/",
          "height": 36
        },
        "id": "shm5Pa4ceT0l",
        "outputId": "7ef79f6b-61f3-4ba1-bf80-e3e9cda9ba4c"
      },
      "execution_count": null,
      "outputs": [
        {
          "output_type": "execute_result",
          "data": {
            "text/plain": [
              "'?'"
            ],
            "application/vnd.google.colaboratory.intrinsic+json": {
              "type": "string"
            }
          },
          "metadata": {},
          "execution_count": 9
        }
      ]
    },
    {
      "cell_type": "code",
      "source": [
        "chr(10000)"
      ],
      "metadata": {
        "colab": {
          "base_uri": "https://localhost:8080/",
          "height": 36
        },
        "id": "rUSYaDB6e7E8",
        "outputId": "80005171-88e6-42b5-d574-26c70d3416bb"
      },
      "execution_count": null,
      "outputs": [
        {
          "output_type": "execute_result",
          "data": {
            "text/plain": [
              "'✐'"
            ],
            "application/vnd.google.colaboratory.intrinsic+json": {
              "type": "string"
            }
          },
          "metadata": {},
          "execution_count": 13
        }
      ]
    },
    {
      "cell_type": "markdown",
      "source": [
        "#####**Extra**"
      ],
      "metadata": {
        "id": "9Cqiv0u8f2jv"
      }
    },
    {
      "cell_type": "markdown",
      "source": [
        "######**CREATE ASCII TABLE**"
      ],
      "metadata": {
        "id": "tNn5fWSnfb87"
      }
    },
    {
      "cell_type": "code",
      "source": [
        "#create ascii table\n",
        "\n",
        "for i in range(0,128):\n",
        "  print(i, bin(i), oct(i), hex(i), chr(i))"
      ],
      "metadata": {
        "colab": {
          "base_uri": "https://localhost:8080/"
        },
        "id": "ActJ6fIHeWP3",
        "outputId": "884bee1a-5ddc-40ce-a33d-d9fbd9b6a443"
      },
      "execution_count": null,
      "outputs": [
        {
          "output_type": "stream",
          "name": "stdout",
          "text": [
            "0 0b0 0o0 0x0 \u0000\n",
            "1 0b1 0o1 0x1 \u0001\n",
            "2 0b10 0o2 0x2 \u0002\n",
            "3 0b11 0o3 0x3 \u0003\n",
            "4 0b100 0o4 0x4 \u0004\n",
            "5 0b101 0o5 0x5 \u0005\n",
            "6 0b110 0o6 0x6 \u0006\n",
            "7 0b111 0o7 0x7 \u0007\n",
            "8 0b1000 0o10 0x8 \b\n",
            "9 0b1001 0o11 0x9 \t\n",
            "10 0b1010 0o12 0xa \n",
            "\n",
            "11 0b1011 0o13 0xb \u000b\n",
            "12 0b1100 0o14 0xc \f\n",
            "13 0b1101 0o15 0xd \r\n",
            "14 0b1110 0o16 0xe \u000e\n",
            "15 0b1111 0o17 0xf \u000f\n",
            "16 0b10000 0o20 0x10 \u0010\n",
            "17 0b10001 0o21 0x11 \u0011\n",
            "18 0b10010 0o22 0x12 \u0012\n",
            "19 0b10011 0o23 0x13 \u0013\n",
            "20 0b10100 0o24 0x14 \u0014\n",
            "21 0b10101 0o25 0x15 \u0015\n",
            "22 0b10110 0o26 0x16 \u0016\n",
            "23 0b10111 0o27 0x17 \u0017\n",
            "24 0b11000 0o30 0x18 \u0018\n",
            "25 0b11001 0o31 0x19 \u0019\n",
            "26 0b11010 0o32 0x1a \u001a\n",
            "27 0b11011 0o33 0x1b \u001b\n",
            "28 0b11100 0o34 0x1c \u001c\n",
            "29 0b11101 0o35 0x1d \u001d\n",
            "30 0b11110 0o36 0x1e \u001e\n",
            "31 0b11111 0o37 0x1f \u001f\n",
            "32 0b100000 0o40 0x20  \n",
            "33 0b100001 0o41 0x21 !\n",
            "34 0b100010 0o42 0x22 \"\n",
            "35 0b100011 0o43 0x23 #\n",
            "36 0b100100 0o44 0x24 $\n",
            "37 0b100101 0o45 0x25 %\n",
            "38 0b100110 0o46 0x26 &\n",
            "39 0b100111 0o47 0x27 '\n",
            "40 0b101000 0o50 0x28 (\n",
            "41 0b101001 0o51 0x29 )\n",
            "42 0b101010 0o52 0x2a *\n",
            "43 0b101011 0o53 0x2b +\n",
            "44 0b101100 0o54 0x2c ,\n",
            "45 0b101101 0o55 0x2d -\n",
            "46 0b101110 0o56 0x2e .\n",
            "47 0b101111 0o57 0x2f /\n",
            "48 0b110000 0o60 0x30 0\n",
            "49 0b110001 0o61 0x31 1\n",
            "50 0b110010 0o62 0x32 2\n",
            "51 0b110011 0o63 0x33 3\n",
            "52 0b110100 0o64 0x34 4\n",
            "53 0b110101 0o65 0x35 5\n",
            "54 0b110110 0o66 0x36 6\n",
            "55 0b110111 0o67 0x37 7\n",
            "56 0b111000 0o70 0x38 8\n",
            "57 0b111001 0o71 0x39 9\n",
            "58 0b111010 0o72 0x3a :\n",
            "59 0b111011 0o73 0x3b ;\n",
            "60 0b111100 0o74 0x3c <\n",
            "61 0b111101 0o75 0x3d =\n",
            "62 0b111110 0o76 0x3e >\n",
            "63 0b111111 0o77 0x3f ?\n",
            "64 0b1000000 0o100 0x40 @\n",
            "65 0b1000001 0o101 0x41 A\n",
            "66 0b1000010 0o102 0x42 B\n",
            "67 0b1000011 0o103 0x43 C\n",
            "68 0b1000100 0o104 0x44 D\n",
            "69 0b1000101 0o105 0x45 E\n",
            "70 0b1000110 0o106 0x46 F\n",
            "71 0b1000111 0o107 0x47 G\n",
            "72 0b1001000 0o110 0x48 H\n",
            "73 0b1001001 0o111 0x49 I\n",
            "74 0b1001010 0o112 0x4a J\n",
            "75 0b1001011 0o113 0x4b K\n",
            "76 0b1001100 0o114 0x4c L\n",
            "77 0b1001101 0o115 0x4d M\n",
            "78 0b1001110 0o116 0x4e N\n",
            "79 0b1001111 0o117 0x4f O\n",
            "80 0b1010000 0o120 0x50 P\n",
            "81 0b1010001 0o121 0x51 Q\n",
            "82 0b1010010 0o122 0x52 R\n",
            "83 0b1010011 0o123 0x53 S\n",
            "84 0b1010100 0o124 0x54 T\n",
            "85 0b1010101 0o125 0x55 U\n",
            "86 0b1010110 0o126 0x56 V\n",
            "87 0b1010111 0o127 0x57 W\n",
            "88 0b1011000 0o130 0x58 X\n",
            "89 0b1011001 0o131 0x59 Y\n",
            "90 0b1011010 0o132 0x5a Z\n",
            "91 0b1011011 0o133 0x5b [\n",
            "92 0b1011100 0o134 0x5c \\\n",
            "93 0b1011101 0o135 0x5d ]\n",
            "94 0b1011110 0o136 0x5e ^\n",
            "95 0b1011111 0o137 0x5f _\n",
            "96 0b1100000 0o140 0x60 `\n",
            "97 0b1100001 0o141 0x61 a\n",
            "98 0b1100010 0o142 0x62 b\n",
            "99 0b1100011 0o143 0x63 c\n",
            "100 0b1100100 0o144 0x64 d\n",
            "101 0b1100101 0o145 0x65 e\n",
            "102 0b1100110 0o146 0x66 f\n",
            "103 0b1100111 0o147 0x67 g\n",
            "104 0b1101000 0o150 0x68 h\n",
            "105 0b1101001 0o151 0x69 i\n",
            "106 0b1101010 0o152 0x6a j\n",
            "107 0b1101011 0o153 0x6b k\n",
            "108 0b1101100 0o154 0x6c l\n",
            "109 0b1101101 0o155 0x6d m\n",
            "110 0b1101110 0o156 0x6e n\n",
            "111 0b1101111 0o157 0x6f o\n",
            "112 0b1110000 0o160 0x70 p\n",
            "113 0b1110001 0o161 0x71 q\n",
            "114 0b1110010 0o162 0x72 r\n",
            "115 0b1110011 0o163 0x73 s\n",
            "116 0b1110100 0o164 0x74 t\n",
            "117 0b1110101 0o165 0x75 u\n",
            "118 0b1110110 0o166 0x76 v\n",
            "119 0b1110111 0o167 0x77 w\n",
            "120 0b1111000 0o170 0x78 x\n",
            "121 0b1111001 0o171 0x79 y\n",
            "122 0b1111010 0o172 0x7a z\n",
            "123 0b1111011 0o173 0x7b {\n",
            "124 0b1111100 0o174 0x7c |\n",
            "125 0b1111101 0o175 0x7d }\n",
            "126 0b1111110 0o176 0x7e ~\n",
            "127 0b1111111 0o177 0x7f \n"
          ]
        }
      ]
    },
    {
      "cell_type": "markdown",
      "source": [
        ""
      ],
      "metadata": {
        "id": "yUyLQCwgfnLq"
      }
    },
    {
      "cell_type": "markdown",
      "source": [
        "####**int()**\n",
        "\n",
        "*The **int()** function will returns an integer object constructed from a float or string let say x, or return 0 if no argum ents are specified.*\n",
        "<hr>\n",
        "\n",
        "* *Syntax*\n",
        "```python\n",
        "int( value, base)\n",
        "int (x, base=10)\n",
        "# by default base value is 10\n",
        "```\n",
        "\n",
        "<hr>\n"
      ],
      "metadata": {
        "id": "Z0eeTenjV6C3"
      }
    },
    {
      "cell_type": "code",
      "source": [
        "# bydefault returns zero\n",
        "\n",
        "int()"
      ],
      "metadata": {
        "colab": {
          "base_uri": "https://localhost:8080/"
        },
        "id": "4Dgl8Cs3Uq4O",
        "outputId": "1295c8bf-6639-4862-98c5-b7ceda4658d7"
      },
      "execution_count": null,
      "outputs": [
        {
          "output_type": "execute_result",
          "data": {
            "text/plain": [
              "0"
            ]
          },
          "metadata": {},
          "execution_count": 7
        }
      ]
    },
    {
      "cell_type": "markdown",
      "source": [
        "#####**String to  int**"
      ],
      "metadata": {
        "id": "s018--8RO9RX"
      }
    },
    {
      "cell_type": "code",
      "source": [
        "num = '22'\n",
        "int(num)"
      ],
      "metadata": {
        "colab": {
          "base_uri": "https://localhost:8080/"
        },
        "id": "B8t0uiYMOTn-",
        "outputId": "6d2ea698-0481-4861-c046-fa748936974a"
      },
      "execution_count": null,
      "outputs": [
        {
          "output_type": "execute_result",
          "data": {
            "text/plain": [
              "22"
            ]
          },
          "metadata": {},
          "execution_count": 15
        }
      ]
    },
    {
      "cell_type": "markdown",
      "source": [
        "\n",
        "\n",
        "*   **By changing the base**\n",
        "\n"
      ],
      "metadata": {
        "id": "vLN67aIbPg_M"
      }
    },
    {
      "cell_type": "code",
      "source": [
        "# binary\n",
        "num = '1011'\n",
        "base = 2\n",
        "\n",
        "print(int(num,base))\n",
        "\n",
        "#octal representation\n",
        "int(0b1011)"
      ],
      "metadata": {
        "colab": {
          "base_uri": "https://localhost:8080/"
        },
        "id": "yqHdEsOEPgMG",
        "outputId": "9cd0c322-98c0-4e98-c7bd-5daa92eeb3c8"
      },
      "execution_count": null,
      "outputs": [
        {
          "output_type": "execute_result",
          "data": {
            "text/plain": [
              "11"
            ]
          },
          "metadata": {},
          "execution_count": 16
        }
      ]
    },
    {
      "cell_type": "code",
      "source": [
        "#octal\n",
        "num = '7421'\n",
        "base = 8\n",
        "\n",
        "print(int(num,base))\n",
        "\n",
        "#octal representation\n",
        "int(0o7421)"
      ],
      "metadata": {
        "colab": {
          "base_uri": "https://localhost:8080/"
        },
        "id": "o7J7t6VwQJle",
        "outputId": "468d2a8a-24ae-42d6-a40a-3c35d699efb4"
      },
      "execution_count": null,
      "outputs": [
        {
          "output_type": "stream",
          "name": "stdout",
          "text": [
            "3857\n"
          ]
        },
        {
          "output_type": "execute_result",
          "data": {
            "text/plain": [
              "3857"
            ]
          },
          "metadata": {},
          "execution_count": 14
        }
      ]
    },
    {
      "cell_type": "code",
      "source": [
        "#hexadecimal\n",
        "num = 'A04E'\n",
        "base = 16\n",
        "\n",
        "print(int(num,base))"
      ],
      "metadata": {
        "colab": {
          "base_uri": "https://localhost:8080/"
        },
        "id": "CuqKLBfYP-8R",
        "outputId": "95970661-d145-4885-c4ab-f6ad9ecb6926"
      },
      "execution_count": null,
      "outputs": [
        {
          "output_type": "execute_result",
          "data": {
            "text/plain": [
              "41038"
            ]
          },
          "metadata": {},
          "execution_count": 18
        }
      ]
    },
    {
      "cell_type": "code",
      "source": [
        "# try it yourself\n",
        "\n",
        "num  =  input(\"Enter the number: \")\n",
        "base =  int(input(\"Enter the base: \")) \n",
        "int(num,base)"
      ],
      "metadata": {
        "id": "vLgmJ9BwQUIr",
        "colab": {
          "base_uri": "https://localhost:8080/"
        },
        "outputId": "c1698de5-bdcd-4228-9ec3-73f734a701da"
      },
      "execution_count": null,
      "outputs": [
        {
          "name": "stdout",
          "output_type": "stream",
          "text": [
            "Enter the number: 3421\n",
            "Enter the base: 5\n"
          ]
        },
        {
          "output_type": "execute_result",
          "data": {
            "text/plain": [
              "486"
            ]
          },
          "metadata": {},
          "execution_count": 21
        }
      ]
    },
    {
      "cell_type": "markdown",
      "source": [
        "* **gives error**"
      ],
      "metadata": {
        "id": "tuKYepyGQ1Oz"
      }
    },
    {
      "cell_type": "code",
      "source": [
        "int('Hello') #gives error"
      ],
      "metadata": {
        "id": "I54A3NHXPMWU",
        "colab": {
          "base_uri": "https://localhost:8080/",
          "height": 165
        },
        "outputId": "3b393116-dab8-4cf0-cbec-22c992b4074a"
      },
      "execution_count": null,
      "outputs": [
        {
          "output_type": "error",
          "ename": "ValueError",
          "evalue": "ignored",
          "traceback": [
            "\u001b[0;31m---------------------------------------------------------------------------\u001b[0m",
            "\u001b[0;31mValueError\u001b[0m                                Traceback (most recent call last)",
            "\u001b[0;32m<ipython-input-23-68ecef52ddbb>\u001b[0m in \u001b[0;36m<module>\u001b[0;34m()\u001b[0m\n\u001b[0;32m----> 1\u001b[0;31m \u001b[0mint\u001b[0m\u001b[0;34m(\u001b[0m\u001b[0;34m'Hello'\u001b[0m\u001b[0;34m)\u001b[0m \u001b[0;31m#gives error\u001b[0m\u001b[0;34m\u001b[0m\u001b[0;34m\u001b[0m\u001b[0m\n\u001b[0m",
            "\u001b[0;31mValueError\u001b[0m: invalid literal for int() with base 10: 'Hello'"
          ]
        }
      ]
    },
    {
      "cell_type": "markdown",
      "source": [
        "#####**Float to int**"
      ],
      "metadata": {
        "id": "CLWOSOJaPWNO"
      }
    },
    {
      "cell_type": "code",
      "source": [
        "num = 3.14\n",
        "int(3.14)"
      ],
      "metadata": {
        "colab": {
          "base_uri": "https://localhost:8080/"
        },
        "id": "Htd_cmsBOWS7",
        "outputId": "3edd5af0-16ee-464a-c114-181c00172cd3"
      },
      "execution_count": null,
      "outputs": [
        {
          "output_type": "execute_result",
          "data": {
            "text/plain": [
              "3"
            ]
          },
          "metadata": {},
          "execution_count": 24
        }
      ]
    },
    {
      "cell_type": "markdown",
      "source": [
        "* **gives error**"
      ],
      "metadata": {
        "id": "0hK7L2ZuTppV"
      }
    },
    {
      "cell_type": "code",
      "source": [
        "num = 3.14\n",
        "base = 5\n",
        "\n",
        "int(num,base) # gives error"
      ],
      "metadata": {
        "id": "BjOS2UHySVxY",
        "colab": {
          "base_uri": "https://localhost:8080/",
          "height": 200
        },
        "outputId": "9390352d-43b9-4b9b-bd69-bdb07fed2ab9"
      },
      "execution_count": null,
      "outputs": [
        {
          "output_type": "error",
          "ename": "TypeError",
          "evalue": "ignored",
          "traceback": [
            "\u001b[0;31m---------------------------------------------------------------------------\u001b[0m",
            "\u001b[0;31mTypeError\u001b[0m                                 Traceback (most recent call last)",
            "\u001b[0;32m<ipython-input-25-b969f493fdb7>\u001b[0m in \u001b[0;36m<module>\u001b[0;34m()\u001b[0m\n\u001b[1;32m      2\u001b[0m \u001b[0mbase\u001b[0m \u001b[0;34m=\u001b[0m \u001b[0;36m5\u001b[0m\u001b[0;34m\u001b[0m\u001b[0;34m\u001b[0m\u001b[0m\n\u001b[1;32m      3\u001b[0m \u001b[0;34m\u001b[0m\u001b[0m\n\u001b[0;32m----> 4\u001b[0;31m \u001b[0mint\u001b[0m\u001b[0;34m(\u001b[0m\u001b[0mnum\u001b[0m\u001b[0;34m,\u001b[0m\u001b[0mbase\u001b[0m\u001b[0;34m)\u001b[0m \u001b[0;31m# gives error\u001b[0m\u001b[0;34m\u001b[0m\u001b[0;34m\u001b[0m\u001b[0m\n\u001b[0m",
            "\u001b[0;31mTypeError\u001b[0m: int() can't convert non-string with explicit base"
          ]
        }
      ]
    },
    {
      "cell_type": "markdown",
      "source": [
        "#####**int .bit_length()**\n",
        "\n",
        "* *bit_length function gives no of digit present in binary form*\n",
        "* *For example: <b>23</b> in binary is <b>(10111)<font size='1'>2</font></b> hence length is <b>5</b>.* \n",
        " * *Syntax:*\n",
        "```python\n",
        ">>> (23).bit_length()\n",
        "5\n",
        ">>> 23 .bit_length()\n",
        "5\n",
        ">>> x = 23\n",
        ">>> x.bit_length()\n",
        "5\n",
        "```\n",
        "\n"
      ],
      "metadata": {
        "id": "I1BH-TMfDUg-"
      }
    },
    {
      "cell_type": "code",
      "source": [
        "# 1st method\n",
        "\n",
        "(23).bit_length()"
      ],
      "metadata": {
        "colab": {
          "base_uri": "https://localhost:8080/"
        },
        "id": "xxfwcS82Htxy",
        "outputId": "f33cc5be-3aa8-4151-aeef-47a6da90f917"
      },
      "execution_count": null,
      "outputs": [
        {
          "output_type": "execute_result",
          "data": {
            "text/plain": [
              "5"
            ]
          },
          "metadata": {},
          "execution_count": 26
        }
      ]
    },
    {
      "cell_type": "code",
      "source": [
        "#2nd method\n",
        "\n",
        "23 .bit_length()"
      ],
      "metadata": {
        "colab": {
          "base_uri": "https://localhost:8080/"
        },
        "id": "I5pu2mqHJifc",
        "outputId": "8a123b71-e628-4e7c-8f6d-591fe55fdf9d"
      },
      "execution_count": null,
      "outputs": [
        {
          "output_type": "execute_result",
          "data": {
            "text/plain": [
              "5"
            ]
          },
          "metadata": {},
          "execution_count": 27
        }
      ]
    },
    {
      "cell_type": "code",
      "source": [
        "# 3rd method\n",
        "\n",
        "num = 23\n",
        "num.bit_length()"
      ],
      "metadata": {
        "colab": {
          "base_uri": "https://localhost:8080/"
        },
        "id": "JGN8W0VTH-qU",
        "outputId": "5423f439-5115-40f0-a050-cce00dcf608b"
      },
      "execution_count": null,
      "outputs": [
        {
          "output_type": "execute_result",
          "data": {
            "text/plain": [
              "5"
            ]
          },
          "metadata": {},
          "execution_count": 28
        }
      ]
    },
    {
      "cell_type": "markdown",
      "source": [
        "* **other example**"
      ],
      "metadata": {
        "id": "Swg3MHEhM5qx"
      }
    },
    {
      "cell_type": "code",
      "source": [
        "(-23).bit_length()"
      ],
      "metadata": {
        "colab": {
          "base_uri": "https://localhost:8080/"
        },
        "id": "VpUDrcVyM80I",
        "outputId": "e1e6b49a-163d-4ab8-fa80-36f2d86ab47c"
      },
      "execution_count": null,
      "outputs": [
        {
          "output_type": "execute_result",
          "data": {
            "text/plain": [
              "5"
            ]
          },
          "metadata": {},
          "execution_count": 29
        }
      ]
    },
    {
      "cell_type": "markdown",
      "source": [
        "* **gives error**"
      ],
      "metadata": {
        "id": "RmgMnbcgJL31"
      }
    },
    {
      "cell_type": "code",
      "source": [
        "23.bit_length()  # because there is no space between integer and dot"
      ],
      "metadata": {
        "id": "IyX_R1L_JRSV",
        "colab": {
          "base_uri": "https://localhost:8080/",
          "height": 130
        },
        "outputId": "e578e1ef-e9e6-454d-ad94-52e396553f08"
      },
      "execution_count": null,
      "outputs": [
        {
          "output_type": "error",
          "ename": "SyntaxError",
          "evalue": "ignored",
          "traceback": [
            "\u001b[0;36m  File \u001b[0;32m\"<ipython-input-30-6fd10157ec19>\"\u001b[0;36m, line \u001b[0;32m1\u001b[0m\n\u001b[0;31m    23.bit_length()  # because there is no space between integer and dot\u001b[0m\n\u001b[0m                ^\u001b[0m\n\u001b[0;31mSyntaxError\u001b[0m\u001b[0;31m:\u001b[0m invalid syntax\n"
          ]
        }
      ]
    },
    {
      "cell_type": "code",
      "source": [
        "23 .bit_length()  #correct above by adding space (same as 2nd method)"
      ],
      "metadata": {
        "colab": {
          "base_uri": "https://localhost:8080/"
        },
        "id": "Wv7VsB08J_VR",
        "outputId": "8f125d22-4184-4489-8644-9183386b875d"
      },
      "execution_count": null,
      "outputs": [
        {
          "output_type": "execute_result",
          "data": {
            "text/plain": [
              "5"
            ]
          },
          "metadata": {},
          "execution_count": 31
        }
      ]
    },
    {
      "cell_type": "markdown",
      "source": [
        "#####**int .from_bytes()**\n",
        "* *Return the **integer** represented by the given **array of bytes**.*\n",
        "\n",
        "* *Syntax:*\n",
        "\n",
        "&nbsp;&nbsp;&nbsp;&nbsp;&nbsp;&nbsp;&nbsp;&nbsp;&nbsp;&nbsp; <i>int.from_bytes( bytes , byteorder , * , signed=False )</i>\n",
        "\n",
        "---\n",
        "\n",
        "|  Argument | Description  |\n",
        "|---|---|\n",
        "| bytes |   bytes-like object or an iterable producing bytes. |\n",
        "|  byteorder | the byte order used to represent the integer. <li> If byteorder is <b>\"big\"</b>, the most significant byte is at the beginning of the byte array.</li><li> If byteorder is <b>\"little\"</b>, the most significant byte is at the end of the byte array. To request the native byte order of the host system, use sys.byteorder as the byte order value.</li>  |\n",
        "|  signed |  indicates whether two’s complement is used to represent the integer when is set to <b>True</b> when MSB(most significant bit) of Most significant byte is 1.\n",
        " |\n",
        "\n",
        "---\n",
        "![image.png](data:image/png;base64,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)\n",
        "\n",
        "\n",
        "* Example\n",
        "```python\n",
        ">>>int.from_bytes(b'\\x00\\x10', byteorder='big')\n",
        "16\n",
        ">>>int.from_bytes(b'\\x00\\x10', byteorder='little')\n",
        "4096\n",
        ">>>int.from_bytes(b'\\xfc\\x00', byteorder='big', signed=True)\n",
        " -1024\n",
        ">>>int.from_bytes(b'\\xfc\\x00', byteorder='big', signed=False)\n",
        "64512\n",
        ">>>int.from_bytes([255, 0, 0], byteorder='big')\n",
        "16711680\n",
        "```\n",
        "---\n",
        "\n"
      ],
      "metadata": {
        "id": "LbHB7J-JO5i4"
      }
    },
    {
      "cell_type": "code",
      "source": [
        "print(int.from_bytes(b'\\x00\\xff', byteorder='little'))\n",
        "int.from_bytes(b'\\x00\\xff', byteorder='big')"
      ],
      "metadata": {
        "colab": {
          "base_uri": "https://localhost:8080/"
        },
        "id": "vl9S8yO3_XXz",
        "outputId": "d44ccd87-ebbd-4ea5-83ab-709c820b3a99"
      },
      "execution_count": null,
      "outputs": [
        {
          "output_type": "stream",
          "name": "stdout",
          "text": [
            "65280\n"
          ]
        },
        {
          "output_type": "execute_result",
          "data": {
            "text/plain": [
              "255"
            ]
          },
          "metadata": {},
          "execution_count": 32
        }
      ]
    },
    {
      "cell_type": "code",
      "source": [
        "# using text\n",
        "\n",
        "a = b'aa'\n",
        "b = b'\\x61\\x61'\n",
        "print(int.from_bytes(a, byteorder='little', signed=True))\n",
        "int.from_bytes(b, byteorder='little', signed=False)\n"
      ],
      "metadata": {
        "colab": {
          "base_uri": "https://localhost:8080/"
        },
        "id": "_h_auZxWD0Z5",
        "outputId": "e859f52a-4d29-4f7d-b0b8-437f4390ad9f"
      },
      "execution_count": null,
      "outputs": [
        {
          "output_type": "stream",
          "name": "stdout",
          "text": [
            "24929\n"
          ]
        },
        {
          "output_type": "execute_result",
          "data": {
            "text/plain": [
              "24929"
            ]
          },
          "metadata": {},
          "execution_count": 53
        }
      ]
    },
    {
      "cell_type": "markdown",
      "source": [
        "######**byteorder = 'big'**"
      ],
      "metadata": {
        "id": "OsRpmjKazeq-"
      }
    },
    {
      "cell_type": "code",
      "source": [
        "int.from_bytes(b'\\x00\\x10', byteorder='big')"
      ],
      "metadata": {
        "colab": {
          "base_uri": "https://localhost:8080/"
        },
        "id": "y4MhWvev7to8",
        "outputId": "975a3a66-6d74-484d-acd9-3b7e69cfab48"
      },
      "execution_count": null,
      "outputs": [
        {
          "output_type": "execute_result",
          "data": {
            "text/plain": [
              "16"
            ]
          },
          "metadata": {},
          "execution_count": 33
        }
      ]
    },
    {
      "cell_type": "code",
      "source": [
        "int.from_bytes(b'\\x0f\\x1a', byteorder='big')"
      ],
      "metadata": {
        "colab": {
          "base_uri": "https://localhost:8080/"
        },
        "id": "vKRtmk_d2rzD",
        "outputId": "8a307641-6137-4976-f3b4-abd32baf0ff8"
      },
      "execution_count": null,
      "outputs": [
        {
          "output_type": "execute_result",
          "data": {
            "text/plain": [
              "3866"
            ]
          },
          "metadata": {},
          "execution_count": 34
        }
      ]
    },
    {
      "cell_type": "markdown",
      "source": [
        "######**byteorder = 'little'**"
      ],
      "metadata": {
        "id": "8DTrPO0t76V_"
      }
    },
    {
      "cell_type": "code",
      "source": [
        "int.from_bytes(b'\\x00\\x10', byteorder='little')"
      ],
      "metadata": {
        "colab": {
          "base_uri": "https://localhost:8080/"
        },
        "id": "CIPIwwax711l",
        "outputId": "6973d7f9-22ea-4d03-956d-7e7965ebfa24"
      },
      "execution_count": null,
      "outputs": [
        {
          "output_type": "execute_result",
          "data": {
            "text/plain": [
              "4096"
            ]
          },
          "metadata": {},
          "execution_count": 35
        }
      ]
    },
    {
      "cell_type": "code",
      "source": [
        "int.from_bytes(b'\\x0f\\x1a', byteorder='little')"
      ],
      "metadata": {
        "colab": {
          "base_uri": "https://localhost:8080/"
        },
        "id": "wnsgTx6X6H47",
        "outputId": "ab02bb4d-3f3a-42db-9892-f41aa6bc7d6d"
      },
      "execution_count": null,
      "outputs": [
        {
          "output_type": "execute_result",
          "data": {
            "text/plain": [
              "6671"
            ]
          },
          "metadata": {},
          "execution_count": 36
        }
      ]
    },
    {
      "cell_type": "markdown",
      "source": [
        "######**signed = True**"
      ],
      "metadata": {
        "id": "1dE5_WY28Ysb"
      }
    },
    {
      "cell_type": "code",
      "source": [
        "int.from_bytes(b'\\x90\\x10', byteorder='big' , signed=True)"
      ],
      "metadata": {
        "colab": {
          "base_uri": "https://localhost:8080/"
        },
        "outputId": "8aa4faca-da17-400b-94ba-8f0267452b79",
        "id": "Y2drMguX8iCQ"
      },
      "execution_count": null,
      "outputs": [
        {
          "output_type": "execute_result",
          "data": {
            "text/plain": [
              "-28656"
            ]
          },
          "metadata": {},
          "execution_count": 37
        }
      ]
    },
    {
      "cell_type": "code",
      "source": [
        "int.from_bytes(b'\\x1f\\x1a', byteorder='big', signed=True)"
      ],
      "metadata": {
        "colab": {
          "base_uri": "https://localhost:8080/"
        },
        "outputId": "6fd0527a-b97c-4d54-dc13-97016cee5b9b",
        "id": "fdDP08_68iCW"
      },
      "execution_count": null,
      "outputs": [
        {
          "output_type": "execute_result",
          "data": {
            "text/plain": [
              "7962"
            ]
          },
          "metadata": {},
          "execution_count": 38
        }
      ]
    },
    {
      "cell_type": "code",
      "source": [
        "int.from_bytes(b'\\x12\\x80', byteorder='little' , signed=True)"
      ],
      "metadata": {
        "colab": {
          "base_uri": "https://localhost:8080/"
        },
        "id": "6WiE-kPT9Eiw",
        "outputId": "e2edb6c5-f790-48c5-a161-0a2605838711"
      },
      "execution_count": null,
      "outputs": [
        {
          "output_type": "execute_result",
          "data": {
            "text/plain": [
              "-32750"
            ]
          },
          "metadata": {},
          "execution_count": 39
        }
      ]
    },
    {
      "cell_type": "code",
      "source": [
        "int.from_bytes(b'\\x12\\x70', byteorder='little' , signed=True)"
      ],
      "metadata": {
        "colab": {
          "base_uri": "https://localhost:8080/"
        },
        "id": "BBSbRk3w9kkm",
        "outputId": "13c5f9fe-20a8-423b-fdbd-9dddbc90d959"
      },
      "execution_count": null,
      "outputs": [
        {
          "output_type": "execute_result",
          "data": {
            "text/plain": [
              "28690"
            ]
          },
          "metadata": {},
          "execution_count": 40
        }
      ]
    },
    {
      "cell_type": "markdown",
      "source": [
        "#####**int.to_bytes()**\n",
        "* *Return an array of bytes representing an integer.*\n",
        "* *Syntax:*\n",
        "\n",
        "&nbsp;&nbsp;&nbsp;&nbsp;&nbsp;&nbsp;&nbsp;&nbsp;&nbsp;&nbsp; <i>int.to_bytes( length , byteorder , * , signed = False )</i>\n",
        "\n",
        "---\n",
        "\n",
        "|  Argument | Description  |\n",
        "|---|---|\n",
        "| length |   Takes no of bytes. An <b>OverflowError</b> is raised if the integer is not representable with the given number of bytes. |\n",
        "|  byteorder | Used to represent the integer. <li> If byteorder is <b>\"big\"</b>, the most significant byte is at the beginning of the byte array.</li><li> If byteorder is <b>\"little\"</b>, the most significant byte is at the end of the byte array. To request the native byte order of the host system, use sys.byteorder as the byte order value.</li>  |\n",
        "|  signed | Determines whether two’s complement is used to represent the integer. If signed is <b>False</b> and a negative integer is given, an <b>OverflowError</b> is raised. The default value for signed is False.\n",
        " |\n",
        "\n",
        "---\n",
        "* *Example:*\n",
        "```python\n",
        ">>> (1024).to_bytes(2, byteorder='big')\n",
        "b'\\x04\\x00'\n",
        ">>> (1024).to_bytes(10, byteorder='big')\n",
        "b'\\x00\\x00\\x00\\x00\\x00\\x00\\x00\\x00\\x04\\x00'\n",
        ">>> (-1024).to_bytes(10, byteorder='big', signed=True)\n",
        "b'\\xff\\xff\\xff\\xff\\xff\\xff\\xff\\xff\\xfc\\x00'\n",
        "x = 1000\n",
        ">>> x.to_bytes((x.bit_length() + 7) // 8, byteorder='little')\n",
        "b'\\xe8\\x03'\n",
        "```"
      ],
      "metadata": {
        "id": "xP14N6bhE4GJ"
      }
    },
    {
      "cell_type": "code",
      "source": [
        "(1024).to_bytes(2, byteorder='big')"
      ],
      "metadata": {
        "colab": {
          "base_uri": "https://localhost:8080/"
        },
        "id": "m5sEA34nHZ0L",
        "outputId": "e82664ca-f585-4949-ceaa-bf6d854a49ec"
      },
      "execution_count": null,
      "outputs": [
        {
          "output_type": "execute_result",
          "data": {
            "text/plain": [
              "b'\\x04\\x00'"
            ]
          },
          "metadata": {},
          "execution_count": 41
        }
      ]
    },
    {
      "cell_type": "code",
      "source": [
        "(1024).to_bytes(8, byteorder='big')"
      ],
      "metadata": {
        "colab": {
          "base_uri": "https://localhost:8080/"
        },
        "id": "GdLtPoutJWPN",
        "outputId": "1aff2b36-9383-4f9b-bc1d-09fca822ed52"
      },
      "execution_count": null,
      "outputs": [
        {
          "output_type": "execute_result",
          "data": {
            "text/plain": [
              "b'\\x00\\x00\\x00\\x00\\x00\\x00\\x04\\x00'"
            ]
          },
          "metadata": {},
          "execution_count": 42
        }
      ]
    },
    {
      "cell_type": "code",
      "source": [
        "(1024).to_bytes(2, byteorder='little')"
      ],
      "metadata": {
        "colab": {
          "base_uri": "https://localhost:8080/"
        },
        "id": "TtUvqjI_J4BW",
        "outputId": "b1cde8d7-0199-4782-d892-9dd9d0074779"
      },
      "execution_count": null,
      "outputs": [
        {
          "output_type": "execute_result",
          "data": {
            "text/plain": [
              "b'\\x00\\x04'"
            ]
          },
          "metadata": {},
          "execution_count": 43
        }
      ]
    },
    {
      "cell_type": "code",
      "source": [
        "(-2022).to_bytes(2, byteorder='little' , signed = True)"
      ],
      "metadata": {
        "colab": {
          "base_uri": "https://localhost:8080/"
        },
        "id": "liGklVF2KBDJ",
        "outputId": "5aae9f65-9448-4daa-b979-e452f65c3df0"
      },
      "execution_count": null,
      "outputs": [
        {
          "output_type": "execute_result",
          "data": {
            "text/plain": [
              "b'\\x1a\\xf8'"
            ]
          },
          "metadata": {},
          "execution_count": 44
        }
      ]
    },
    {
      "cell_type": "code",
      "source": [
        "(-2022).to_bytes(2, byteorder='big' , signed = True)"
      ],
      "metadata": {
        "colab": {
          "base_uri": "https://localhost:8080/"
        },
        "id": "zIgsAKMjKFky",
        "outputId": "18c0dc73-bcb0-4aec-94b3-c43ba7c450bc"
      },
      "execution_count": null,
      "outputs": [
        {
          "output_type": "execute_result",
          "data": {
            "text/plain": [
              "b'\\xf8\\x1a'"
            ]
          },
          "metadata": {},
          "execution_count": 45
        }
      ]
    },
    {
      "cell_type": "markdown",
      "source": [
        "* **gives error**"
      ],
      "metadata": {
        "id": "2Jp6htM_KMJr"
      }
    },
    {
      "cell_type": "code",
      "source": [
        "(-2022).to_bytes(2, byteorder='little')  # signed is false and number is negative"
      ],
      "metadata": {
        "colab": {
          "base_uri": "https://localhost:8080/",
          "height": 165
        },
        "id": "Y-JZZ-hUJ9SH",
        "outputId": "cf700279-1fc0-4932-c28d-e21270de28c5"
      },
      "execution_count": null,
      "outputs": [
        {
          "output_type": "error",
          "ename": "OverflowError",
          "evalue": "ignored",
          "traceback": [
            "\u001b[0;31m---------------------------------------------------------------------------\u001b[0m",
            "\u001b[0;31mOverflowError\u001b[0m                             Traceback (most recent call last)",
            "\u001b[0;32m<ipython-input-47-57f0cb739277>\u001b[0m in \u001b[0;36m<module>\u001b[0;34m()\u001b[0m\n\u001b[0;32m----> 1\u001b[0;31m \u001b[0;34m(\u001b[0m\u001b[0;34m-\u001b[0m\u001b[0;36m2022\u001b[0m\u001b[0;34m)\u001b[0m\u001b[0;34m.\u001b[0m\u001b[0mto_bytes\u001b[0m\u001b[0;34m(\u001b[0m\u001b[0;36m2\u001b[0m\u001b[0;34m,\u001b[0m \u001b[0mbyteorder\u001b[0m\u001b[0;34m=\u001b[0m\u001b[0;34m'little'\u001b[0m\u001b[0;34m)\u001b[0m  \u001b[0;31m# signed is false and number is negative\u001b[0m\u001b[0;34m\u001b[0m\u001b[0;34m\u001b[0m\u001b[0m\n\u001b[0m",
            "\u001b[0;31mOverflowError\u001b[0m: can't convert negative int to unsigned"
          ]
        }
      ]
    },
    {
      "cell_type": "code",
      "source": [
        "(69420).to_bytes(2, byteorder='big')    # overflow due to small byte length"
      ],
      "metadata": {
        "id": "rd4RI54Xzq0b",
        "colab": {
          "base_uri": "https://localhost:8080/",
          "height": 165
        },
        "outputId": "7ed0f432-113a-4a9d-a433-de10c394368b"
      },
      "execution_count": null,
      "outputs": [
        {
          "output_type": "error",
          "ename": "OverflowError",
          "evalue": "ignored",
          "traceback": [
            "\u001b[0;31m---------------------------------------------------------------------------\u001b[0m",
            "\u001b[0;31mOverflowError\u001b[0m                             Traceback (most recent call last)",
            "\u001b[0;32m<ipython-input-48-24cc5caf983c>\u001b[0m in \u001b[0;36m<module>\u001b[0;34m()\u001b[0m\n\u001b[0;32m----> 1\u001b[0;31m \u001b[0;34m(\u001b[0m\u001b[0;36m69420\u001b[0m\u001b[0;34m)\u001b[0m\u001b[0;34m.\u001b[0m\u001b[0mto_bytes\u001b[0m\u001b[0;34m(\u001b[0m\u001b[0;36m2\u001b[0m\u001b[0;34m,\u001b[0m \u001b[0mbyteorder\u001b[0m\u001b[0;34m=\u001b[0m\u001b[0;34m'big'\u001b[0m\u001b[0;34m)\u001b[0m    \u001b[0;31m# overflow due to small byte length\u001b[0m\u001b[0;34m\u001b[0m\u001b[0;34m\u001b[0m\u001b[0m\n\u001b[0m",
            "\u001b[0;31mOverflowError\u001b[0m: int too big to convert"
          ]
        }
      ]
    },
    {
      "cell_type": "markdown",
      "source": [
        "* **other example**"
      ],
      "metadata": {
        "id": "OS8aKLYMUACy"
      }
    },
    {
      "cell_type": "code",
      "source": [
        "(-23).bit_length()"
      ],
      "metadata": {
        "id": "36YP7UZAUACy"
      },
      "execution_count": null,
      "outputs": []
    },
    {
      "cell_type": "markdown",
      "source": [
        "* **gives error**"
      ],
      "metadata": {
        "id": "6RClMn9qUACz"
      }
    },
    {
      "cell_type": "markdown",
      "source": [
        "#####**some exist function in integer**\n",
        "\n",
        "1. **int .numerator**\n",
        " * *Here **numerator of every integer is same value** it is useful in **floating , fraction number** but still you can use this function in integer*\n",
        "\n",
        "2. **int .denominator**\n",
        " * *Here **denominator of every integer is one** it is useful in **floating , fraction number** but still you can use this function in integer*\n",
        "\n",
        "3. **int .conjugate()**\n",
        " * *Here **conjugate of every integer is same value** it is useful in **complex number** but still you can use this function in integer*\n",
        "\n",
        "4. **int .real**\n",
        " * *Here **real number of every integer is same value** it is useful in **complex number** but still you can use this function in integer*\n",
        "\n",
        "5. **int .imag**\n",
        " * *Here **imaginary number of every integer is zero** it is useful in **complex number** but still you can use this function in integer*"
      ],
      "metadata": {
        "id": "yCe9WeRlLgq6"
      }
    },
    {
      "cell_type": "code",
      "source": [
        "# Numerator\n",
        "\n",
        "print( 2 .numerator)\n",
        "print( (-23).numerator)\n",
        "x = 45\n",
        "x.numerator"
      ],
      "metadata": {
        "colab": {
          "base_uri": "https://localhost:8080/"
        },
        "id": "dXa_AiO4RbVi",
        "outputId": "0f3421e8-2db7-4d01-9b3e-0a3fadac2674"
      },
      "execution_count": null,
      "outputs": [
        {
          "output_type": "stream",
          "name": "stdout",
          "text": [
            "2\n",
            "-23\n"
          ]
        },
        {
          "output_type": "execute_result",
          "data": {
            "text/plain": [
              "45"
            ]
          },
          "metadata": {},
          "execution_count": 54
        }
      ]
    },
    {
      "cell_type": "code",
      "source": [
        "# Denominator\n",
        "print( 2 .denominator)\n",
        "print( (-23).denominator)\n",
        "x = 45\n",
        "x.denominator"
      ],
      "metadata": {
        "colab": {
          "base_uri": "https://localhost:8080/"
        },
        "id": "cAKPW8VKRL1b",
        "outputId": "97f7297c-e355-4afa-d5d2-01d9b7d77edb"
      },
      "execution_count": null,
      "outputs": [
        {
          "output_type": "stream",
          "name": "stdout",
          "text": [
            "1\n",
            "1\n"
          ]
        },
        {
          "output_type": "execute_result",
          "data": {
            "text/plain": [
              "1"
            ]
          },
          "metadata": {},
          "execution_count": 55
        }
      ]
    },
    {
      "cell_type": "code",
      "source": [
        "# Conjugate\n",
        "\n",
        "print( 2 .conjugate() )\n",
        "print( (-23).conjugate() )\n",
        "x = 45\n",
        "x.conjugate()"
      ],
      "metadata": {
        "colab": {
          "base_uri": "https://localhost:8080/"
        },
        "id": "o5ewtpnJLwg-",
        "outputId": "f37999aa-afb3-407c-f7ed-32b63bd9a99e"
      },
      "execution_count": null,
      "outputs": [
        {
          "output_type": "stream",
          "name": "stdout",
          "text": [
            "2\n",
            "-23\n"
          ]
        },
        {
          "output_type": "execute_result",
          "data": {
            "text/plain": [
              "45"
            ]
          },
          "metadata": {},
          "execution_count": 56
        }
      ]
    },
    {
      "cell_type": "code",
      "source": [
        "# Real\n",
        "\n",
        "print( 2 .real )\n",
        "print( (-23).real )\n",
        "x = 45\n",
        "x.real"
      ],
      "metadata": {
        "colab": {
          "base_uri": "https://localhost:8080/"
        },
        "id": "EAbZD5PpNlOx",
        "outputId": "5c1a67b2-4cee-4982-da48-257580377383"
      },
      "execution_count": null,
      "outputs": [
        {
          "output_type": "stream",
          "name": "stdout",
          "text": [
            "2\n",
            "-23\n"
          ]
        },
        {
          "output_type": "execute_result",
          "data": {
            "text/plain": [
              "45"
            ]
          },
          "metadata": {},
          "execution_count": 57
        }
      ]
    },
    {
      "cell_type": "code",
      "source": [
        "# Imaginary\n",
        "\n",
        "print( 2 .imag )\n",
        "print( (-23).imag )\n",
        "x = 45\n",
        "x.imag"
      ],
      "metadata": {
        "colab": {
          "base_uri": "https://localhost:8080/"
        },
        "id": "ebtj_VKPNvlM",
        "outputId": "a65e06ec-79a1-4f06-8928-f2232007d60d"
      },
      "execution_count": null,
      "outputs": [
        {
          "output_type": "stream",
          "name": "stdout",
          "text": [
            "0\n",
            "0\n"
          ]
        },
        {
          "output_type": "execute_result",
          "data": {
            "text/plain": [
              "0"
            ]
          },
          "metadata": {},
          "execution_count": 58
        }
      ]
    },
    {
      "cell_type": "code",
      "source": [
        "22 .imag"
      ],
      "metadata": {
        "colab": {
          "base_uri": "https://localhost:8080/"
        },
        "id": "qnf0vIXfL8rs",
        "outputId": "ce169d41-506a-4211-e551-3922b5a8ac02"
      },
      "execution_count": null,
      "outputs": [
        {
          "output_type": "execute_result",
          "data": {
            "text/plain": [
              "0"
            ]
          },
          "metadata": {},
          "execution_count": 59
        }
      ]
    },
    {
      "cell_type": "code",
      "source": [
        "a = float('nan')\n",
        "a!=a"
      ],
      "metadata": {
        "colab": {
          "base_uri": "https://localhost:8080/"
        },
        "id": "vGh1H5-VPiFO",
        "outputId": "283a891a-55f9-49e8-8c3f-b85a2e496055"
      },
      "execution_count": null,
      "outputs": [
        {
          "output_type": "execute_result",
          "data": {
            "text/plain": [
              "True"
            ]
          },
          "metadata": {},
          "execution_count": 4
        }
      ]
    },
    {
      "cell_type": "code",
      "source": [
        ""
      ],
      "metadata": {
        "id": "d56QpCszPt5v"
      },
      "execution_count": null,
      "outputs": []
    }
  ]
}