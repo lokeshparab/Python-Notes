{
  "nbformat": 4,
  "nbformat_minor": 0,
  "metadata": {
    "colab": {
      "name": "Python Basic Datatypes Interger.ipynb",
      "provenance": [],
      "collapsed_sections": [
        "kFEl_lMejSnA"
      ],
      "toc_visible": true,
      "authorship_tag": "ABX9TyPjhZukRLFPMHbQKJWeI3lu",
      "include_colab_link": true
    },
    "kernelspec": {
      "name": "python3",
      "display_name": "Python 3"
    },
    "language_info": {
      "name": "python"
    }
  },
  "cells": [
    {
      "cell_type": "markdown",
      "metadata": {
        "id": "view-in-github",
        "colab_type": "text"
      },
      "source": [
        "<a href=\"https://colab.research.google.com/github/lokeshparab/Python-Notes/blob/main/Python_Basic_Datatypes_Interger.ipynb\" target=\"_parent\"><img src=\"https://colab.research.google.com/assets/colab-badge.svg\" alt=\"Open In Colab\"/></a>"
      ]
    },
    {
      "cell_type": "markdown",
      "source": [
        "#**DATATYPES**\n",
        "\n",
        "\n",
        "<ol type=\"1\">\n",
        "\n",
        "  <li><b>Numberic</b></li>\n",
        "\n",
        "  <ol type=\"i\">\n",
        "  <li><b>Integer</b></li>\n",
        "  <li><b>Complex Number</b></li>\n",
        "  <li><b>Float</b></li>\n",
        "  </ol>\n",
        "\n",
        "  <li><b>Dictionary</b></li>\n",
        "\n",
        "  <li><b>Boolean</b></li>\n",
        "\n",
        "  <li><b>Set</b></li>\n",
        "\n",
        "  <li><b>Sequence Type</b></li>\n",
        "\n",
        "  <ol type=\"i\">\n",
        "  <li><b>Strings</b></li>\n",
        "  <li><b>List</b></li>\n",
        "  <li><b>Tuple</b></li>\n",
        "  </ol>\n",
        "\n",
        "</ol>\n",
        "\n",
        "\n",
        "![alt text](https://media.geeksforgeeks.org/wp-content/uploads/20191023173512/Python-data-structure.jpg)"
      ],
      "metadata": {
        "id": "kFEl_lMejSnA"
      }
    },
    {
      "cell_type": "markdown",
      "source": [
        "#**Numeric**"
      ],
      "metadata": {
        "id": "0pr-C_UZ2nrT"
      }
    },
    {
      "cell_type": "markdown",
      "source": [
        "##**INTEGER (int)**\n",
        "\n",
        "* *Int, or integer, is a whole number, positive or negative, without decimals, of unlimited length.*\n",
        "\n",
        "* *For example: 1, 99 , -22 , 0*\n",
        "\n",
        "\n",
        "###**type()**\n",
        "This function return the datatype of object when you pass argument\n",
        "<hr>\n",
        "\n",
        "*Syntax:*\n",
        "```python\n",
        "type(69)              #return int\n",
        "type(69.69)           #return float\n",
        "type( [69,420] )      #return list\n",
        "type( (69,420) )      #return tuple\n",
        "```\n",
        "<hr>\n",
        "\n",
        "**See below example to see datatype of number**\n",
        "\n",
        "\n"
      ],
      "metadata": {
        "id": "eMStU8dygyru"
      }
    },
    {
      "cell_type": "code",
      "execution_count": null,
      "metadata": {
        "colab": {
          "base_uri": "https://localhost:8080/"
        },
        "id": "RcLVuNwogp3N",
        "outputId": "395015f6-a71e-45d3-8108-48bdbe21b620"
      },
      "outputs": [
        {
          "output_type": "execute_result",
          "data": {
            "text/plain": [
              "int"
            ]
          },
          "metadata": {},
          "execution_count": 2
        }
      ],
      "source": [
        "type(1)"
      ]
    },
    {
      "cell_type": "code",
      "source": [
        "type(99)"
      ],
      "metadata": {
        "id": "htnIm3j9iQhS",
        "colab": {
          "base_uri": "https://localhost:8080/"
        },
        "outputId": "05af8656-8144-4443-c2ef-0b86b7dc7972"
      },
      "execution_count": null,
      "outputs": [
        {
          "output_type": "execute_result",
          "data": {
            "text/plain": [
              "int"
            ]
          },
          "metadata": {},
          "execution_count": 2
        }
      ]
    },
    {
      "cell_type": "code",
      "source": [
        "type(-22)"
      ],
      "metadata": {
        "id": "QXlsYgjBiSA4",
        "colab": {
          "base_uri": "https://localhost:8080/"
        },
        "outputId": "4d39ac88-b79a-459e-d018-8dbfed16a800"
      },
      "execution_count": null,
      "outputs": [
        {
          "output_type": "execute_result",
          "data": {
            "text/plain": [
              "int"
            ]
          },
          "metadata": {},
          "execution_count": 3
        }
      ]
    },
    {
      "cell_type": "code",
      "source": [
        "type(0)"
      ],
      "metadata": {
        "id": "fDqoTtNniTOb",
        "colab": {
          "base_uri": "https://localhost:8080/"
        },
        "outputId": "538fdcf6-13ed-4b3e-df96-13a7c56611f9"
      },
      "execution_count": null,
      "outputs": [
        {
          "output_type": "execute_result",
          "data": {
            "text/plain": [
              "int"
            ]
          },
          "metadata": {},
          "execution_count": 1
        }
      ]
    },
    {
      "cell_type": "code",
      "source": [
        "# writing integer inside curly brace '()' is also integer\n",
        "print( (45) )\n",
        "\n",
        "x =  (45)\n",
        "print(x)\n",
        "\n",
        "type( (45 ) )"
      ],
      "metadata": {
        "colab": {
          "base_uri": "https://localhost:8080/"
        },
        "id": "O50KiRz-IYYm",
        "outputId": "86754523-c1df-4a15-ae53-33d29cbaaeb1"
      },
      "execution_count": 15,
      "outputs": [
        {
          "output_type": "stream",
          "name": "stdout",
          "text": [
            "45\n",
            "45\n"
          ]
        },
        {
          "output_type": "execute_result",
          "data": {
            "text/plain": [
              "int"
            ]
          },
          "metadata": {},
          "execution_count": 15
        }
      ]
    },
    {
      "cell_type": "markdown",
      "source": [
        "###**Number System**\n",
        "*In **python** integer can be also be represent in:*\n",
        "\n",
        "<ol type=\"1\">\n",
        "\n",
        "  <li><b>Binary</b></li>\n",
        "\n",
        "  <p><i>A number having <b>0b</b> as prefix with combination of 0 and 1 represent the <u>binary numbers</u></i></p>\n",
        "<hr>\n",
        "<ul type='circle'>\n",
        "<li><i>Syntax:</i></li>\n",
        "\n",
        "```python\n",
        ">>> b=0b01101101\n",
        ">>> b\n",
        "109\n",
        ">>> b=0B01101101\n",
        ">>> b\n",
        "109\n",
        ">>> b=0b_0110_1101\n",
        ">>> b\n",
        "109\n",
        ">>> b=0B_0110_1101\n",
        ">>> b\n",
        "109\n",
        "```\n",
        "</ul>\n",
        "<hr>\n",
        "  <li><b>Octal</b></li>\n",
        "\n",
        "  <p><i>A number having <b>0o</b> or <b>0O</b> as prefix with combination of from 0 to 7  represents an <u>octal number</u></i></p>\n",
        "<hr>\n",
        "<ul type='circle'>\n",
        "<li><i>Syntax:</i></li>\n",
        "\n",
        "```python\n",
        ">>> x=0o12\n",
        ">>> x\n",
        "10\n",
        ">>> x=0O12\n",
        ">>> x\n",
        "10\n",
        ">>> x=0o_0172_3654\n",
        ">>> x\n",
        "501676\n",
        ">>> x=0O_0172_3654\n",
        ">>> x\n",
        "501676\n",
        "```\n",
        "</ul>\n",
        "<hr>\n",
        "  <li><b>Hexadecimal</b></li>\n",
        "\n",
        "  <p><i>A number having <b>0x</b> or <b>0X</b> as prefix with combination of from 0 to 9 and then A-10 to F-15  represents an <u>hexadecimal number</u></i></p>\n",
        "<hr>\n",
        "<ul type='circle'>\n",
        "<li><i>Syntax:</i></li>\n",
        "\n",
        "```python\n",
        ">>> x=0x12\n",
        ">>> x\n",
        "18\n",
        ">>> x=0X12\n",
        ">>> x\n",
        "18\n",
        ">>> x=0x_0A28_D3F9\n",
        ">>> x\n",
        "170447865\n",
        ">>> x=0X_0A28_D3F9\n",
        ">>> x\n",
        "170447865\n",
        "```\n",
        "</ul>\n",
        "<hr>\n",
        "</ol>\n",
        "\n",
        "**Check out below example**"
      ],
      "metadata": {
        "id": "CnhrFX4g2fCw"
      }
    },
    {
      "cell_type": "code",
      "source": [
        "# Binary\n",
        "\n",
        "b  = 0b01101101\n",
        "B  = 0B01101101\n",
        "\n",
        "b_  = 0b_0110_1101\n",
        "B_  = 0B_0110_1101\n",
        "\n",
        "print( b, B, b_ , B_ ) # return same output as \"109\"\n",
        "\n",
        "x1 = type(b)\n",
        "x2 = type(B)\n",
        "x3 = type(b_)\n",
        "x4 = type(B_)\n",
        "\n",
        "print( x1, x2, x3, x4 ) # return same output as \"<class 'int'>\""
      ],
      "metadata": {
        "colab": {
          "base_uri": "https://localhost:8080/"
        },
        "id": "oHx9XlE01d6T",
        "outputId": "ca940fec-63f7-4602-9e3e-9c78ffa3ffa5"
      },
      "execution_count": null,
      "outputs": [
        {
          "output_type": "stream",
          "name": "stdout",
          "text": [
            "109 109 109 109\n",
            "<class 'int'> <class 'int'> <class 'int'> <class 'int'>\n"
          ]
        }
      ]
    },
    {
      "cell_type": "code",
      "source": [
        "#Octal\n",
        "\n",
        "o  = 0o01723654\n",
        "O  = 0O01723654\n",
        "\n",
        "o_  = 0o_0172_3654\n",
        "O_  = 0O_0172_3654\n",
        "\n",
        "print( o, O, o_ , O_ ) # return same output as \"501676\"\n",
        "\n",
        "x1 = type(o)\n",
        "x2 = type(O)\n",
        "x3 = type(o_)\n",
        "x4 = type(O_)\n",
        "\n",
        "print( x1, x2, x3, x4 ) # return same output as \"<class 'int'>\""
      ],
      "metadata": {
        "colab": {
          "base_uri": "https://localhost:8080/"
        },
        "id": "YPqv9Dk_8Ghg",
        "outputId": "08f8d264-5bbd-461c-9cf6-627c6e82ec83"
      },
      "execution_count": null,
      "outputs": [
        {
          "output_type": "stream",
          "name": "stdout",
          "text": [
            "501676 501676 501676 501676\n",
            "<class 'int'> <class 'int'> <class 'int'> <class 'int'>\n"
          ]
        }
      ]
    },
    {
      "cell_type": "code",
      "source": [
        "#Hexadecimal\n",
        "\n",
        "x  = 0x0A28D3F9\n",
        "X  = 0X0A28D3F9\n",
        "\n",
        "x_  = 0x_0A28_D3F9\n",
        "X_  = 0X_0A28_D3F9\n",
        "\n",
        "print( x, X, x_ , X_ ) # return same output as \"170447865\"\n",
        "\n",
        "x1 = type(x)\n",
        "x2 = type(X)\n",
        "x3 = type(x_)\n",
        "x4 = type(X_)\n",
        "\n",
        "print( x1, x2, x3, x4 ) # return same output as \"<class 'int'>\""
      ],
      "metadata": {
        "colab": {
          "base_uri": "https://localhost:8080/"
        },
        "id": "qU04XPAq9GzR",
        "outputId": "87ded1ad-17f7-4518-93b7-fa1c91d0a546"
      },
      "execution_count": null,
      "outputs": [
        {
          "output_type": "stream",
          "name": "stdout",
          "text": [
            "170447865 170447865 170447865 170447865\n",
            "<class 'int'> <class 'int'> <class 'int'> <class 'int'>\n"
          ]
        }
      ]
    },
    {
      "cell_type": "markdown",
      "source": [
        ""
      ],
      "metadata": {
        "id": "6oNl0I0tVSin"
      }
    },
    {
      "cell_type": "code",
      "source": [
        "x = 0x_00_01_1_111_00\n",
        "x"
      ],
      "metadata": {
        "colab": {
          "base_uri": "https://localhost:8080/"
        },
        "id": "DQvl4XrdVUrs",
        "outputId": "a76ba14f-d367-41a6-ba6e-ff62bbd406fd"
      },
      "execution_count": null,
      "outputs": [
        {
          "output_type": "execute_result",
          "data": {
            "text/plain": [
              "17895680"
            ]
          },
          "metadata": {},
          "execution_count": 41
        }
      ]
    },
    {
      "cell_type": "code",
      "source": [
        "hex(17895680)"
      ],
      "metadata": {
        "colab": {
          "base_uri": "https://localhost:8080/",
          "height": 36
        },
        "id": "O6aUSdkHVlzS",
        "outputId": "dc408087-e306-4c6a-8850-76e2c95681ae"
      },
      "execution_count": null,
      "outputs": [
        {
          "output_type": "execute_result",
          "data": {
            "text/plain": [
              "'0x1111100'"
            ],
            "application/vnd.google.colaboratory.intrinsic+json": {
              "type": "string"
            }
          },
          "metadata": {},
          "execution_count": 42
        }
      ]
    },
    {
      "cell_type": "markdown",
      "source": [
        "###**Inbuilt function**\n"
      ],
      "metadata": {
        "id": "38aeSiLtQBFt"
      }
    },
    {
      "cell_type": "markdown",
      "source": [
        "####**bin(), oct(), hex() function**"
      ],
      "metadata": {
        "id": "eVIiiJG0Twi5"
      }
    },
    {
      "cell_type": "markdown",
      "source": [
        "\n",
        "\n",
        "* **bin(int_no)**\n",
        "\n",
        "*This function takes an integer and returns the binary representation in a string format.*\n",
        "\n",
        "---\n",
        "\n",
        "* *Syntax:*\n",
        "```python\n",
        ">>> bin(109)\n",
        "'0b1101101'\n",
        "```\n",
        "\n",
        "<hr>"
      ],
      "metadata": {
        "id": "hThumpi-RZf6"
      }
    },
    {
      "cell_type": "code",
      "source": [
        " #try by changing any number\n",
        " \n",
        " num = 109  \n",
        " bin(num)"
      ],
      "metadata": {
        "colab": {
          "base_uri": "https://localhost:8080/",
          "height": 36
        },
        "id": "86uQdy2_Dl8i",
        "outputId": "bc91e25a-cfde-4e53-90f3-8ccb4f984d4c"
      },
      "execution_count": null,
      "outputs": [
        {
          "output_type": "execute_result",
          "data": {
            "text/plain": [
              "'0b1101101'"
            ],
            "application/vnd.google.colaboratory.intrinsic+json": {
              "type": "string"
            }
          },
          "metadata": {},
          "execution_count": 32
        }
      ]
    },
    {
      "cell_type": "markdown",
      "source": [
        "* **Other examples**"
      ],
      "metadata": {
        "id": "gFeEePETNKEf"
      }
    },
    {
      "cell_type": "code",
      "source": [
        "bin(-12)"
      ],
      "metadata": {
        "colab": {
          "base_uri": "https://localhost:8080/",
          "height": 36
        },
        "id": "3uvp1O-1NN2X",
        "outputId": "88b06a74-7c3d-48f7-fb65-a504ecd41dff"
      },
      "execution_count": 25,
      "outputs": [
        {
          "output_type": "execute_result",
          "data": {
            "text/plain": [
              "'-0b1100'"
            ],
            "application/vnd.google.colaboratory.intrinsic+json": {
              "type": "string"
            }
          },
          "metadata": {},
          "execution_count": 25
        }
      ]
    },
    {
      "cell_type": "markdown",
      "source": [
        "\n",
        "\n",
        "**oct(int_no)**\n",
        "\n",
        "*This function takes an integer and returns the octal representation in a string format.*\n",
        "\n",
        "<hr>\n",
        "\n",
        "* *Syntax:*\n",
        "```python\n",
        ">>> oct(501676)\n",
        "'0o1723654'\n",
        "```\n",
        "\n",
        "<hr>"
      ],
      "metadata": {
        "id": "mMnqCvryQSJ2"
      }
    },
    {
      "cell_type": "code",
      "source": [
        " #try by changing any number\n",
        " \n",
        " num = 501676  \n",
        " oct(num)"
      ],
      "metadata": {
        "colab": {
          "base_uri": "https://localhost:8080/",
          "height": 36
        },
        "id": "OntTYocABfJF",
        "outputId": "9fb6a9db-3b00-47a8-c936-253d2646cff4"
      },
      "execution_count": null,
      "outputs": [
        {
          "output_type": "execute_result",
          "data": {
            "text/plain": [
              "'0o1723654'"
            ],
            "application/vnd.google.colaboratory.intrinsic+json": {
              "type": "string"
            }
          },
          "metadata": {},
          "execution_count": 33
        }
      ]
    },
    {
      "cell_type": "markdown",
      "source": [
        "**hex(int_no)**\n",
        "\n",
        "*This function takes an integer and returns the hexadecimal representation in a string format.*\n",
        "<hr>\n",
        "\n",
        "* *Syntax:*\n",
        "```python\n",
        ">>> hex(170447865)\n",
        "'0xa28d3f9'\n",
        "```\n",
        "\n",
        "<hr>"
      ],
      "metadata": {
        "id": "-74csVVaSEou"
      }
    },
    {
      "cell_type": "code",
      "source": [
        "#try by changing any number\n",
        "\n",
        "num = 170447865  \n",
        "hex(num)"
      ],
      "metadata": {
        "colab": {
          "base_uri": "https://localhost:8080/",
          "height": 36
        },
        "id": "you3uVVgPyzG",
        "outputId": "64583d99-8894-4021-94c7-6d8346177651"
      },
      "execution_count": null,
      "outputs": [
        {
          "output_type": "execute_result",
          "data": {
            "text/plain": [
              "'0xa28d3f9'"
            ],
            "application/vnd.google.colaboratory.intrinsic+json": {
              "type": "string"
            }
          },
          "metadata": {},
          "execution_count": 34
        }
      ]
    },
    {
      "cell_type": "markdown",
      "source": [
        "####**int()**\n",
        "\n",
        "*The **int()** function will returns an integer object constructed from a float or string let say x, or return 0 if no argum ents are specified.*\n",
        "<hr>\n",
        "\n",
        "* *Syntax*\n",
        "```python\n",
        "int( value, base)\n",
        "int (x, base=10)\n",
        "# by default base value is 10\n",
        "```\n",
        "\n",
        "<hr>\n"
      ],
      "metadata": {
        "id": "Z0eeTenjV6C3"
      }
    },
    {
      "cell_type": "markdown",
      "source": [
        "#####**String to  int**"
      ],
      "metadata": {
        "id": "s018--8RO9RX"
      }
    },
    {
      "cell_type": "code",
      "source": [
        "num = '22'\n",
        "int(num)"
      ],
      "metadata": {
        "colab": {
          "base_uri": "https://localhost:8080/"
        },
        "id": "B8t0uiYMOTn-",
        "outputId": "5f1c8767-a11d-4ee4-b1f0-7752d3752704"
      },
      "execution_count": 1,
      "outputs": [
        {
          "output_type": "execute_result",
          "data": {
            "text/plain": [
              "22"
            ]
          },
          "metadata": {},
          "execution_count": 1
        }
      ]
    },
    {
      "cell_type": "markdown",
      "source": [
        "\n",
        "\n",
        "*   **By changing the base**\n",
        "\n"
      ],
      "metadata": {
        "id": "vLN67aIbPg_M"
      }
    },
    {
      "cell_type": "code",
      "source": [
        "# binary\n",
        "num = '1011'\n",
        "base = 2\n",
        "\n",
        "int(num,base)"
      ],
      "metadata": {
        "colab": {
          "base_uri": "https://localhost:8080/"
        },
        "id": "yqHdEsOEPgMG",
        "outputId": "08bf18ab-11ef-4a34-93d8-e8ba810077a0"
      },
      "execution_count": 10,
      "outputs": [
        {
          "output_type": "execute_result",
          "data": {
            "text/plain": [
              "11"
            ]
          },
          "metadata": {},
          "execution_count": 10
        }
      ]
    },
    {
      "cell_type": "code",
      "source": [
        "#octal\n",
        "num = '7421'\n",
        "base = 8\n",
        "\n",
        "int(num,base)"
      ],
      "metadata": {
        "colab": {
          "base_uri": "https://localhost:8080/"
        },
        "id": "o7J7t6VwQJle",
        "outputId": "595c723b-ef19-46aa-8126-4b557182241e"
      },
      "execution_count": 12,
      "outputs": [
        {
          "output_type": "execute_result",
          "data": {
            "text/plain": [
              "3857"
            ]
          },
          "metadata": {},
          "execution_count": 12
        }
      ]
    },
    {
      "cell_type": "code",
      "source": [
        "#hexadecimal\n",
        "num = 'A04E'\n",
        "base = 16\n",
        "\n",
        "int(num,base)"
      ],
      "metadata": {
        "colab": {
          "base_uri": "https://localhost:8080/"
        },
        "id": "CuqKLBfYP-8R",
        "outputId": "25d6beae-c42a-42ef-8fd6-6a032ae32702"
      },
      "execution_count": 11,
      "outputs": [
        {
          "output_type": "execute_result",
          "data": {
            "text/plain": [
              "41038"
            ]
          },
          "metadata": {},
          "execution_count": 11
        }
      ]
    },
    {
      "cell_type": "code",
      "source": [
        "# try it yourself\n",
        "\n",
        "num  =  int(input(\"Enter the number: \"))\n",
        "base =  int(input(\"Enter the base: \")) \n",
        "int(num,base)"
      ],
      "metadata": {
        "id": "vLgmJ9BwQUIr"
      },
      "execution_count": null,
      "outputs": []
    },
    {
      "cell_type": "markdown",
      "source": [
        "* **gives error**"
      ],
      "metadata": {
        "id": "tuKYepyGQ1Oz"
      }
    },
    {
      "cell_type": "code",
      "source": [
        "int('Hello') #gives error"
      ],
      "metadata": {
        "id": "I54A3NHXPMWU"
      },
      "execution_count": null,
      "outputs": []
    },
    {
      "cell_type": "markdown",
      "source": [
        "#####**Float to int**"
      ],
      "metadata": {
        "id": "CLWOSOJaPWNO"
      }
    },
    {
      "cell_type": "code",
      "source": [
        "num = 3.14\n",
        "int(3.14)"
      ],
      "metadata": {
        "colab": {
          "base_uri": "https://localhost:8080/"
        },
        "id": "Htd_cmsBOWS7",
        "outputId": "28d50a77-c620-4a0e-dc4a-38e3029b352e"
      },
      "execution_count": 13,
      "outputs": [
        {
          "output_type": "execute_result",
          "data": {
            "text/plain": [
              "3"
            ]
          },
          "metadata": {},
          "execution_count": 13
        }
      ]
    },
    {
      "cell_type": "markdown",
      "source": [
        "* **gives error**"
      ],
      "metadata": {
        "id": "0hK7L2ZuTppV"
      }
    },
    {
      "cell_type": "code",
      "source": [
        "num = 3.14\n",
        "base = 5\n",
        "\n",
        "int(num,base) # gives error"
      ],
      "metadata": {
        "id": "BjOS2UHySVxY"
      },
      "execution_count": null,
      "outputs": []
    },
    {
      "cell_type": "markdown",
      "source": [
        "#####**int .bit_length()**\n",
        "\n",
        "* *bit_length function gives no of digit present in binary form*\n",
        "* <i>For example: **23** in binary is **(10111)<font size='1'>2</font>** hence length is **5**</i>\n",
        "\n",
        "---\n",
        "<ul type='circle'>\n",
        "<li><i>Syntax:</i></li>\n",
        "\n",
        "```python\n",
        ">>> (23).bit_length()\n",
        "5\n",
        ">>> 23 .bit_length()\n",
        "5\n",
        ">>> x = 23\n",
        ">>> x.bit_length()\n",
        "5\n",
        "```\n",
        "</ul>\n",
        "\n",
        "---\n"
      ],
      "metadata": {
        "id": "I1BH-TMfDUg-"
      }
    },
    {
      "cell_type": "code",
      "source": [
        "# 1st method\n",
        "\n",
        "(23).bit_length()"
      ],
      "metadata": {
        "colab": {
          "base_uri": "https://localhost:8080/"
        },
        "id": "xxfwcS82Htxy",
        "outputId": "b2b03f8c-7fc9-4a83-cd4b-5764753efe17"
      },
      "execution_count": 11,
      "outputs": [
        {
          "output_type": "execute_result",
          "data": {
            "text/plain": [
              "5"
            ]
          },
          "metadata": {},
          "execution_count": 11
        }
      ]
    },
    {
      "cell_type": "code",
      "source": [
        "#2nd method\n",
        "\n",
        "23 .bit_length()"
      ],
      "metadata": {
        "colab": {
          "base_uri": "https://localhost:8080/"
        },
        "id": "I5pu2mqHJifc",
        "outputId": "023e65f4-e276-4785-90b2-c41eeaf088e1"
      },
      "execution_count": 18,
      "outputs": [
        {
          "output_type": "execute_result",
          "data": {
            "text/plain": [
              "5"
            ]
          },
          "metadata": {},
          "execution_count": 18
        }
      ]
    },
    {
      "cell_type": "code",
      "source": [
        "# 3rd method\n",
        "\n",
        "num = 23\n",
        "num.bit_length()"
      ],
      "metadata": {
        "colab": {
          "base_uri": "https://localhost:8080/"
        },
        "id": "JGN8W0VTH-qU",
        "outputId": "28541859-926c-4bd7-c979-a87e7f8dab05"
      },
      "execution_count": 12,
      "outputs": [
        {
          "output_type": "execute_result",
          "data": {
            "text/plain": [
              "5"
            ]
          },
          "metadata": {},
          "execution_count": 12
        }
      ]
    },
    {
      "cell_type": "markdown",
      "source": [
        "* **other example**"
      ],
      "metadata": {
        "id": "Swg3MHEhM5qx"
      }
    },
    {
      "cell_type": "code",
      "source": [
        "(-23).bit_length()"
      ],
      "metadata": {
        "colab": {
          "base_uri": "https://localhost:8080/"
        },
        "id": "VpUDrcVyM80I",
        "outputId": "091ca09f-04ef-4a7f-9e76-4bd58a5931bb"
      },
      "execution_count": 24,
      "outputs": [
        {
          "output_type": "execute_result",
          "data": {
            "text/plain": [
              "5"
            ]
          },
          "metadata": {},
          "execution_count": 24
        }
      ]
    },
    {
      "cell_type": "markdown",
      "source": [
        "* **gives error**"
      ],
      "metadata": {
        "id": "RmgMnbcgJL31"
      }
    },
    {
      "cell_type": "code",
      "source": [
        "23.bit_length()  # because there is no space between integer and dot"
      ],
      "metadata": {
        "id": "IyX_R1L_JRSV"
      },
      "execution_count": null,
      "outputs": []
    },
    {
      "cell_type": "code",
      "source": [
        "23 .bit_length()  #correct above by adding space (same as 2nd method)"
      ],
      "metadata": {
        "colab": {
          "base_uri": "https://localhost:8080/"
        },
        "id": "Wv7VsB08J_VR",
        "outputId": "6b9e8238-83a1-4472-dd42-592d8351ff88"
      },
      "execution_count": 20,
      "outputs": [
        {
          "output_type": "execute_result",
          "data": {
            "text/plain": [
              "5"
            ]
          },
          "metadata": {},
          "execution_count": 20
        }
      ]
    },
    {
      "cell_type": "markdown",
      "source": [
        "#####**int .bit_count()**\n",
        "* *Return the **number of ones** in the binary representation of the absolute value of the integer.*\n",
        "\n",
        "* <i>For example: **23** in binary is **(10111)<font size='1'>2</font>** &nbsp; has **4** ones.</i>\n",
        "\n",
        "---\n",
        "\n",
        "<ul type='circle'>\n",
        "<li><i>Syntax:</i></li>\n",
        "\n",
        "```python\n",
        ">>> (23).bit_length()\n",
        "5\n",
        ">>> 23 .bit_length()\n",
        "5\n",
        ">>> x = 23\n",
        ">>> x.bit_length()\n",
        "5\n",
        "```\n",
        "</ul>\n",
        "\n",
        "---"
      ],
      "metadata": {
        "id": "LbHB7J-JO5i4"
      }
    },
    {
      "cell_type": "code",
      "source": [
        "# 1st method\n",
        "\n",
        "(23).bit_count()"
      ],
      "metadata": {
        "colab": {
          "base_uri": "https://localhost:8080/",
          "height": 200
        },
        "outputId": "047d38ca-d0f8-44a1-ac18-15202cd8a8f8",
        "id": "nCtkaU0DUACq"
      },
      "execution_count": 42,
      "outputs": [
        {
          "output_type": "error",
          "ename": "AttributeError",
          "evalue": "ignored",
          "traceback": [
            "\u001b[0;31m---------------------------------------------------------------------------\u001b[0m",
            "\u001b[0;31mAttributeError\u001b[0m                            Traceback (most recent call last)",
            "\u001b[0;32m<ipython-input-42-943718490683>\u001b[0m in \u001b[0;36m<module>\u001b[0;34m()\u001b[0m\n\u001b[1;32m      1\u001b[0m \u001b[0;31m# 1st method\u001b[0m\u001b[0;34m\u001b[0m\u001b[0;34m\u001b[0m\u001b[0;34m\u001b[0m\u001b[0m\n\u001b[1;32m      2\u001b[0m \u001b[0;34m\u001b[0m\u001b[0m\n\u001b[0;32m----> 3\u001b[0;31m \u001b[0;34m(\u001b[0m\u001b[0;36m23\u001b[0m\u001b[0;34m)\u001b[0m\u001b[0;34m.\u001b[0m\u001b[0mbit_count\u001b[0m\u001b[0;34m(\u001b[0m\u001b[0;34m)\u001b[0m\u001b[0;34m\u001b[0m\u001b[0;34m\u001b[0m\u001b[0m\n\u001b[0m",
            "\u001b[0;31mAttributeError\u001b[0m: 'int' object has no attribute 'bit_count'"
          ]
        }
      ]
    },
    {
      "cell_type": "code",
      "source": [
        "#2nd method\n",
        "\n",
        "23 .bit_count()"
      ],
      "metadata": {
        "colab": {
          "base_uri": "https://localhost:8080/",
          "height": 200
        },
        "outputId": "7e59799d-3ecf-4dd5-8f98-99462cca06d6",
        "id": "_MOLop52UACx"
      },
      "execution_count": 43,
      "outputs": [
        {
          "output_type": "error",
          "ename": "AttributeError",
          "evalue": "ignored",
          "traceback": [
            "\u001b[0;31m---------------------------------------------------------------------------\u001b[0m",
            "\u001b[0;31mAttributeError\u001b[0m                            Traceback (most recent call last)",
            "\u001b[0;32m<ipython-input-43-01619bab6ece>\u001b[0m in \u001b[0;36m<module>\u001b[0;34m()\u001b[0m\n\u001b[1;32m      1\u001b[0m \u001b[0;31m#2nd method\u001b[0m\u001b[0;34m\u001b[0m\u001b[0;34m\u001b[0m\u001b[0;34m\u001b[0m\u001b[0m\n\u001b[1;32m      2\u001b[0m \u001b[0;34m\u001b[0m\u001b[0m\n\u001b[0;32m----> 3\u001b[0;31m \u001b[0;36m23\u001b[0m \u001b[0;34m.\u001b[0m\u001b[0mbit_count\u001b[0m\u001b[0;34m(\u001b[0m\u001b[0;34m)\u001b[0m\u001b[0;34m\u001b[0m\u001b[0;34m\u001b[0m\u001b[0m\n\u001b[0m",
            "\u001b[0;31mAttributeError\u001b[0m: 'int' object has no attribute 'bit_count'"
          ]
        }
      ]
    },
    {
      "cell_type": "code",
      "source": [
        "# 3rd method\n",
        "\n",
        "num = 23\n",
        "num.bit_length()"
      ],
      "metadata": {
        "colab": {
          "base_uri": "https://localhost:8080/"
        },
        "outputId": "28541859-926c-4bd7-c979-a87e7f8dab05",
        "id": "iEWvSHsMUACy"
      },
      "execution_count": null,
      "outputs": [
        {
          "output_type": "execute_result",
          "data": {
            "text/plain": [
              "5"
            ]
          },
          "metadata": {},
          "execution_count": 12
        }
      ]
    },
    {
      "cell_type": "markdown",
      "source": [
        "* **other example**"
      ],
      "metadata": {
        "id": "OS8aKLYMUACy"
      }
    },
    {
      "cell_type": "code",
      "source": [
        "(-23).bit_length()"
      ],
      "metadata": {
        "colab": {
          "base_uri": "https://localhost:8080/"
        },
        "outputId": "091ca09f-04ef-4a7f-9e76-4bd58a5931bb",
        "id": "36YP7UZAUACy"
      },
      "execution_count": null,
      "outputs": [
        {
          "output_type": "execute_result",
          "data": {
            "text/plain": [
              "5"
            ]
          },
          "metadata": {},
          "execution_count": 24
        }
      ]
    },
    {
      "cell_type": "markdown",
      "source": [
        "* **gives error**"
      ],
      "metadata": {
        "id": "6RClMn9qUACz"
      }
    },
    {
      "cell_type": "code",
      "source": [
        "23.bit_length()  # because there is no space between integer and dot"
      ],
      "metadata": {
        "id": "QGlvn4SMUACz"
      },
      "execution_count": null,
      "outputs": []
    },
    {
      "cell_type": "code",
      "source": [
        "23 .bit_length()  #correct above by adding space (same as 2nd method)"
      ],
      "metadata": {
        "colab": {
          "base_uri": "https://localhost:8080/"
        },
        "outputId": "6b9e8238-83a1-4472-dd42-592d8351ff88",
        "id": "9jMzBOxtUACz"
      },
      "execution_count": null,
      "outputs": [
        {
          "output_type": "execute_result",
          "data": {
            "text/plain": [
              "5"
            ]
          },
          "metadata": {},
          "execution_count": 20
        }
      ]
    },
    {
      "cell_type": "markdown",
      "source": [
        "#####**int .numerator**\n",
        "*Here **numerator of every integer is same value** it is useful in **floating , fraction number** but still you can use this function in integer*\n",
        "\n",
        "#####**int .denominator**\n",
        "*Here **denominator of every integer is one** it is useful in **floating , fraction number** but still you can use this function in integer*\n",
        "\n",
        "#####**int .conjugate()**\n",
        "*Here conjugate of every **integer is same value** it is useful in **complex number** but still you can use this function in integer*"
      ],
      "metadata": {
        "id": "yCe9WeRlLgq6"
      }
    },
    {
      "cell_type": "code",
      "source": [
        "print( 2 .conjugate() )\n",
        "print( (-23).conjugate() )\n",
        "x = 45\n",
        "x.conjugate()"
      ],
      "metadata": {
        "colab": {
          "base_uri": "https://localhost:8080/"
        },
        "id": "o5ewtpnJLwg-",
        "outputId": "02780fc1-b36f-45f1-ac9d-de1a08a4a489"
      },
      "execution_count": 26,
      "outputs": [
        {
          "output_type": "stream",
          "name": "stdout",
          "text": [
            "2\n",
            "-23\n"
          ]
        },
        {
          "output_type": "execute_result",
          "data": {
            "text/plain": [
              "45"
            ]
          },
          "metadata": {},
          "execution_count": 26
        }
      ]
    },
    {
      "cell_type": "code",
      "source": [
        "print( 2 .numerator)\n",
        "print( (-23).numerator)\n",
        "x = 45\n",
        "x.numerator"
      ],
      "metadata": {
        "colab": {
          "base_uri": "https://localhost:8080/"
        },
        "id": "dXa_AiO4RbVi",
        "outputId": "17d25ec2-4fcb-485b-9fe4-13a8eeb103a5"
      },
      "execution_count": 38,
      "outputs": [
        {
          "output_type": "stream",
          "name": "stdout",
          "text": [
            "2\n",
            "-23\n"
          ]
        },
        {
          "output_type": "execute_result",
          "data": {
            "text/plain": [
              "45"
            ]
          },
          "metadata": {},
          "execution_count": 38
        }
      ]
    },
    {
      "cell_type": "code",
      "source": [
        "print( 2 .denominator)\n",
        "print( (-23).denominator)\n",
        "x = 45\n",
        "x.denominator"
      ],
      "metadata": {
        "colab": {
          "base_uri": "https://localhost:8080/"
        },
        "id": "cAKPW8VKRL1b",
        "outputId": "1235e608-bf6e-4f9f-c2bb-7376874231c8"
      },
      "execution_count": 37,
      "outputs": [
        {
          "output_type": "stream",
          "name": "stdout",
          "text": [
            "1\n",
            "1\n"
          ]
        },
        {
          "output_type": "execute_result",
          "data": {
            "text/plain": [
              "1"
            ]
          },
          "metadata": {},
          "execution_count": 37
        }
      ]
    },
    {
      "cell_type": "code",
      "source": [
        "print(dir(int))\n",
        "\"\"\"'bit_length',\n",
        " 'conjugate',\n",
        " 'denominator',\n",
        " 'from_bytes',\n",
        " 'imag',\n",
        " 'numerator',\n",
        " 'real',\n",
        " 'to_bytes'\"\"\""
      ],
      "metadata": {
        "colab": {
          "base_uri": "https://localhost:8080/",
          "height": 73
        },
        "id": "5noHqu1WBi3L",
        "outputId": "6574d822-9c91-40be-f644-2eb3821322cf"
      },
      "execution_count": 45,
      "outputs": [
        {
          "output_type": "stream",
          "name": "stdout",
          "text": [
            "['__abs__', '__add__', '__and__', '__bool__', '__ceil__', '__class__', '__delattr__', '__dir__', '__divmod__', '__doc__', '__eq__', '__float__', '__floor__', '__floordiv__', '__format__', '__ge__', '__getattribute__', '__getnewargs__', '__gt__', '__hash__', '__index__', '__init__', '__init_subclass__', '__int__', '__invert__', '__le__', '__lshift__', '__lt__', '__mod__', '__mul__', '__ne__', '__neg__', '__new__', '__or__', '__pos__', '__pow__', '__radd__', '__rand__', '__rdivmod__', '__reduce__', '__reduce_ex__', '__repr__', '__rfloordiv__', '__rlshift__', '__rmod__', '__rmul__', '__ror__', '__round__', '__rpow__', '__rrshift__', '__rshift__', '__rsub__', '__rtruediv__', '__rxor__', '__setattr__', '__sizeof__', '__str__', '__sub__', '__subclasshook__', '__truediv__', '__trunc__', '__xor__', 'bit_length', 'conjugate', 'denominator', 'from_bytes', 'imag', 'numerator', 'real', 'to_bytes']\n"
          ]
        },
        {
          "output_type": "execute_result",
          "data": {
            "text/plain": [
              "\"'bit_length',\\n 'conjugate',\\n 'denominator',\\n 'from_bytes',\\n 'imag',\\n 'numerator',\\n 'real',\\n 'to_bytes'\""
            ],
            "application/vnd.google.colaboratory.intrinsic+json": {
              "type": "string"
            }
          },
          "metadata": {},
          "execution_count": 45
        }
      ]
    },
    {
      "cell_type": "markdown",
      "source": [
        "##**FLOAT**\n",
        "\n",
        "* *The **float** type in Python represents the floating point number. Float is used to represent real numbers and is written with a decimal point dividing the integer and fractional parts.*\n",
        "\n",
        "* *For example &nbsp; 97.98, &nbsp; 32.3+e18, &nbsp; -32.54e100, &nbsp; 3.0* \n",
        "\n",
        "---\n",
        "<ul type='circle'>\n",
        "<li><i>Syntax</i></li>\n",
        "\n",
        "```python\n",
        ">>> 97.98\n",
        "97.98\n",
        "\n",
        ">>> 4.0\n",
        "4.0\n",
        "\n",
        ">>> -3.147\n",
        "-3.1477\n",
        "\n",
        ">>> 32.3e18\n",
        "3.23e+19\n",
        "\n",
        ">>> -32.5e100\n",
        "-3.25e+101\n",
        "\n",
        ">>> -32.5e-100\n",
        "-3.25e-99\n",
        "```\n",
        "</ul>\n",
        "\n",
        "---\n",
        "\n",
        "\n",
        "###**type()**\n",
        "This function return the datatype of object when you pass argument\n",
        "<hr>\n",
        "    \n",
        "*Syntax:*\n",
        "```python\n",
        "type(69)              #return int\n",
        "type(69.69)           #return float\n",
        "type( [69,420] )      #return list\n",
        "type( (69,420) )      #return tuple\n",
        "```\n",
        "<hr>\n",
        "\n",
        "**See below example to see datatype of number**"
      ],
      "metadata": {
        "id": "XJKGEv-8UbEB"
      }
    },
    {
      "cell_type": "code",
      "source": [
        "type(97.98)"
      ],
      "metadata": {
        "colab": {
          "base_uri": "https://localhost:8080/"
        },
        "id": "qh0RbiwHUXEE",
        "outputId": "05cd5abd-a40d-438c-a523-f6d444cf20d3"
      },
      "execution_count": 23,
      "outputs": [
        {
          "output_type": "execute_result",
          "data": {
            "text/plain": [
              "float"
            ]
          },
          "metadata": {},
          "execution_count": 23
        }
      ]
    },
    {
      "cell_type": "code",
      "source": [
        "type(4.0)"
      ],
      "metadata": {
        "colab": {
          "base_uri": "https://localhost:8080/"
        },
        "id": "xMPzlA4EdxCs",
        "outputId": "a3234e52-e991-4f2e-f86a-4169655c90c6"
      },
      "execution_count": 25,
      "outputs": [
        {
          "output_type": "execute_result",
          "data": {
            "text/plain": [
              "float"
            ]
          },
          "metadata": {},
          "execution_count": 25
        }
      ]
    },
    {
      "cell_type": "code",
      "source": [
        "type(-3.147)"
      ],
      "metadata": {
        "colab": {
          "base_uri": "https://localhost:8080/"
        },
        "id": "jcxQvH8Dd1dO",
        "outputId": "9fb74d7b-8f1d-4392-fb62-8ba9b72afe6a"
      },
      "execution_count": 30,
      "outputs": [
        {
          "output_type": "execute_result",
          "data": {
            "text/plain": [
              "float"
            ]
          },
          "metadata": {},
          "execution_count": 30
        }
      ]
    },
    {
      "cell_type": "code",
      "source": [
        "#scientic notation\n",
        "\n",
        "print(32.3e18)\n",
        "type(32.3e18)"
      ],
      "metadata": {
        "colab": {
          "base_uri": "https://localhost:8080/"
        },
        "id": "0ap3WIRseQkj",
        "outputId": "bf3a345b-42d9-4709-cffb-6e6b030c1b7d"
      },
      "execution_count": 29,
      "outputs": [
        {
          "output_type": "stream",
          "name": "stdout",
          "text": [
            "3.23e+19\n"
          ]
        },
        {
          "output_type": "execute_result",
          "data": {
            "text/plain": [
              "float"
            ]
          },
          "metadata": {},
          "execution_count": 29
        }
      ]
    },
    {
      "cell_type": "code",
      "source": [
        "#scientic notation\n",
        "\n",
        "print(-32.5e100)\n",
        "type(-32.5e100)"
      ],
      "metadata": {
        "colab": {
          "base_uri": "https://localhost:8080/"
        },
        "id": "Z8wUcsZKep0y",
        "outputId": "42db7358-16d2-4803-a2ce-b0d8a9d1e86a"
      },
      "execution_count": 31,
      "outputs": [
        {
          "output_type": "stream",
          "name": "stdout",
          "text": [
            "-3.25e+101\n"
          ]
        },
        {
          "output_type": "execute_result",
          "data": {
            "text/plain": [
              "float"
            ]
          },
          "metadata": {},
          "execution_count": 31
        }
      ]
    },
    {
      "cell_type": "code",
      "source": [
        "#scientic notation\n",
        "\n",
        "print(-32.5e-100)\n",
        "type(-32.5e-100)"
      ],
      "metadata": {
        "colab": {
          "base_uri": "https://localhost:8080/"
        },
        "id": "QJRJuUXhfIsd",
        "outputId": "9cba3b73-639e-473c-ddc5-d3444df7c146"
      },
      "execution_count": 32,
      "outputs": [
        {
          "output_type": "stream",
          "name": "stdout",
          "text": [
            "-3.25e-99\n"
          ]
        },
        {
          "output_type": "execute_result",
          "data": {
            "text/plain": [
              "float"
            ]
          },
          "metadata": {},
          "execution_count": 32
        }
      ]
    },
    {
      "cell_type": "code",
      "source": [
        "# greater than 1.8 * 10^308\n",
        "# will print 'inf'\n",
        "\n",
        "print(1.82e308)\n",
        "type(1.82e308)"
      ],
      "metadata": {
        "colab": {
          "base_uri": "https://localhost:8080/"
        },
        "id": "66EMfbuHfOpi",
        "outputId": "df1f839a-8068-48e6-f1dd-4472554c775e"
      },
      "execution_count": 34,
      "outputs": [
        {
          "output_type": "stream",
          "name": "stdout",
          "text": [
            "inf\n"
          ]
        },
        {
          "output_type": "execute_result",
          "data": {
            "text/plain": [
              "float"
            ]
          },
          "metadata": {},
          "execution_count": 34
        }
      ]
    },
    {
      "cell_type": "code",
      "source": [
        "# lesser than -1.8 * 10^308\n",
        "# will print '-inf'\n",
        "\n",
        "print(-1.82e308)\n",
        "type(1.82e308)"
      ],
      "metadata": {
        "colab": {
          "base_uri": "https://localhost:8080/"
        },
        "id": "W06hH-28ii9O",
        "outputId": "f01aa522-62b1-4938-d37a-aeb4d2f29755"
      },
      "execution_count": 3,
      "outputs": [
        {
          "output_type": "execute_result",
          "data": {
            "text/plain": [
              "-inf"
            ]
          },
          "metadata": {},
          "execution_count": 3
        }
      ]
    },
    {
      "cell_type": "code",
      "source": [
        ""
      ],
      "metadata": {
        "id": "erMqOu4mCUd2"
      },
      "execution_count": null,
      "outputs": []
    }
  ]
}