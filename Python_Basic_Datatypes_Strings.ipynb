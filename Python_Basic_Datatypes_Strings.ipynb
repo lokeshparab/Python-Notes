{
  "nbformat": 4,
  "nbformat_minor": 0,
  "metadata": {
    "colab": {
      "provenance": [],
      "collapsed_sections": [],
      "toc_visible": true,
      "authorship_tag": "ABX9TyPDe6OLUs88zX5Ibr+o80WM",
      "include_colab_link": true
    },
    "kernelspec": {
      "name": "python3",
      "display_name": "Python 3"
    },
    "language_info": {
      "name": "python"
    }
  },
  "cells": [
    {
      "cell_type": "markdown",
      "metadata": {
        "id": "view-in-github",
        "colab_type": "text"
      },
      "source": [
        "<a href=\"https://colab.research.google.com/github/lokeshparab/Python-Notes/blob/main/Python_Basic_Datatypes_Strings.ipynb\" target=\"_parent\"><img src=\"https://colab.research.google.com/assets/colab-badge.svg\" alt=\"Open In Colab\"/></a>"
      ]
    },
    {
      "cell_type": "markdown",
      "source": [
        "#**DATATYPES**\n",
        "\n",
        "\n",
        "<ol type=\"1\">\n",
        "\n",
        "  <li><b>Numberic</b></li>\n",
        "\n",
        "  <ol type=\"i\">\n",
        "  <li><b><a href=\"https://colab.research.google.com/github/lokeshparab/Python-Notes/blob/main/Python_Basic_Datatypes_Interger.ipynb\">Integer</a></b></li>\n",
        "  <li><b>Complex Number</b></li>\n",
        "  <li><b><a href=\"https://colab.research.google.com/github/lokeshparab/Python-Notes/blob/main/Python_Basic_Datatypes_Float.ipynb\">Float</a></b></li>\n",
        "  </ol>\n",
        "\n",
        "  <li><b>Dictionary</b></li>\n",
        "\n",
        "  <li><b>Boolean</b></li>\n",
        "\n",
        "  <li><b>Set</b></li>\n",
        "\n",
        "  <li><b>Sequence Type</b></li>\n",
        "\n",
        "  <ol type=\"i\">\n",
        "  <li><b>Strings</b></li>\n",
        "  <li><b>List</b></li>\n",
        "  <li><b>Tuple</b></li>\n",
        "  </ol>\n",
        "\n",
        "\n",
        "\n",
        "\n",
        "![alt text](https://media.geeksforgeeks.org/wp-content/uploads/20191023173512/Python-data-structure.jpg)"
      ],
      "metadata": {
        "id": "VTsE1fYnqLE-"
      }
    },
    {
      "cell_type": "markdown",
      "source": [
        "# **Sequence type**"
      ],
      "metadata": {
        "id": "JEOJf2ZxqU-K"
      }
    },
    {
      "cell_type": "markdown",
      "source": [
        "## **Strings**\n",
        "\n",
        "* *Strings are **immutable** sequences of Unicode code points. String literals are written in a variety of ways:*\n",
        "```python\n",
        ">>> ' allows embedded \" double \" quotes ' # Single quoted \n",
        ">>> \" allows embedded ' single ' quotes \" # Double quoted \n",
        ">>> ''' Three single quotes \n",
        "    allows embedded \" double \" quotes\n",
        "    and 'single quotes in multiple lines''' # Triple quoted\n",
        ">>> \"\"\" Three Double quotes \n",
        "    allows embedded \" double \" quotes\n",
        "    and 'single quotes in multiple lines \"\"\" # Triple quoted \n",
        "```\n",
        "* String literals that are part of a single expression and have only whitespace between them will be implicitly converted to a single string literal.\n",
        "```python\n",
        ">>> (\"spam \" \"eggs\") == \"spam eggs\"\n",
        "True\n",
        ">>> 'I ' \"am \" 'Lokesh' == \"I am Lokesh \"\n",
        "True \n",
        ">>> a = 'Python ' 'is ' 'awesome'\n",
        ">>> a\n",
        "'Python is awesome'\n",
        "```"
      ],
      "metadata": {
        "id": "K1P9ARU4qdib"
      }
    },
    {
      "cell_type": "code",
      "source": [
        "' allows embedded \" double \" quotes ' # Single quoted "
      ],
      "metadata": {
        "colab": {
          "base_uri": "https://localhost:8080/",
          "height": 36
        },
        "id": "TEvEerMfw_50",
        "outputId": "4047450e-b9f5-481c-d4ec-0d71e53306ff"
      },
      "execution_count": null,
      "outputs": [
        {
          "output_type": "execute_result",
          "data": {
            "text/plain": [
              "' allows embedded \" double \" quotes '"
            ],
            "application/vnd.google.colaboratory.intrinsic+json": {
              "type": "string"
            }
          },
          "metadata": {},
          "execution_count": 14
        }
      ]
    },
    {
      "cell_type": "code",
      "source": [
        "\" allows embedded ' single ' quotes \" # Double quoted "
      ],
      "metadata": {
        "colab": {
          "base_uri": "https://localhost:8080/",
          "height": 36
        },
        "id": "i7ZJfhl3xC2U",
        "outputId": "94ed0870-a23d-4b49-da1a-54d8c6d895d6"
      },
      "execution_count": null,
      "outputs": [
        {
          "output_type": "execute_result",
          "data": {
            "text/plain": [
              "\" allows embedded ' single ' quotes \""
            ],
            "application/vnd.google.colaboratory.intrinsic+json": {
              "type": "string"
            }
          },
          "metadata": {},
          "execution_count": 15
        }
      ]
    },
    {
      "cell_type": "code",
      "source": [
        "'''Three single quotes \n",
        "    allows embedded \" double \" quotes\n",
        "    and 'single' quotes in multiple lines''' # Triple quoted"
      ],
      "metadata": {
        "colab": {
          "base_uri": "https://localhost:8080/",
          "height": 36
        },
        "id": "QGdw_KOTxE9s",
        "outputId": "27ebe35a-3412-4273-e32a-da2f90bc1faf"
      },
      "execution_count": null,
      "outputs": [
        {
          "output_type": "execute_result",
          "data": {
            "text/plain": [
              "'Three single quotes \\n    allows embedded \" double \" quotes\\n    and \\'single\\' quotes in multiple lines'"
            ],
            "application/vnd.google.colaboratory.intrinsic+json": {
              "type": "string"
            }
          },
          "metadata": {},
          "execution_count": 13
        }
      ]
    },
    {
      "cell_type": "code",
      "source": [
        "\"\"\" Three Double quotes \n",
        "    allows embedded \" double \" quotes\n",
        "    and 'single' quotes in multiple lines \"\"\""
      ],
      "metadata": {
        "colab": {
          "base_uri": "https://localhost:8080/",
          "height": 36
        },
        "id": "V9gEiu2OxHw8",
        "outputId": "0b419992-240f-4bee-fcc5-6d19c11bfabb"
      },
      "execution_count": null,
      "outputs": [
        {
          "output_type": "execute_result",
          "data": {
            "text/plain": [
              "' Three Double quotes \\n    allows embedded \" double \" quotes\\n    and \\'single\\' quotes in multiple lines '"
            ],
            "application/vnd.google.colaboratory.intrinsic+json": {
              "type": "string"
            }
          },
          "metadata": {},
          "execution_count": 12
        }
      ]
    },
    {
      "cell_type": "code",
      "source": [
        "(\"spam \" \"eggs\") == \"spam eggs\""
      ],
      "metadata": {
        "colab": {
          "base_uri": "https://localhost:8080/"
        },
        "id": "d_SBwHwnqiEe",
        "outputId": "b947cda3-571a-4651-d062-342d3d1109db"
      },
      "execution_count": null,
      "outputs": [
        {
          "output_type": "execute_result",
          "data": {
            "text/plain": [
              "True"
            ]
          },
          "metadata": {},
          "execution_count": 1
        }
      ]
    },
    {
      "cell_type": "code",
      "source": [
        "\"I \" \"am \" 'lokesh' == 'I am lokesh'"
      ],
      "metadata": {
        "colab": {
          "base_uri": "https://localhost:8080/"
        },
        "id": "Yq9384ufu1F3",
        "outputId": "218075ff-c6c5-4b50-fca0-707495599748"
      },
      "execution_count": null,
      "outputs": [
        {
          "output_type": "execute_result",
          "data": {
            "text/plain": [
              "True"
            ]
          },
          "metadata": {},
          "execution_count": 16
        }
      ]
    },
    {
      "cell_type": "code",
      "source": [
        "a = 'Python ' 'is ' 'awesome'\n",
        "a"
      ],
      "metadata": {
        "colab": {
          "base_uri": "https://localhost:8080/",
          "height": 36
        },
        "id": "9K6f6nmYvYRZ",
        "outputId": "7ee6ffcb-c448-411b-a829-33be696e3540"
      },
      "execution_count": null,
      "outputs": [
        {
          "output_type": "execute_result",
          "data": {
            "text/plain": [
              "'Python is awesome'"
            ],
            "application/vnd.google.colaboratory.intrinsic+json": {
              "type": "string"
            }
          },
          "metadata": {},
          "execution_count": 17
        }
      ]
    },
    {
      "cell_type": "markdown",
      "source": [
        "###**Indexing**\n",
        "* String indexing in Python in **zero-based**: \n",
        " * First character in the string has index 0, the next has index 1, and so on. \n",
        " * The index of the last character will be the length of the string minus one.\n",
        "* String indexing in Python in **negative-based**: \n",
        " * Last character in the string has index -1, the next has index -1, and so on. \n",
        " * The index of the last character will be the negative of length of the string."
      ],
      "metadata": {
        "id": "GN_2qiygyiIN"
      }
    },
    {
      "cell_type": "code",
      "source": [
        "var = 'Incredible!'"
      ],
      "metadata": {
        "id": "8-YbbE05ylez"
      },
      "execution_count": 1,
      "outputs": []
    },
    {
      "cell_type": "markdown",
      "source": [
        "#### **Zero Based index from 0 to 10**"
      ],
      "metadata": {
        "id": "O2WX1r7qa2kS"
      }
    },
    {
      "cell_type": "code",
      "source": [
        "print(var[0])\n",
        "print(var[1])\n",
        "print(var[2])\n",
        "print(var[3])\n",
        "print(var[4])\n",
        "print(var[5])\n",
        "print(var[6])\n",
        "print(var[7])\n",
        "print(var[8])\n",
        "print(var[9])\n",
        "print(var[10])"
      ],
      "metadata": {
        "colab": {
          "base_uri": "https://localhost:8080/"
        },
        "id": "H4khi6pbyl8y",
        "outputId": "e0a45882-803f-4fbd-895d-084c5dfc88e1"
      },
      "execution_count": null,
      "outputs": [
        {
          "output_type": "stream",
          "name": "stdout",
          "text": [
            "I\n",
            "n\n",
            "c\n",
            "r\n",
            "e\n",
            "d\n",
            "i\n",
            "b\n",
            "l\n",
            "e\n",
            "!\n"
          ]
        }
      ]
    },
    {
      "cell_type": "markdown",
      "source": [
        "#### **Negative based index from -11 to -1**"
      ],
      "metadata": {
        "id": "e7HZF-yqbCqS"
      }
    },
    {
      "cell_type": "code",
      "source": [
        "print(var[-11])\n",
        "print(var[-10])\n",
        "print(var[-9])\n",
        "print(var[-8])\n",
        "print(var[-7])\n",
        "print(var[-6])\n",
        "print(var[-5])\n",
        "print(var[-4])\n",
        "print(var[-3])\n",
        "print(var[-2])\n",
        "print(var[-1])"
      ],
      "metadata": {
        "colab": {
          "base_uri": "https://localhost:8080/",
          "height": 209
        },
        "id": "e879VxRD0Yko",
        "outputId": "8d013a1b-a601-43e4-92f4-816237537dca"
      },
      "execution_count": null,
      "outputs": [
        {
          "output_type": "stream",
          "name": "stdout",
          "text": [
            "I\n",
            "n\n",
            "c\n",
            "r\n",
            "e\n",
            "d\n",
            "i\n",
            "b\n",
            "l\n",
            "e\n"
          ]
        },
        {
          "output_type": "execute_result",
          "data": {
            "text/plain": [
              "'!'"
            ],
            "application/vnd.google.colaboratory.intrinsic+json": {
              "type": "string"
            }
          },
          "metadata": {},
          "execution_count": 23
        }
      ]
    },
    {
      "cell_type": "markdown",
      "source": [
        "###**Slicing**\n",
        "* Slicing  used to specify how to slice a sequence. You can specify where to start the slicing, and where to end. You can also specify the step\n",
        "* There are two ways to slice list are as follow:\n",
        " * Slice indexing\n",
        " * .slice function "
      ],
      "metadata": {
        "id": "gi_NitHtyne5"
      }
    },
    {
      "cell_type": "code",
      "source": [
        "var = 'Incredible!'"
      ],
      "metadata": {
        "id": "NsPLj2WOepdM"
      },
      "execution_count": 2,
      "outputs": []
    },
    {
      "cell_type": "markdown",
      "source": [
        "####**Default values in slicing**\n",
        "\n",
        "if any section nt mention value it treated as following\n",
        "\n",
        "|Parameter|value|\n",
        "|---|---|\n",
        "|start_index|0|\n",
        "|end_index|length of string or greater than|\n",
        "|stepping|1|"
      ],
      "metadata": {
        "id": "eL0bi4rVhHl3"
      }
    },
    {
      "cell_type": "code",
      "source": [
        "# default value that prints full strinh using slicing\n",
        "\n",
        "print(\"[::] and [:]\")\n",
        "print(var[::]) \n",
        "print(var[:]) \n",
        "\n",
        "print('*'*40)\n",
        "\n",
        "print('[:] with some value on start and end')\n",
        "print(var[0:11])\n",
        "print(var[:11])\n",
        "print(var[0:])\n",
        "\n",
        "print('*'*40)\n",
        "\n",
        "print('[::] with with some value on start as \\'0\\' and end as \\'11\\'')\n",
        "print(var[0:11:])\n",
        "print(var[:11:])\n",
        "print(var[0::])\n",
        "\n",
        "print('*'*40)\n",
        "\n",
        "print(\"[::] with value on step as '1'\")\n",
        "print(var[::1])\n",
        "print(var[0::1])\n",
        "print(var[:11:1])\n",
        "print(var[0:11:1])\n",
        "\n",
        "print('*'*40)\n",
        "\n",
        "print('[::] value of end greater than 11')\n",
        "print(var[:1234:])\n",
        "print(var[:32323:])\n",
        "print(var[:132412])\n",
        "print(var[:34])"
      ],
      "metadata": {
        "colab": {
          "base_uri": "https://localhost:8080/",
          "height": 0
        },
        "id": "waivJ0P9elZ9",
        "outputId": "c1de9367-5f5d-4d27-a5f7-5c56df49c03a"
      },
      "execution_count": 52,
      "outputs": [
        {
          "output_type": "stream",
          "name": "stdout",
          "text": [
            "[::] and [:]\n",
            "Incredible!\n",
            "Incredible!\n",
            "****************************************\n",
            "[:] with some value on start and end\n",
            "Incredible!\n",
            "Incredible!\n",
            "Incredible!\n",
            "****************************************\n",
            "[::] with with some value on start as '0' and end as '11'\n",
            "Incredible!\n",
            "Incredible!\n",
            "Incredible!\n",
            "****************************************\n",
            "[::] with value on step as '1'\n",
            "Incredible!\n",
            "Incredible!\n",
            "Incredible!\n",
            "Incredible!\n",
            "****************************************\n",
            "[::] value of end greater than 11\n",
            "Incredible!\n",
            "Incredible!\n",
            "Incredible!\n",
            "Incredible!\n"
          ]
        }
      ]
    },
    {
      "cell_type": "markdown",
      "source": [
        "#### **Slice index**\n",
        "* Syntax\n",
        "```\n",
        "list[ start_index : end_index : stepping ]  \n",
        "OR\n",
        "list[ start_index : end_index ] \n",
        "```\n",
        "* Example:"
      ],
      "metadata": {
        "id": "M9dq6UJ8eOur"
      }
    },
    {
      "cell_type": "code",
      "source": [
        "#print from index 2 to 8 \n",
        "var[2:9]"
      ],
      "metadata": {
        "colab": {
          "base_uri": "https://localhost:8080/",
          "height": 36
        },
        "id": "xwhnI91Hg3XO",
        "outputId": "67afad9e-e35f-4545-ac7a-e49806420b41"
      },
      "execution_count": 17,
      "outputs": [
        {
          "output_type": "execute_result",
          "data": {
            "text/plain": [
              "'credibl'"
            ],
            "application/vnd.google.colaboratory.intrinsic+json": {
              "type": "string"
            }
          },
          "metadata": {},
          "execution_count": 17
        }
      ]
    },
    {
      "cell_type": "code",
      "source": [
        "#print from index 3 to 9 \n",
        "var[3:10]"
      ],
      "metadata": {
        "colab": {
          "base_uri": "https://localhost:8080/",
          "height": 36
        },
        "id": "O__w6fwrji_z",
        "outputId": "723aebe6-7ec2-42ca-b718-fe121112c0ca"
      },
      "execution_count": 53,
      "outputs": [
        {
          "output_type": "execute_result",
          "data": {
            "text/plain": [
              "'redible'"
            ],
            "application/vnd.google.colaboratory.intrinsic+json": {
              "type": "string"
            }
          },
          "metadata": {},
          "execution_count": 53
        }
      ]
    },
    {
      "cell_type": "code",
      "source": [
        "# print from index 6 to 9\n",
        "var[6:10]"
      ],
      "metadata": {
        "colab": {
          "base_uri": "https://localhost:8080/",
          "height": 36
        },
        "id": "EtC6PXljjizB",
        "outputId": "e7618142-20a3-4b1f-eefd-97cb3bb07846"
      },
      "execution_count": 54,
      "outputs": [
        {
          "output_type": "execute_result",
          "data": {
            "text/plain": [
              "'ible'"
            ],
            "application/vnd.google.colaboratory.intrinsic+json": {
              "type": "string"
            }
          },
          "metadata": {},
          "execution_count": 54
        }
      ]
    },
    {
      "cell_type": "code",
      "source": [
        "#print from index 2 to 8 with step 2 means seq is --> 2, 4, 6, 8\n",
        "var[2:9:2]"
      ],
      "metadata": {
        "colab": {
          "base_uri": "https://localhost:8080/",
          "height": 36
        },
        "outputId": "9a037386-b66c-47c2-c638-0b2f4ae487ff",
        "id": "9s6vrk-PmQKn"
      },
      "execution_count": 57,
      "outputs": [
        {
          "output_type": "execute_result",
          "data": {
            "text/plain": [
              "'ceil'"
            ],
            "application/vnd.google.colaboratory.intrinsic+json": {
              "type": "string"
            }
          },
          "metadata": {},
          "execution_count": 57
        }
      ]
    },
    {
      "cell_type": "code",
      "source": [
        "#print from index 3 to 9 with step 4 means seq is --> 3, 7\n",
        "var[3:10:4]"
      ],
      "metadata": {
        "colab": {
          "base_uri": "https://localhost:8080/",
          "height": 36
        },
        "outputId": "f06f3b14-98ad-442c-f783-7094d2ddfbbd",
        "id": "vSYkcT81mQKo"
      },
      "execution_count": 55,
      "outputs": [
        {
          "output_type": "execute_result",
          "data": {
            "text/plain": [
              "'rb'"
            ],
            "application/vnd.google.colaboratory.intrinsic+json": {
              "type": "string"
            }
          },
          "metadata": {},
          "execution_count": 55
        }
      ]
    },
    {
      "cell_type": "code",
      "source": [
        "# print from index 6 to 9 with step 3 means seq is --> 6, 9\n",
        "var[6:10:3]"
      ],
      "metadata": {
        "colab": {
          "base_uri": "https://localhost:8080/",
          "height": 36
        },
        "outputId": "71a2a321-4cc3-45e3-c7a1-bade2309e50b",
        "id": "dqU2E1UgmQKo"
      },
      "execution_count": 56,
      "outputs": [
        {
          "output_type": "execute_result",
          "data": {
            "text/plain": [
              "'ie'"
            ],
            "application/vnd.google.colaboratory.intrinsic+json": {
              "type": "string"
            }
          },
          "metadata": {},
          "execution_count": 56
        }
      ]
    },
    {
      "cell_type": "markdown",
      "source": [
        "####**Palindrome of string with slicing**"
      ],
      "metadata": {
        "id": "OuCSXMhinG-e"
      }
    },
    {
      "cell_type": "code",
      "source": [
        "var[::-1]"
      ],
      "metadata": {
        "colab": {
          "base_uri": "https://localhost:8080/",
          "height": 36
        },
        "id": "8Fldvh6_nQsr",
        "outputId": "71713d85-6aa4-4b6e-fdce-98ddfd99b64b"
      },
      "execution_count": 58,
      "outputs": [
        {
          "output_type": "execute_result",
          "data": {
            "text/plain": [
              "'!elbidercnI'"
            ],
            "application/vnd.google.colaboratory.intrinsic+json": {
              "type": "string"
            }
          },
          "metadata": {},
          "execution_count": 58
        }
      ]
    },
    {
      "cell_type": "markdown",
      "source": [
        "#### **Other example**"
      ],
      "metadata": {
        "id": "keIUqOqsoBFs"
      }
    },
    {
      "cell_type": "code",
      "source": [
        "var[::-1]"
      ],
      "metadata": {
        "id": "qdbCChlsoHua"
      },
      "execution_count": null,
      "outputs": []
    },
    {
      "cell_type": "code",
      "source": [],
      "metadata": {
        "id": "sfZl3F_5oHkp"
      },
      "execution_count": null,
      "outputs": []
    },
    {
      "cell_type": "markdown",
      "source": [
        "###**Immutable**"
      ],
      "metadata": {
        "id": "AxDg2xCDxwlt"
      }
    },
    {
      "cell_type": "markdown",
      "source": [
        "###**Inbuilt function**\n",
        "chr() ord() len()"
      ],
      "metadata": {
        "id": "GNTO4btjySRc"
      }
    },
    {
      "cell_type": "markdown",
      "source": [
        "####**chr()**"
      ],
      "metadata": {
        "id": "UqP30DO6yvFr"
      }
    },
    {
      "cell_type": "markdown",
      "source": [
        "####**ord()**"
      ],
      "metadata": {
        "id": "BKHSKqPCyywr"
      }
    },
    {
      "cell_type": "markdown",
      "source": [
        "####**len()**"
      ],
      "metadata": {
        "id": "Cc9BR6Qfy33d"
      }
    },
    {
      "cell_type": "markdown",
      "source": [
        "####**sum()**"
      ],
      "metadata": {
        "id": "hVip7i1d7YLP"
      }
    },
    {
      "cell_type": "markdown",
      "source": [
        "####**range()**"
      ],
      "metadata": {
        "id": "AV2_z3ay7ckf"
      }
    },
    {
      "cell_type": "markdown",
      "source": [
        "####**str()**"
      ],
      "metadata": {
        "id": "6G3qHp4ey6-N"
      }
    }
  ]
}