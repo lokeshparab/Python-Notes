{
  "nbformat": 4,
  "nbformat_minor": 0,
  "metadata": {
    "colab": {
      "name": "Python Basic Datatypes Float.ipynb",
      "provenance": [],
      "collapsed_sections": [],
      "toc_visible": true,
      "authorship_tag": "ABX9TyO4GjgNzwhTSPxQ4MwfA2CQ",
      "include_colab_link": true
    },
    "kernelspec": {
      "name": "python3",
      "display_name": "Python 3"
    },
    "language_info": {
      "name": "python"
    }
  },
  "cells": [
    {
      "cell_type": "markdown",
      "metadata": {
        "id": "view-in-github",
        "colab_type": "text"
      },
      "source": [
        "<a href=\"https://colab.research.google.com/github/lokeshparab/Python-Notes/blob/main/Python_Basic_Datatypes_Float.ipynb\" target=\"_parent\"><img src=\"https://colab.research.google.com/assets/colab-badge.svg\" alt=\"Open In Colab\"/></a>"
      ]
    },
    {
      "cell_type": "markdown",
      "source": [
        "#**DATATYPES**\n",
        "\n",
        "\n",
        "<ol type=\"1\">\n",
        "\n",
        "  <li><b>Numberic</b></li>\n",
        "\n",
        "  <ol type=\"i\">\n",
        "  <li><b><a href=\"https://colab.research.google.com/github/lokeshparab/Python-Notes/blob/main/Python_Basic_Datatypes_Interger.ipynb\">Integer</a></b></li>\n",
        "  <li><b>Complex Number</b></li>\n",
        "  <li><b><a href=\"https://colab.research.google.com/github/lokeshparab/Python-Notes/blob/main/Python_Basic_Datatypes_Float.ipynb\">Float</a></b></li>\n",
        "  </ol>\n",
        "\n",
        "  <li><b>Dictionary</b></li>\n",
        "\n",
        "  <li><b>Boolean</b></li>\n",
        "\n",
        "  <li><b>Set</b></li>\n",
        "\n",
        "  <li><b>Sequence Type</b></li>\n",
        "\n",
        "  <ol type=\"i\">\n",
        "  <li><b>Strings</b></li>\n",
        "  <li><b>List</b></li>\n",
        "  <li><b>Tuple</b></li>\n",
        "  </ol>\n",
        "\n",
        "\n",
        "\n",
        "\n",
        "![alt text](https://media.geeksforgeeks.org/wp-content/uploads/20191023173512/Python-data-structure.jpg)"
      ],
      "metadata": {
        "id": "-YApXdcBJpiW"
      }
    },
    {
      "cell_type": "markdown",
      "source": [
        "#**Numeric**"
      ],
      "metadata": {
        "id": "Dn7hPTt_KSZM"
      }
    },
    {
      "cell_type": "markdown",
      "source": [
        "##**FLOAT**\n",
        "\n",
        "* *The **float** type in Python represents the floating point number. Float is used to represent real numbers and is written with a decimal point dividing the integer and fractional parts.*\n",
        "* *For example &nbsp; 97.98, &nbsp; 32.3+e18, &nbsp; -32.54e100, &nbsp; 3.0* \n",
        "\n",
        "* *Syntax:*\n",
        "```python\n",
        ">>> 97.98\n",
        " 97.98\n",
        "  -------------------------------------------------------------\n",
        ">>> 97.98\n",
        " 97.98\n",
        " --------------------------------------------------------------\n",
        ">>> 4.0\n",
        " 4.0\n",
        " --------------------------------------------------------------\n",
        ">>> -3.147\n",
        " -3.1477 \n",
        " --------------------------------------------------------------\n",
        ">>> 32.3e18        #scientic representation\n",
        " 3.23e+19\n",
        " --------------------------------------------------------------\n",
        ">>> -32.5e100\n",
        " -3.25e+101\n",
        " --------------------------------------------------------------\n",
        ">>> -32.5e-100\n",
        " -3.25e-99\n",
        " --------------------------------------------------------------\n",
        ">>> 1.82e308      # greater than 1.8 * 10^308 will print 'inf'\n",
        " inf\n",
        " --------------------------------------------------------------\n",
        ">>> -1.82e308     # lesser than -1.8 * 10^308 will print '-inf'\n",
        " -inf\n",
        "```\n",
        "\n",
        "---\n",
        "\n",
        "\n",
        "###**type()**\n",
        "This function return the datatype of object when you pass argument\n",
        "<hr>\n",
        "    \n",
        "*Syntax:*\n",
        "```python\n",
        "type(69)              #return int\n",
        "type(69.69)           #return float\n",
        "type( [69,420] )      #return list\n",
        "type( (69,420) )      #return tuple\n",
        "```\n",
        "<hr>\n",
        "\n",
        "**See below example to see datatype of number**"
      ],
      "metadata": {
        "id": "XJKGEv-8UbEB"
      }
    },
    {
      "cell_type": "code",
      "source": [
        "type(97.98)"
      ],
      "metadata": {
        "id": "qh0RbiwHUXEE",
        "colab": {
          "base_uri": "https://localhost:8080/"
        },
        "outputId": "5ed25a62-80cc-4001-ef88-25489e4928d0"
      },
      "execution_count": null,
      "outputs": [
        {
          "output_type": "execute_result",
          "data": {
            "text/plain": [
              "float"
            ]
          },
          "metadata": {},
          "execution_count": 1
        }
      ]
    },
    {
      "cell_type": "code",
      "source": [
        "type(4.0)"
      ],
      "metadata": {
        "id": "xMPzlA4EdxCs",
        "colab": {
          "base_uri": "https://localhost:8080/"
        },
        "outputId": "8f1d83c8-1e37-4789-e5ea-eb7b177777e8"
      },
      "execution_count": null,
      "outputs": [
        {
          "output_type": "execute_result",
          "data": {
            "text/plain": [
              "float"
            ]
          },
          "metadata": {},
          "execution_count": 2
        }
      ]
    },
    {
      "cell_type": "code",
      "source": [
        "type(-3.147)"
      ],
      "metadata": {
        "id": "jcxQvH8Dd1dO",
        "colab": {
          "base_uri": "https://localhost:8080/"
        },
        "outputId": "0a261969-68cf-4548-8a01-c0f1fd36be88"
      },
      "execution_count": null,
      "outputs": [
        {
          "output_type": "execute_result",
          "data": {
            "text/plain": [
              "float"
            ]
          },
          "metadata": {},
          "execution_count": 3
        }
      ]
    },
    {
      "cell_type": "code",
      "source": [
        "#scientic notation\n",
        "\n",
        "print(32.3e18)\n",
        "type(32.3e18)"
      ],
      "metadata": {
        "id": "0ap3WIRseQkj",
        "colab": {
          "base_uri": "https://localhost:8080/"
        },
        "outputId": "8a5fcd9e-019b-413c-eb51-309f5d229042"
      },
      "execution_count": null,
      "outputs": [
        {
          "output_type": "stream",
          "name": "stdout",
          "text": [
            "3.23e+19\n"
          ]
        },
        {
          "output_type": "execute_result",
          "data": {
            "text/plain": [
              "float"
            ]
          },
          "metadata": {},
          "execution_count": 4
        }
      ]
    },
    {
      "cell_type": "code",
      "source": [
        "#scientic notation\n",
        "\n",
        "print(-32.5e100)\n",
        "type(-32.5e100)"
      ],
      "metadata": {
        "id": "Z8wUcsZKep0y",
        "colab": {
          "base_uri": "https://localhost:8080/"
        },
        "outputId": "1876b32d-b1f1-4c82-d64a-5273f3875a7d"
      },
      "execution_count": null,
      "outputs": [
        {
          "output_type": "stream",
          "name": "stdout",
          "text": [
            "-3.25e+101\n"
          ]
        },
        {
          "output_type": "execute_result",
          "data": {
            "text/plain": [
              "float"
            ]
          },
          "metadata": {},
          "execution_count": 5
        }
      ]
    },
    {
      "cell_type": "code",
      "source": [
        "#scientic notation\n",
        "\n",
        "print(-32.5e-100)\n",
        "type(-32.5e-100)"
      ],
      "metadata": {
        "id": "QJRJuUXhfIsd",
        "colab": {
          "base_uri": "https://localhost:8080/"
        },
        "outputId": "a4fe9554-b9b9-4335-abd4-727db4ac84cc"
      },
      "execution_count": null,
      "outputs": [
        {
          "output_type": "stream",
          "name": "stdout",
          "text": [
            "-3.25e-99\n"
          ]
        },
        {
          "output_type": "execute_result",
          "data": {
            "text/plain": [
              "float"
            ]
          },
          "metadata": {},
          "execution_count": 6
        }
      ]
    },
    {
      "cell_type": "code",
      "source": [
        "# greater than equal to 1.8 * 10^308\n",
        "# will print 'inf' means \" infinity \"\n",
        "\n",
        "print(1.82e308)\n",
        "type(1.82e308)"
      ],
      "metadata": {
        "id": "66EMfbuHfOpi",
        "colab": {
          "base_uri": "https://localhost:8080/"
        },
        "outputId": "4267d515-fc1b-4ce7-d68b-982d1f194160"
      },
      "execution_count": null,
      "outputs": [
        {
          "output_type": "stream",
          "name": "stdout",
          "text": [
            "inf\n"
          ]
        },
        {
          "output_type": "execute_result",
          "data": {
            "text/plain": [
              "float"
            ]
          },
          "metadata": {},
          "execution_count": 7
        }
      ]
    },
    {
      "cell_type": "code",
      "source": [
        "# lesser than equal to -1.8 * 10^308\n",
        "# will print '-inf' means \" -infinity \"\n",
        "\n",
        "print(-1.82e308)\n",
        "type(-1.82e308)"
      ],
      "metadata": {
        "id": "W06hH-28ii9O",
        "colab": {
          "base_uri": "https://localhost:8080/"
        },
        "outputId": "f8e75209-2d3a-4868-bcf4-05a57a8df672"
      },
      "execution_count": null,
      "outputs": [
        {
          "output_type": "stream",
          "name": "stdout",
          "text": [
            "-inf\n"
          ]
        },
        {
          "output_type": "execute_result",
          "data": {
            "text/plain": [
              "float"
            ]
          },
          "metadata": {},
          "execution_count": 8
        }
      ]
    },
    {
      "cell_type": "code",
      "source": [
        "0x3.a7p10"
      ],
      "metadata": {
        "colab": {
          "base_uri": "https://localhost:8080/",
          "height": 165
        },
        "id": "0QYNmQVjYBsk",
        "outputId": "e0786546-61a7-417a-f591-398b48d0e623"
      },
      "execution_count": null,
      "outputs": [
        {
          "output_type": "error",
          "ename": "AttributeError",
          "evalue": "ignored",
          "traceback": [
            "\u001b[0;31m---------------------------------------------------------------------------\u001b[0m",
            "\u001b[0;31mAttributeError\u001b[0m                            Traceback (most recent call last)",
            "\u001b[0;32m<ipython-input-12-21f0f7e28903>\u001b[0m in \u001b[0;36m<module>\u001b[0;34m()\u001b[0m\n\u001b[0;32m----> 1\u001b[0;31m \u001b[0;36m0x3\u001b[0m\u001b[0;34m.\u001b[0m\u001b[0ma7p10\u001b[0m\u001b[0;34m\u001b[0m\u001b[0;34m\u001b[0m\u001b[0m\n\u001b[0m",
            "\u001b[0;31mAttributeError\u001b[0m: 'int' object has no attribute 'a7p10'"
          ]
        }
      ]
    },
    {
      "cell_type": "markdown",
      "source": [
        "###**float()**\n",
        "*The **float()** function will returns an floating point object constructed from a int or string let say x, or return 0 if no arguments are specified.*\n",
        "<hr>\n",
        "\n",
        "* *Syntax*\n",
        "```python\n",
        "int( value, base)\n",
        "int (x, base=10)\n",
        "# by default base value is 10\n",
        "```\n",
        "\n",
        "<hr>"
      ],
      "metadata": {
        "id": "v7LweZNMN34x"
      }
    },
    {
      "cell_type": "markdown",
      "source": [
        "####**NaN (Not a Number)**\n",
        "\n",
        "* **NaN**, standing for **Not a Number**, is a numeric data type used to represent any value that is undefined or unpresentable.\n",
        "* For example, **0/0** is undefined as a real number and is, therefore, represented by **NaN**. \n",
        "* The **square root of a negative number** is an imaginary number that cannot be represented as a real number, so, it is represented by **NaN**.\n",
        "* The result of  \" **float(\"nan\") == float('nan')** \" always give **False**.\n",
        "\n",
        " * *Syntax:*\n",
        " ```python\n",
        ">>> float(\"nan\")\n",
        "nan\n",
        ">>> float(\"Nan\")\n",
        "nan\n",
        ">>> float(\"NAN\")\n",
        "nan\n",
        ">>> float(\"NaN\")\n",
        "nan\n",
        ">>> float(\"nan\") == float('nan') #always gives False\n",
        "False\n",
        "```"
      ],
      "metadata": {
        "id": "syh9kuFnQCE9"
      }
    },
    {
      "cell_type": "code",
      "source": [
        "# for every string pattern of this it display nan\n",
        "for i in \"nan\", \"Nan\", \"naN\", \"nAn\", \"NAn\", \"nAN\", \"NaN\", \"NAN\":\n",
        "  print(float(i))"
      ],
      "metadata": {
        "colab": {
          "base_uri": "https://localhost:8080/"
        },
        "id": "w-x_RlaOzygf",
        "outputId": "eb94aee5-8500-4500-d32c-e1c57179d1ca"
      },
      "execution_count": null,
      "outputs": [
        {
          "output_type": "stream",
          "name": "stdout",
          "text": [
            "nan\n",
            "nan\n",
            "nan\n",
            "nan\n",
            "nan\n",
            "nan\n",
            "nan\n",
            "nan\n"
          ]
        }
      ]
    },
    {
      "cell_type": "code",
      "source": [
        "float()"
      ],
      "metadata": {
        "id": "ImLkaHpmjQAe"
      },
      "execution_count": null,
      "outputs": []
    },
    {
      "cell_type": "code",
      "source": [
        "print(float(\"InF\"))\n",
        "print(float(\"InFiNiTy\"))\n",
        " \n",
        "# for NaN ie Not a Number\n",
        "print(float(\"nan\"))\n",
        "print(float(\"NaN\"))"
      ],
      "metadata": {
        "colab": {
          "base_uri": "https://localhost:8080/"
        },
        "id": "oYqxtww5NaZN",
        "outputId": "d99e6779-fc55-428e-821d-94c1a1f5c1b2"
      },
      "execution_count": null,
      "outputs": [
        {
          "output_type": "stream",
          "name": "stdout",
          "text": [
            "inf\n",
            "inf\n",
            "nan\n",
            "nan\n"
          ]
        }
      ]
    },
    {
      "cell_type": "code",
      "source": [
        "# always remember\n",
        "\n",
        "var = float('nan')\n",
        "print(float('nan') == float('nan'))\n",
        "\n",
        "var == float('nan')"
      ],
      "metadata": {
        "colab": {
          "base_uri": "https://localhost:8080/"
        },
        "id": "VMf6uav_f0HC",
        "outputId": "ccd26fc6-c68a-489e-d8b2-532d796488e3"
      },
      "execution_count": 7,
      "outputs": [
        {
          "output_type": "stream",
          "name": "stdout",
          "text": [
            "False\n"
          ]
        },
        {
          "output_type": "execute_result",
          "data": {
            "text/plain": [
              "False"
            ]
          },
          "metadata": {},
          "execution_count": 7
        }
      ]
    },
    {
      "cell_type": "markdown",
      "source": [
        "#####**how to check whether variable is NaN**"
      ],
      "metadata": {
        "id": "pDidEz1xh_lh"
      }
    },
    {
      "cell_type": "code",
      "source": [
        "def is_variable_nan(var):\n",
        "  return not (float('-inf') <= var <= float('inf') )\n",
        "\n",
        "print(is_variable_nan(12.33))           #gives False\n",
        "print(is_variable_nan(233.0))           #gives False\n",
        "print(is_variable_nan(22))              #gives False\n",
        "print(is_variable_nan(float('inf')))    #gives False\n",
        "is_variable_nan(float('nan'))           #gives True\n"
      ],
      "metadata": {
        "colab": {
          "base_uri": "https://localhost:8080/"
        },
        "id": "cEBcRNejh-Ka",
        "outputId": "6d82c333-0132-4c5c-f0b0-8f17ce95e4e9"
      },
      "execution_count": 26,
      "outputs": [
        {
          "output_type": "stream",
          "name": "stdout",
          "text": [
            "False\n",
            "False\n",
            "False\n",
            "False\n"
          ]
        },
        {
          "output_type": "execute_result",
          "data": {
            "text/plain": [
              "True"
            ]
          },
          "metadata": {},
          "execution_count": 26
        }
      ]
    },
    {
      "cell_type": "markdown",
      "source": [
        "####**Infinity (inf)**\n",
        "\n",
        "* **inf**, standing for **Infinity**, is a numeric data type used to represent any value that is beyond 1.8 * 10^308.\n",
        "* **-inf**, standing for **Infinity**, is a numeric data type used to represent any value that is beyond -1.8 * 10^308.\n",
        "* All possible strings of **' infinity '** will give value as **inf**\n",
        "* All possible strings of **' -infinity '** will give value as **-inf**\n",
        "\n",
        " * *Syntax:*\n",
        "```python\n",
        ">>> float(\"inf\")\n",
        "inf\n",
        ">>> float(\"-inf\")\n",
        "   -inf\n",
        ">>> float(\"-Inf\")\n",
        "   -inf\n",
        ">>> float(\"Inf\")\n",
        "inf\n",
        ">>> 1.8e308\n",
        "inf\n",
        ">>> -1.8e308\n",
        "   -inf\n",
        ">>> float('infinity')\n",
        "inf\n",
        ">>>float('-infinity')\n",
        "   -inf\n",
        "```"
      ],
      "metadata": {
        "id": "hGOUKIcQ3HEA"
      }
    },
    {
      "cell_type": "code",
      "source": [
        "float('infinity')"
      ],
      "metadata": {
        "colab": {
          "base_uri": "https://localhost:8080/"
        },
        "id": "Bp9eT67m3zBM",
        "outputId": "01baa353-1058-4572-a6bd-4b657c826f8f"
      },
      "execution_count": null,
      "outputs": [
        {
          "output_type": "execute_result",
          "data": {
            "text/plain": [
              "inf"
            ]
          },
          "metadata": {},
          "execution_count": 14
        }
      ]
    },
    {
      "cell_type": "code",
      "source": [
        "float('-infinity')"
      ],
      "metadata": {
        "colab": {
          "base_uri": "https://localhost:8080/"
        },
        "id": "10lEWdj96KXB",
        "outputId": "4847f019-3818-4f01-9584-12d8838a3c10"
      },
      "execution_count": null,
      "outputs": [
        {
          "output_type": "execute_result",
          "data": {
            "text/plain": [
              "-inf"
            ]
          },
          "metadata": {},
          "execution_count": 20
        }
      ]
    },
    {
      "cell_type": "code",
      "source": [
        "import itertools\n",
        "\n",
        "s = 'infinity'\n",
        "inf_strings = list(map(''.join, itertools.product(*zip(s.upper(), s.lower()))))\n",
        "\n",
        "# list of all possible infinity strings\n",
        "print(inf_strings)\n",
        "\n",
        "neg_inf_strings=list()\n",
        "\n",
        "for i in range(len(inf_strings)):\n",
        "  neg_inf_strings.append('-'+inf_strings[i])\n",
        "\n",
        "\n",
        "# list of all possible -infinity strings\n",
        "print(neg_inf_strings)\n",
        "\n",
        "\n"
      ],
      "metadata": {
        "colab": {
          "base_uri": "https://localhost:8080/"
        },
        "id": "v2owPOqA32B3",
        "outputId": "5e1ed1b7-be87-472f-da16-adbec85d0ef6"
      },
      "execution_count": null,
      "outputs": [
        {
          "output_type": "stream",
          "name": "stdout",
          "text": [
            "['INFINITY', 'INFINITy', 'INFINItY', 'INFINIty', 'INFINiTY', 'INFINiTy', 'INFINitY', 'INFINity', 'INFInITY', 'INFInITy', 'INFInItY', 'INFInIty', 'INFIniTY', 'INFIniTy', 'INFInitY', 'INFInity', 'INFiNITY', 'INFiNITy', 'INFiNItY', 'INFiNIty', 'INFiNiTY', 'INFiNiTy', 'INFiNitY', 'INFiNity', 'INFinITY', 'INFinITy', 'INFinItY', 'INFinIty', 'INFiniTY', 'INFiniTy', 'INFinitY', 'INFinity', 'INfINITY', 'INfINITy', 'INfINItY', 'INfINIty', 'INfINiTY', 'INfINiTy', 'INfINitY', 'INfINity', 'INfInITY', 'INfInITy', 'INfInItY', 'INfInIty', 'INfIniTY', 'INfIniTy', 'INfInitY', 'INfInity', 'INfiNITY', 'INfiNITy', 'INfiNItY', 'INfiNIty', 'INfiNiTY', 'INfiNiTy', 'INfiNitY', 'INfiNity', 'INfinITY', 'INfinITy', 'INfinItY', 'INfinIty', 'INfiniTY', 'INfiniTy', 'INfinitY', 'INfinity', 'InFINITY', 'InFINITy', 'InFINItY', 'InFINIty', 'InFINiTY', 'InFINiTy', 'InFINitY', 'InFINity', 'InFInITY', 'InFInITy', 'InFInItY', 'InFInIty', 'InFIniTY', 'InFIniTy', 'InFInitY', 'InFInity', 'InFiNITY', 'InFiNITy', 'InFiNItY', 'InFiNIty', 'InFiNiTY', 'InFiNiTy', 'InFiNitY', 'InFiNity', 'InFinITY', 'InFinITy', 'InFinItY', 'InFinIty', 'InFiniTY', 'InFiniTy', 'InFinitY', 'InFinity', 'InfINITY', 'InfINITy', 'InfINItY', 'InfINIty', 'InfINiTY', 'InfINiTy', 'InfINitY', 'InfINity', 'InfInITY', 'InfInITy', 'InfInItY', 'InfInIty', 'InfIniTY', 'InfIniTy', 'InfInitY', 'InfInity', 'InfiNITY', 'InfiNITy', 'InfiNItY', 'InfiNIty', 'InfiNiTY', 'InfiNiTy', 'InfiNitY', 'InfiNity', 'InfinITY', 'InfinITy', 'InfinItY', 'InfinIty', 'InfiniTY', 'InfiniTy', 'InfinitY', 'Infinity', 'iNFINITY', 'iNFINITy', 'iNFINItY', 'iNFINIty', 'iNFINiTY', 'iNFINiTy', 'iNFINitY', 'iNFINity', 'iNFInITY', 'iNFInITy', 'iNFInItY', 'iNFInIty', 'iNFIniTY', 'iNFIniTy', 'iNFInitY', 'iNFInity', 'iNFiNITY', 'iNFiNITy', 'iNFiNItY', 'iNFiNIty', 'iNFiNiTY', 'iNFiNiTy', 'iNFiNitY', 'iNFiNity', 'iNFinITY', 'iNFinITy', 'iNFinItY', 'iNFinIty', 'iNFiniTY', 'iNFiniTy', 'iNFinitY', 'iNFinity', 'iNfINITY', 'iNfINITy', 'iNfINItY', 'iNfINIty', 'iNfINiTY', 'iNfINiTy', 'iNfINitY', 'iNfINity', 'iNfInITY', 'iNfInITy', 'iNfInItY', 'iNfInIty', 'iNfIniTY', 'iNfIniTy', 'iNfInitY', 'iNfInity', 'iNfiNITY', 'iNfiNITy', 'iNfiNItY', 'iNfiNIty', 'iNfiNiTY', 'iNfiNiTy', 'iNfiNitY', 'iNfiNity', 'iNfinITY', 'iNfinITy', 'iNfinItY', 'iNfinIty', 'iNfiniTY', 'iNfiniTy', 'iNfinitY', 'iNfinity', 'inFINITY', 'inFINITy', 'inFINItY', 'inFINIty', 'inFINiTY', 'inFINiTy', 'inFINitY', 'inFINity', 'inFInITY', 'inFInITy', 'inFInItY', 'inFInIty', 'inFIniTY', 'inFIniTy', 'inFInitY', 'inFInity', 'inFiNITY', 'inFiNITy', 'inFiNItY', 'inFiNIty', 'inFiNiTY', 'inFiNiTy', 'inFiNitY', 'inFiNity', 'inFinITY', 'inFinITy', 'inFinItY', 'inFinIty', 'inFiniTY', 'inFiniTy', 'inFinitY', 'inFinity', 'infINITY', 'infINITy', 'infINItY', 'infINIty', 'infINiTY', 'infINiTy', 'infINitY', 'infINity', 'infInITY', 'infInITy', 'infInItY', 'infInIty', 'infIniTY', 'infIniTy', 'infInitY', 'infInity', 'infiNITY', 'infiNITy', 'infiNItY', 'infiNIty', 'infiNiTY', 'infiNiTy', 'infiNitY', 'infiNity', 'infinITY', 'infinITy', 'infinItY', 'infinIty', 'infiniTY', 'infiniTy', 'infinitY', 'infinity']\n",
            "['-INFINITY', '-INFINITy', '-INFINItY', '-INFINIty', '-INFINiTY', '-INFINiTy', '-INFINitY', '-INFINity', '-INFInITY', '-INFInITy', '-INFInItY', '-INFInIty', '-INFIniTY', '-INFIniTy', '-INFInitY', '-INFInity', '-INFiNITY', '-INFiNITy', '-INFiNItY', '-INFiNIty', '-INFiNiTY', '-INFiNiTy', '-INFiNitY', '-INFiNity', '-INFinITY', '-INFinITy', '-INFinItY', '-INFinIty', '-INFiniTY', '-INFiniTy', '-INFinitY', '-INFinity', '-INfINITY', '-INfINITy', '-INfINItY', '-INfINIty', '-INfINiTY', '-INfINiTy', '-INfINitY', '-INfINity', '-INfInITY', '-INfInITy', '-INfInItY', '-INfInIty', '-INfIniTY', '-INfIniTy', '-INfInitY', '-INfInity', '-INfiNITY', '-INfiNITy', '-INfiNItY', '-INfiNIty', '-INfiNiTY', '-INfiNiTy', '-INfiNitY', '-INfiNity', '-INfinITY', '-INfinITy', '-INfinItY', '-INfinIty', '-INfiniTY', '-INfiniTy', '-INfinitY', '-INfinity', '-InFINITY', '-InFINITy', '-InFINItY', '-InFINIty', '-InFINiTY', '-InFINiTy', '-InFINitY', '-InFINity', '-InFInITY', '-InFInITy', '-InFInItY', '-InFInIty', '-InFIniTY', '-InFIniTy', '-InFInitY', '-InFInity', '-InFiNITY', '-InFiNITy', '-InFiNItY', '-InFiNIty', '-InFiNiTY', '-InFiNiTy', '-InFiNitY', '-InFiNity', '-InFinITY', '-InFinITy', '-InFinItY', '-InFinIty', '-InFiniTY', '-InFiniTy', '-InFinitY', '-InFinity', '-InfINITY', '-InfINITy', '-InfINItY', '-InfINIty', '-InfINiTY', '-InfINiTy', '-InfINitY', '-InfINity', '-InfInITY', '-InfInITy', '-InfInItY', '-InfInIty', '-InfIniTY', '-InfIniTy', '-InfInitY', '-InfInity', '-InfiNITY', '-InfiNITy', '-InfiNItY', '-InfiNIty', '-InfiNiTY', '-InfiNiTy', '-InfiNitY', '-InfiNity', '-InfinITY', '-InfinITy', '-InfinItY', '-InfinIty', '-InfiniTY', '-InfiniTy', '-InfinitY', '-Infinity', '-iNFINITY', '-iNFINITy', '-iNFINItY', '-iNFINIty', '-iNFINiTY', '-iNFINiTy', '-iNFINitY', '-iNFINity', '-iNFInITY', '-iNFInITy', '-iNFInItY', '-iNFInIty', '-iNFIniTY', '-iNFIniTy', '-iNFInitY', '-iNFInity', '-iNFiNITY', '-iNFiNITy', '-iNFiNItY', '-iNFiNIty', '-iNFiNiTY', '-iNFiNiTy', '-iNFiNitY', '-iNFiNity', '-iNFinITY', '-iNFinITy', '-iNFinItY', '-iNFinIty', '-iNFiniTY', '-iNFiniTy', '-iNFinitY', '-iNFinity', '-iNfINITY', '-iNfINITy', '-iNfINItY', '-iNfINIty', '-iNfINiTY', '-iNfINiTy', '-iNfINitY', '-iNfINity', '-iNfInITY', '-iNfInITy', '-iNfInItY', '-iNfInIty', '-iNfIniTY', '-iNfIniTy', '-iNfInitY', '-iNfInity', '-iNfiNITY', '-iNfiNITy', '-iNfiNItY', '-iNfiNIty', '-iNfiNiTY', '-iNfiNiTy', '-iNfiNitY', '-iNfiNity', '-iNfinITY', '-iNfinITy', '-iNfinItY', '-iNfinIty', '-iNfiniTY', '-iNfiniTy', '-iNfinitY', '-iNfinity', '-inFINITY', '-inFINITy', '-inFINItY', '-inFINIty', '-inFINiTY', '-inFINiTy', '-inFINitY', '-inFINity', '-inFInITY', '-inFInITy', '-inFInItY', '-inFInIty', '-inFIniTY', '-inFIniTy', '-inFInitY', '-inFInity', '-inFiNITY', '-inFiNITy', '-inFiNItY', '-inFiNIty', '-inFiNiTY', '-inFiNiTy', '-inFiNitY', '-inFiNity', '-inFinITY', '-inFinITy', '-inFinItY', '-inFinIty', '-inFiniTY', '-inFiniTy', '-inFinitY', '-inFinity', '-infINITY', '-infINITy', '-infINItY', '-infINIty', '-infINiTY', '-infINiTy', '-infINitY', '-infINity', '-infInITY', '-infInITy', '-infInItY', '-infInIty', '-infIniTY', '-infIniTy', '-infInitY', '-infInity', '-infiNITY', '-infiNITy', '-infiNItY', '-infiNIty', '-infiNiTY', '-infiNiTy', '-infiNitY', '-infiNity', '-infinITY', '-infinITy', '-infinItY', '-infinIty', '-infiniTY', '-infiniTy', '-infinitY', '-infinity']\n"
          ]
        }
      ]
    },
    {
      "cell_type": "code",
      "source": [
        "# no error for infinity\n",
        "for i in inf_strings:\n",
        "  try: float(i)\n",
        "  except:print(\"There is an error\")\n",
        "print(\"There is no error\")"
      ],
      "metadata": {
        "colab": {
          "base_uri": "https://localhost:8080/"
        },
        "id": "nKNMtcql5LBZ",
        "outputId": "09a635ae-0352-40c2-c443-e53670cedfb9"
      },
      "execution_count": null,
      "outputs": [
        {
          "output_type": "stream",
          "name": "stdout",
          "text": [
            "There is no error\n"
          ]
        }
      ]
    },
    {
      "cell_type": "code",
      "source": [
        "# no error for -infinity\n",
        "for i in neg_inf_strings:\n",
        "  try: float(i)\n",
        "  except:print(\"There is an error\")\n",
        "print(\"There is no error\")"
      ],
      "metadata": {
        "colab": {
          "base_uri": "https://localhost:8080/"
        },
        "id": "f8LfgZpY7Hww",
        "outputId": "bec803e1-8a03-4069-bc7d-1a53f5a48fb7"
      },
      "execution_count": null,
      "outputs": [
        {
          "output_type": "stream",
          "name": "stdout",
          "text": [
            "There is no error\n"
          ]
        }
      ]
    },
    {
      "cell_type": "markdown",
      "source": [
        "####**int to float**"
      ],
      "metadata": {
        "id": "0p6DFRts27Y3"
      }
    },
    {
      "cell_type": "code",
      "source": [
        "float(1)"
      ],
      "metadata": {
        "colab": {
          "base_uri": "https://localhost:8080/"
        },
        "id": "i4QqlDdl8cPp",
        "outputId": "4dee9c88-6f3f-47c0-ab74-1211ee151c47"
      },
      "execution_count": null,
      "outputs": [
        {
          "output_type": "execute_result",
          "data": {
            "text/plain": [
              "1.0"
            ]
          },
          "metadata": {},
          "execution_count": 24
        }
      ]
    },
    {
      "cell_type": "code",
      "source": [
        "float(23)"
      ],
      "metadata": {
        "colab": {
          "base_uri": "https://localhost:8080/"
        },
        "id": "I6GIaEqK8eHh",
        "outputId": "f238f82c-7c3d-4da7-96fd-1fce11f78b9f"
      },
      "execution_count": null,
      "outputs": [
        {
          "output_type": "execute_result",
          "data": {
            "text/plain": [
              "23.0"
            ]
          },
          "metadata": {},
          "execution_count": 25
        }
      ]
    },
    {
      "cell_type": "code",
      "source": [
        "float(45)"
      ],
      "metadata": {
        "colab": {
          "base_uri": "https://localhost:8080/"
        },
        "id": "jJB9jE6W8eDn",
        "outputId": "7b6d7f83-ce15-4ca5-a846-8018f5d96cda"
      },
      "execution_count": null,
      "outputs": [
        {
          "output_type": "execute_result",
          "data": {
            "text/plain": [
              "45.0"
            ]
          },
          "metadata": {},
          "execution_count": 26
        }
      ]
    },
    {
      "cell_type": "markdown",
      "source": [
        "####**string to float**"
      ],
      "metadata": {
        "id": "P53VrARl8m6n"
      }
    },
    {
      "cell_type": "markdown",
      "source": [
        "#####**gives error**"
      ],
      "metadata": {
        "id": "vEp_BnRd8ylx"
      }
    },
    {
      "cell_type": "code",
      "source": [
        "float(\"hello\")"
      ],
      "metadata": {
        "colab": {
          "base_uri": "https://localhost:8080/",
          "height": 165
        },
        "id": "i8nKe4Xb85WF",
        "outputId": "56281d52-3841-4835-a77c-e0f13878f300"
      },
      "execution_count": null,
      "outputs": [
        {
          "output_type": "error",
          "ename": "ValueError",
          "evalue": "ignored",
          "traceback": [
            "\u001b[0;31m---------------------------------------------------------------------------\u001b[0m",
            "\u001b[0;31mValueError\u001b[0m                                Traceback (most recent call last)",
            "\u001b[0;32m<ipython-input-29-7124e8e12e61>\u001b[0m in \u001b[0;36m<module>\u001b[0;34m()\u001b[0m\n\u001b[0;32m----> 1\u001b[0;31m \u001b[0mfloat\u001b[0m\u001b[0;34m(\u001b[0m\u001b[0;34m\"hello\"\u001b[0m\u001b[0;34m)\u001b[0m\u001b[0;34m\u001b[0m\u001b[0;34m\u001b[0m\u001b[0m\n\u001b[0m",
            "\u001b[0;31mValueError\u001b[0m: could not convert string to float: 'hello'"
          ]
        }
      ]
    },
    {
      "cell_type": "code",
      "source": [
        "float(\"python\")"
      ],
      "metadata": {
        "colab": {
          "base_uri": "https://localhost:8080/",
          "height": 165
        },
        "id": "znH-ve5X89t9",
        "outputId": "840ea63b-7a2d-442e-d5bb-68362e8011c2"
      },
      "execution_count": null,
      "outputs": [
        {
          "output_type": "error",
          "ename": "ValueError",
          "evalue": "ignored",
          "traceback": [
            "\u001b[0;31m---------------------------------------------------------------------------\u001b[0m",
            "\u001b[0;31mValueError\u001b[0m                                Traceback (most recent call last)",
            "\u001b[0;32m<ipython-input-28-db4cb8a5fbe8>\u001b[0m in \u001b[0;36m<module>\u001b[0;34m()\u001b[0m\n\u001b[0;32m----> 1\u001b[0;31m \u001b[0mfloat\u001b[0m\u001b[0;34m(\u001b[0m\u001b[0;34m\"python\"\u001b[0m\u001b[0;34m)\u001b[0m\u001b[0;34m\u001b[0m\u001b[0;34m\u001b[0m\u001b[0m\n\u001b[0m",
            "\u001b[0;31mValueError\u001b[0m: could not convert string to float: 'python'"
          ]
        }
      ]
    },
    {
      "cell_type": "markdown",
      "source": [
        "#####**no error**"
      ],
      "metadata": {
        "id": "yvX4ya5t81_U"
      }
    },
    {
      "cell_type": "code",
      "source": [
        "float(\"nan\")"
      ],
      "metadata": {
        "colab": {
          "base_uri": "https://localhost:8080/"
        },
        "id": "cPSG4ten8x8p",
        "outputId": "39f40fe8-d4d1-4d44-c803-a8e3a7bf1727"
      },
      "execution_count": null,
      "outputs": [
        {
          "output_type": "execute_result",
          "data": {
            "text/plain": [
              "nan"
            ]
          },
          "metadata": {},
          "execution_count": 30
        }
      ]
    },
    {
      "cell_type": "code",
      "source": [
        "float(\"inf\")"
      ],
      "metadata": {
        "colab": {
          "base_uri": "https://localhost:8080/"
        },
        "id": "GMuYFSBm8d5c",
        "outputId": "49d3c9b2-4c6c-4566-bf77-81e239135d64"
      },
      "execution_count": null,
      "outputs": [
        {
          "output_type": "execute_result",
          "data": {
            "text/plain": [
              "inf"
            ]
          },
          "metadata": {},
          "execution_count": 31
        }
      ]
    },
    {
      "cell_type": "code",
      "source": [
        "float(\"-inf\")"
      ],
      "metadata": {
        "colab": {
          "base_uri": "https://localhost:8080/"
        },
        "id": "HIuxQQrI9H3K",
        "outputId": "572761ae-6130-4c79-bf17-79d0e260e1f9"
      },
      "execution_count": null,
      "outputs": [
        {
          "output_type": "execute_result",
          "data": {
            "text/plain": [
              "-inf"
            ]
          },
          "metadata": {},
          "execution_count": 32
        }
      ]
    },
    {
      "cell_type": "code",
      "source": [
        "float(\"infinity\")"
      ],
      "metadata": {
        "colab": {
          "base_uri": "https://localhost:8080/"
        },
        "id": "nIz350PZ9K4o",
        "outputId": "a03cad0b-a447-40dd-afd0-c28151eb2886"
      },
      "execution_count": null,
      "outputs": [
        {
          "output_type": "execute_result",
          "data": {
            "text/plain": [
              "inf"
            ]
          },
          "metadata": {},
          "execution_count": 33
        }
      ]
    },
    {
      "cell_type": "code",
      "source": [
        "float(\"-infinity\")"
      ],
      "metadata": {
        "colab": {
          "base_uri": "https://localhost:8080/"
        },
        "id": "yjNiLK969NJi",
        "outputId": "d2683fef-1416-47de-a2a4-dfffa0a6b5ae"
      },
      "execution_count": null,
      "outputs": [
        {
          "output_type": "execute_result",
          "data": {
            "text/plain": [
              "-inf"
            ]
          },
          "metadata": {},
          "execution_count": 34
        }
      ]
    },
    {
      "cell_type": "markdown",
      "source": [
        "####**. as_integer_ratio()**\n",
        "\n",
        "* Return a pair of integers whose ratio is exactly equal to the original float and with a positive denominator. Raises \n",
        "* OverflowError on infinities and a ValueError on NaNs.\n",
        "\n",
        " * *Syntax*\n",
        "```python\n",
        ">>> 13.2 .as_integer_ratio()\n",
        "( 3715469692580659, 281474976710656 )\n",
        ">>> 3715469692580659 / 281474976710656\n",
        "   13.2\n",
        ">>> 2.0 .as_integer_ratio()\n",
        "( 2, 1 )\n",
        "```"
      ],
      "metadata": {
        "id": "IL9yxgGO9SVz"
      }
    },
    {
      "cell_type": "code",
      "source": [
        "13.2 .as_integer_ratio()"
      ],
      "metadata": {
        "colab": {
          "base_uri": "https://localhost:8080/"
        },
        "id": "kJ_IVK_yrds0",
        "outputId": "0b7c2e46-0751-41f2-f67d-2e328b263432"
      },
      "execution_count": null,
      "outputs": [
        {
          "output_type": "execute_result",
          "data": {
            "text/plain": [
              "(3715469692580659, 281474976710656)"
            ]
          },
          "metadata": {},
          "execution_count": 3
        }
      ]
    },
    {
      "cell_type": "code",
      "source": [
        "3715469692580659/281474976710656"
      ],
      "metadata": {
        "colab": {
          "base_uri": "https://localhost:8080/"
        },
        "id": "8yV5L3tRvEGH",
        "outputId": "02626c75-a466-4364-b93d-e54244031b92"
      },
      "execution_count": null,
      "outputs": [
        {
          "output_type": "execute_result",
          "data": {
            "text/plain": [
              "13.2"
            ]
          },
          "metadata": {},
          "execution_count": 4
        }
      ]
    },
    {
      "cell_type": "code",
      "source": [
        "2.0 .as_integer_ratio()"
      ],
      "metadata": {
        "colab": {
          "base_uri": "https://localhost:8080/"
        },
        "id": "mZ4TG-WxweyZ",
        "outputId": "e403a42b-b964-4d36-c260-52768e150357"
      },
      "execution_count": null,
      "outputs": [
        {
          "output_type": "execute_result",
          "data": {
            "text/plain": [
              "(2, 1)"
            ]
          },
          "metadata": {},
          "execution_count": 6
        }
      ]
    },
    {
      "cell_type": "code",
      "source": [
        "# gives ValueError\n",
        "float(\"nan\").as_integer_ratio() "
      ],
      "metadata": {
        "colab": {
          "base_uri": "https://localhost:8080/",
          "height": 165
        },
        "id": "PUGYYcdOw5Kq",
        "outputId": "d5280544-f788-46a4-cae6-7e8f0e005f6f"
      },
      "execution_count": null,
      "outputs": [
        {
          "output_type": "error",
          "ename": "ValueError",
          "evalue": "ignored",
          "traceback": [
            "\u001b[0;31m---------------------------------------------------------------------------\u001b[0m",
            "\u001b[0;31mValueError\u001b[0m                                Traceback (most recent call last)",
            "\u001b[0;32m<ipython-input-7-c69b9da387d9>\u001b[0m in \u001b[0;36m<module>\u001b[0;34m()\u001b[0m\n\u001b[0;32m----> 1\u001b[0;31m \u001b[0mfloat\u001b[0m\u001b[0;34m(\u001b[0m\u001b[0;34m\"nan\"\u001b[0m\u001b[0;34m)\u001b[0m\u001b[0;34m.\u001b[0m\u001b[0mas_integer_ratio\u001b[0m\u001b[0;34m(\u001b[0m\u001b[0;34m)\u001b[0m\u001b[0;34m\u001b[0m\u001b[0;34m\u001b[0m\u001b[0m\n\u001b[0m",
            "\u001b[0;31mValueError\u001b[0m: cannot convert NaN to integer ratio"
          ]
        }
      ]
    },
    {
      "cell_type": "code",
      "source": [
        "# gives OverflowError\n",
        "float(\"inf\").as_integer_ratio() "
      ],
      "metadata": {
        "colab": {
          "base_uri": "https://localhost:8080/",
          "height": 165
        },
        "id": "3KL4RD5lxWBA",
        "outputId": "ad433b65-dead-4f77-f566-dfb85e5dca4a"
      },
      "execution_count": null,
      "outputs": [
        {
          "output_type": "error",
          "ename": "OverflowError",
          "evalue": "ignored",
          "traceback": [
            "\u001b[0;31m---------------------------------------------------------------------------\u001b[0m",
            "\u001b[0;31mOverflowError\u001b[0m                             Traceback (most recent call last)",
            "\u001b[0;32m<ipython-input-8-87464ba993cc>\u001b[0m in \u001b[0;36m<module>\u001b[0;34m()\u001b[0m\n\u001b[0;32m----> 1\u001b[0;31m \u001b[0;36m1.8e308\u001b[0m\u001b[0;34m.\u001b[0m\u001b[0mas_integer_ratio\u001b[0m\u001b[0;34m(\u001b[0m\u001b[0;34m)\u001b[0m\u001b[0;34m\u001b[0m\u001b[0;34m\u001b[0m\u001b[0m\n\u001b[0m",
            "\u001b[0;31mOverflowError\u001b[0m: cannot convert Infinity to integer ratio"
          ]
        }
      ]
    },
    {
      "cell_type": "markdown",
      "source": [
        "####**. is_integer()**\n",
        "\n",
        "* Return **True** if the float instance is finite with integral value, and **False** otherwise.\n",
        "* For **\"Nan\"** ans **\"infinity\"** values it returns **False**.\n",
        " * *Syntax*\n",
        "```python\n",
        ">>> 2.0 .is_integer()\n",
        "True\n",
        ">>> 33.12 .is_integer()\n",
        "False\n",
        ">>> float('nan').as_integer_ratio()\n",
        "False\n",
        ">>> float('inf').as_integer_ratio()\n",
        "False\n",
        "```"
      ],
      "metadata": {
        "id": "uHHpZBXPxv_1"
      }
    },
    {
      "cell_type": "code",
      "source": [
        "2.0 .is_integer()"
      ],
      "metadata": {
        "colab": {
          "base_uri": "https://localhost:8080/"
        },
        "id": "MBRDympPybC8",
        "outputId": "c6db878b-97d1-48de-df14-0e0f09c2172e"
      },
      "execution_count": null,
      "outputs": [
        {
          "output_type": "execute_result",
          "data": {
            "text/plain": [
              "True"
            ]
          },
          "metadata": {},
          "execution_count": 12
        }
      ]
    },
    {
      "cell_type": "code",
      "source": [
        "123.0 .is_integer()"
      ],
      "metadata": {
        "colab": {
          "base_uri": "https://localhost:8080/"
        },
        "id": "2Clah4Xgyps0",
        "outputId": "c0d24e5d-1a21-491f-fb96-75898ecc1c48"
      },
      "execution_count": null,
      "outputs": [
        {
          "output_type": "execute_result",
          "data": {
            "text/plain": [
              "True"
            ]
          },
          "metadata": {},
          "execution_count": 13
        }
      ]
    },
    {
      "cell_type": "code",
      "source": [
        "3.127 .is_integer()"
      ],
      "metadata": {
        "colab": {
          "base_uri": "https://localhost:8080/"
        },
        "id": "1QqohDVmysPC",
        "outputId": "9f289288-7e4a-43ff-ddcf-98b36b524761"
      },
      "execution_count": null,
      "outputs": [
        {
          "output_type": "execute_result",
          "data": {
            "text/plain": [
              "False"
            ]
          },
          "metadata": {},
          "execution_count": 14
        }
      ]
    },
    {
      "cell_type": "code",
      "source": [
        "23.121 .is_integer()"
      ],
      "metadata": {
        "colab": {
          "base_uri": "https://localhost:8080/"
        },
        "id": "0jRMrpqKywsK",
        "outputId": "dc7d63bb-8aa1-4358-8ef4-6851ce863f66"
      },
      "execution_count": null,
      "outputs": [
        {
          "output_type": "execute_result",
          "data": {
            "text/plain": [
              "False"
            ]
          },
          "metadata": {},
          "execution_count": 15
        }
      ]
    },
    {
      "cell_type": "code",
      "source": [
        "float('nan').is_integer()"
      ],
      "metadata": {
        "colab": {
          "base_uri": "https://localhost:8080/"
        },
        "id": "b2TplS6Iy1Kv",
        "outputId": "8cc58a29-093d-474a-d510-1bd541d0b9a0"
      },
      "execution_count": null,
      "outputs": [
        {
          "output_type": "execute_result",
          "data": {
            "text/plain": [
              "False"
            ]
          },
          "metadata": {},
          "execution_count": 16
        }
      ]
    },
    {
      "cell_type": "code",
      "source": [
        "float('inf').is_integer()"
      ],
      "metadata": {
        "colab": {
          "base_uri": "https://localhost:8080/"
        },
        "id": "jxD7oA8Xy6Xk",
        "outputId": "27cfbd0b-9dfc-486f-b8b1-5a86e0548adf"
      },
      "execution_count": null,
      "outputs": [
        {
          "output_type": "execute_result",
          "data": {
            "text/plain": [
              "False"
            ]
          },
          "metadata": {},
          "execution_count": 17
        }
      ]
    },
    {
      "cell_type": "markdown",
      "source": [
        "#####**function of is_integer()**"
      ],
      "metadata": {
        "id": "CUzB7tlDkTlv"
      }
    },
    {
      "cell_type": "code",
      "source": [
        "# alternate solution for finding this result\n",
        "\n",
        "print( 2.0 == int(2.0))\n",
        "print( 23.121 == int(23.121))"
      ],
      "metadata": {
        "colab": {
          "base_uri": "https://localhost:8080/"
        },
        "id": "mcmsoafq2783",
        "outputId": "aad617a4-c5d4-4b49-ef3c-5091c3e1bf91"
      },
      "execution_count": null,
      "outputs": [
        {
          "output_type": "stream",
          "name": "stdout",
          "text": [
            "True\n",
            "False\n"
          ]
        }
      ]
    },
    {
      "cell_type": "code",
      "source": [
        "# function \n",
        "\n",
        "def is_integer(var):\n",
        "\n",
        "    #for inf number \n",
        "    if var == float('inf'): return False\n",
        "\n",
        "    #for Nan number\n",
        "    elif not (float('-inf') < float(var) < float('inf')): return False\n",
        "    \n",
        "    else: return var == int(var)\n",
        "\n",
        "print(is_integer(12.2))\n",
        "print(is_integer(234.0))\n",
        "print(is_integer(float('Nan')))\n",
        "print(is_integer(float('InF')))"
      ],
      "metadata": {
        "colab": {
          "base_uri": "https://localhost:8080/"
        },
        "id": "7e3pl12Pd7kX",
        "outputId": "be72cf59-9a02-446b-de47-0ee4e914a302"
      },
      "execution_count": 19,
      "outputs": [
        {
          "output_type": "stream",
          "name": "stdout",
          "text": [
            "False\n",
            "True\n",
            "False\n",
            "False\n"
          ]
        }
      ]
    },
    {
      "cell_type": "markdown",
      "source": [
        "####**. hex()**\n",
        "\n",
        "* Return a representation of a floating-point number as a hexadecimal string. For finite floating-point numbers, this representation will always include a leading 0x and a trailing p and exponent.\n",
        "\n",
        "* **Hexadecimal Strings representation:**\n",
        "```\n",
        "[sign] ['0x'] integer ['.' fraction] ['p' exponent]\n",
        "``` \n",
        " * *Syntax*\n",
        "```python\n",
        ">>> float.fromhex('0x3.a7p10')\n",
        "   3740.0\n",
        ">>> 33.12 .is_integer()\n",
        "False\n",
        ">>> float('nan').as_integer_ratio()\n",
        "False\n",
        ">>> float('inf').as_integer_ratio()\n",
        "False\n",
        "```"
      ],
      "metadata": {
        "id": "BOlQjbiy3dgO"
      }
    },
    {
      "cell_type": "code",
      "source": [
        "float.hex(3740.0)"
      ],
      "metadata": {
        "colab": {
          "base_uri": "https://localhost:8080/",
          "height": 36
        },
        "id": "87BiPcr26CVW",
        "outputId": "46f377bc-ac51-4d4f-ff69-6b7968a3c6df"
      },
      "execution_count": null,
      "outputs": [
        {
          "output_type": "execute_result",
          "data": {
            "text/plain": [
              "'0x1.d380000000000p+11'"
            ],
            "application/vnd.google.colaboratory.intrinsic+json": {
              "type": "string"
            }
          },
          "metadata": {},
          "execution_count": 28
        }
      ]
    },
    {
      "cell_type": "code",
      "source": [
        "float.hex(12.34)"
      ],
      "metadata": {
        "colab": {
          "base_uri": "https://localhost:8080/",
          "height": 36
        },
        "id": "IGkd-RaelHPm",
        "outputId": "25432ca7-a232-4c87-af47-cf26604caddb"
      },
      "execution_count": null,
      "outputs": [
        {
          "output_type": "execute_result",
          "data": {
            "text/plain": [
              "'0x1.8ae147ae147aep+3'"
            ],
            "application/vnd.google.colaboratory.intrinsic+json": {
              "type": "string"
            }
          },
          "metadata": {},
          "execution_count": 1
        }
      ]
    },
    {
      "cell_type": "code",
      "source": [
        "float.fromhex('0x3.a7p10')"
      ],
      "metadata": {
        "id": "SHajZqN26Dwu",
        "colab": {
          "base_uri": "https://localhost:8080/"
        },
        "outputId": "a109ccc3-6d4e-4caa-f60d-f6f35c0c505c"
      },
      "execution_count": null,
      "outputs": [
        {
          "output_type": "execute_result",
          "data": {
            "text/plain": [
              "3740.0"
            ]
          },
          "metadata": {},
          "execution_count": 2
        }
      ]
    },
    {
      "cell_type": "markdown",
      "source": [
        "####**SOme existing function **\n",
        "3. **float .conjugate()**\n",
        " * *Here **conjugate of every integer is same value** it is useful in **complex number** but still you can use this function in integer*\n",
        "\n",
        "4. **float .real**\n",
        " * *Here **real number of every integer is same value** it is useful in **complex number** but still you can use this function in integer*\n",
        "\n",
        "5. **float .imag**\n",
        " * *Here **imaginary number of every integer is 0.0** it is useful in **complex number** but still you can use this function in integer*"
      ],
      "metadata": {
        "id": "HuKD8vrwl3oP"
      }
    },
    {
      "cell_type": "code",
      "source": [
        "# Conjugate\n",
        "\n",
        "print( 3.14 .conjugate() )\n",
        "print( 213.0 .conjugate() )\n",
        "print( 122.3 .conjugate() )\n",
        "print( 112.1 .conjugate() )\n",
        "\n",
        "\n",
        "print( float('nan').conjugate() )\n",
        "print( float('inf').conjugate() )\n",
        "float('-inf').conjugate()"
      ],
      "metadata": {
        "colab": {
          "base_uri": "https://localhost:8080/"
        },
        "id": "QcvyowkBl31r",
        "outputId": "1c7dc9a3-a24a-4bbd-b042-7cc0fa8ca8fc"
      },
      "execution_count": 38,
      "outputs": [
        {
          "output_type": "stream",
          "name": "stdout",
          "text": [
            "3.14\n",
            "213.0\n",
            "122.3\n",
            "112.1\n",
            "nan\n",
            "inf\n"
          ]
        },
        {
          "output_type": "execute_result",
          "data": {
            "text/plain": [
              "-inf"
            ]
          },
          "metadata": {},
          "execution_count": 38
        }
      ]
    },
    {
      "cell_type": "code",
      "source": [
        "# Real\n",
        "\n",
        "print( 3.14 .real )\n",
        "print( 213.0 .real )\n",
        "print( 122.3 .real )\n",
        "print( 112.1 .real )\n",
        "\n",
        "\n",
        "print( float('nan').real )\n",
        "print( float('inf').real )\n",
        "float('-inf').real"
      ],
      "metadata": {
        "colab": {
          "base_uri": "https://localhost:8080/"
        },
        "id": "GnxlkIZfm5i4",
        "outputId": "095966c0-ab16-4605-af35-79e14c03b6af"
      },
      "execution_count": 37,
      "outputs": [
        {
          "output_type": "stream",
          "name": "stdout",
          "text": [
            "3.14\n",
            "213.0\n",
            "122.3\n",
            "112.1\n",
            "nan\n",
            "inf\n"
          ]
        },
        {
          "output_type": "execute_result",
          "data": {
            "text/plain": [
              "-inf"
            ]
          },
          "metadata": {},
          "execution_count": 37
        }
      ]
    },
    {
      "cell_type": "code",
      "source": [
        "# Real\n",
        "\n",
        "print( 3.14 .imag )\n",
        "print( 213.0 .imag )\n",
        "print( 122.3 .imag )\n",
        "print( 112.1 .imag )\n",
        "\n",
        "\n",
        "print( float('nan').imag )\n",
        "print( float('inf').imag )\n",
        "float('-inf').imag"
      ],
      "metadata": {
        "colab": {
          "base_uri": "https://localhost:8080/"
        },
        "id": "psTQwL-anX92",
        "outputId": "193a3e42-a9cd-434e-b548-16dab839e983"
      },
      "execution_count": 39,
      "outputs": [
        {
          "output_type": "stream",
          "name": "stdout",
          "text": [
            "0.0\n",
            "0.0\n",
            "0.0\n",
            "0.0\n",
            "0.0\n",
            "0.0\n"
          ]
        },
        {
          "output_type": "execute_result",
          "data": {
            "text/plain": [
              "0.0"
            ]
          },
          "metadata": {},
          "execution_count": 39
        }
      ]
    },
    {
      "cell_type": "code",
      "source": [
        "dir(float)\n",
        "''''as_integer_ratio',\n",
        " 'conjugate',\n",
        " 'fromhex',\n",
        " 'hex',\n",
        " 'imag',\n",
        " 'is_integer',\n",
        " 'real''''"
      ],
      "metadata": {
        "colab": {
          "base_uri": "https://localhost:8080/"
        },
        "id": "yOUjKjmxLpeC",
        "outputId": "256ebfcd-2962-411b-c989-cff0b7bf1cf3"
      },
      "execution_count": null,
      "outputs": [
        {
          "output_type": "execute_result",
          "data": {
            "text/plain": [
              "['__abs__',\n",
              " '__add__',\n",
              " '__bool__',\n",
              " '__class__',\n",
              " '__delattr__',\n",
              " '__dir__',\n",
              " '__divmod__',\n",
              " '__doc__',\n",
              " '__eq__',\n",
              " '__float__',\n",
              " '__floordiv__',\n",
              " '__format__',\n",
              " '__ge__',\n",
              " '__getattribute__',\n",
              " '__getformat__',\n",
              " '__getnewargs__',\n",
              " '__gt__',\n",
              " '__hash__',\n",
              " '__init__',\n",
              " '__init_subclass__',\n",
              " '__int__',\n",
              " '__le__',\n",
              " '__lt__',\n",
              " '__mod__',\n",
              " '__mul__',\n",
              " '__ne__',\n",
              " '__neg__',\n",
              " '__new__',\n",
              " '__pos__',\n",
              " '__pow__',\n",
              " '__radd__',\n",
              " '__rdivmod__',\n",
              " '__reduce__',\n",
              " '__reduce_ex__',\n",
              " '__repr__',\n",
              " '__rfloordiv__',\n",
              " '__rmod__',\n",
              " '__rmul__',\n",
              " '__round__',\n",
              " '__rpow__',\n",
              " '__rsub__',\n",
              " '__rtruediv__',\n",
              " '__set_format__',\n",
              " '__setattr__',\n",
              " '__sizeof__',\n",
              " '__str__',\n",
              " '__sub__',\n",
              " '__subclasshook__',\n",
              " '__truediv__',\n",
              " '__trunc__',\n",
              " 'as_integer_ratio',\n",
              " 'conjugate',\n",
              " 'fromhex',\n",
              " 'hex',\n",
              " 'imag',\n",
              " 'is_integer',\n",
              " 'real']"
            ]
          },
          "metadata": {},
          "execution_count": 9
        }
      ]
    },
    {
      "cell_type": "code",
      "source": [
        ""
      ],
      "metadata": {
        "id": "-rb6f2PQ8GbG"
      },
      "execution_count": null,
      "outputs": []
    }
  ]
}