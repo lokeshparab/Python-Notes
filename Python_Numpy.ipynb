{
  "nbformat": 4,
  "nbformat_minor": 0,
  "metadata": {
    "colab": {
      "name": "Python Numpy.ipynb",
      "provenance": [],
      "collapsed_sections": [],
      "authorship_tag": "ABX9TyNkVEha1gNLlzu4WV9rpb2c",
      "include_colab_link": true
    },
    "kernelspec": {
      "name": "python3",
      "display_name": "Python 3"
    },
    "language_info": {
      "name": "python"
    }
  },
  "cells": [
    {
      "cell_type": "markdown",
      "metadata": {
        "id": "view-in-github",
        "colab_type": "text"
      },
      "source": [
        "<a href=\"https://colab.research.google.com/github/lokeshparab/Python-Notes/blob/main/Python_Numpy.ipynb\" target=\"_parent\"><img src=\"https://colab.research.google.com/assets/colab-badge.svg\" alt=\"Open In Colab\"/></a>"
      ]
    },
    {
      "cell_type": "markdown",
      "source": [
        "#**Installing and Importing Numpy**\n",
        "##**What is Numpy?**\n",
        "* NumPy is a Python library used for working with arrays.\n",
        "* It also has functions for working in domain of linear algebra, fourier transform, and matrices. \n",
        "* NumPy was created in 2005 by Travis Oliphant. It is an open source project and you can use it freely\n",
        "* This library is widely used in Data Science and Statistics \n"
      ],
      "metadata": {
        "id": "HyFYBxPE9Rnt"
      }
    },
    {
      "cell_type": "code",
      "execution_count": 1,
      "metadata": {
        "colab": {
          "base_uri": "https://localhost:8080/"
        },
        "id": "JcJJoQLZ8utL",
        "outputId": "66178cb5-3eaa-4aeb-eb55-e2a2c12ea4b2"
      },
      "outputs": [
        {
          "output_type": "stream",
          "name": "stdout",
          "text": [
            "Looking in indexes: https://pypi.org/simple, https://us-python.pkg.dev/colab-wheels/public/simple/\n",
            "Requirement already satisfied: numpy in /usr/local/lib/python3.7/dist-packages (1.21.6)\n"
          ]
        }
      ],
      "source": [
        "!pip install numpy"
      ]
    },
    {
      "cell_type": "code",
      "source": [
        "import numpy as np"
      ],
      "metadata": {
        "id": "8rhOboW99bzy"
      },
      "execution_count": 2,
      "outputs": []
    },
    {
      "cell_type": "markdown",
      "source": [
        "#**Creating array from list**\n",
        "\n",
        "##**numpy.array()**: \n",
        "A numpy array is a grid of values, all of the same type, and is indexed by a tuple of nonnegative integers. The number of dimensions is the rank of the array; the shape of an array is a tuple of integers giving the size of the array along each dimension."
      ],
      "metadata": {
        "id": "0ze6U_8A_S8R"
      }
    },
    {
      "cell_type": "code",
      "source": [
        "a = np.array([1,2,3,4,5,6])\n",
        "a"
      ],
      "metadata": {
        "colab": {
          "base_uri": "https://localhost:8080/"
        },
        "id": "N3K3THmN-D31",
        "outputId": "cc3697a8-7964-480f-9a53-6c815c197007"
      },
      "execution_count": 6,
      "outputs": [
        {
          "output_type": "execute_result",
          "data": {
            "text/plain": [
              "array([1, 2, 3, 4, 5, 6])"
            ]
          },
          "metadata": {},
          "execution_count": 6
        }
      ]
    },
    {
      "cell_type": "markdown",
      "source": [
        "##**Support indexing**"
      ],
      "metadata": {
        "id": "4pd-VqNnAbhv"
      }
    },
    {
      "cell_type": "code",
      "source": [
        "print(a[0])\n",
        "print(a[1])\n",
        "print(a[2])\n",
        "print(a[3])\n",
        "print(a[4])\n",
        "print(a[5])"
      ],
      "metadata": {
        "colab": {
          "base_uri": "https://localhost:8080/"
        },
        "id": "0YM0KQAQAQnJ",
        "outputId": "70076415-208a-4b55-aace-f51e1f8f73ba"
      },
      "execution_count": 7,
      "outputs": [
        {
          "output_type": "stream",
          "name": "stdout",
          "text": [
            "1\n",
            "2\n",
            "3\n",
            "4\n",
            "5\n",
            "6\n"
          ]
        }
      ]
    },
    {
      "cell_type": "code",
      "source": [
        "print(a[-6])\n",
        "print(a[-5])\n",
        "print(a[-4])\n",
        "print(a[-3])\n",
        "print(a[-2])\n",
        "print(a[-1])"
      ],
      "metadata": {
        "colab": {
          "base_uri": "https://localhost:8080/"
        },
        "id": "CF99x5jNBRlq",
        "outputId": "1b90cb3c-afcc-48fb-d035-c55289495329"
      },
      "execution_count": 10,
      "outputs": [
        {
          "output_type": "stream",
          "name": "stdout",
          "text": [
            "1\n",
            "2\n",
            "3\n",
            "4\n",
            "5\n",
            "6\n"
          ]
        }
      ]
    },
    {
      "cell_type": "markdown",
      "source": [
        "##**Support slicing**"
      ],
      "metadata": {
        "id": "NwOiwM0vBFU0"
      }
    },
    {
      "cell_type": "code",
      "source": [
        "print(a[-6:-2])  # print [1 2 3 4]\n",
        "print(a[-5:-4])  # print [2]\n",
        "print(a[-4: 0])  # print []\n",
        "print(a[:3])     # print [1 2 3]\n",
        "print(a[2:])     # print [3 4 5 6]\n",
        "print(a[-1:])    # print [6]\n",
        "print(a[2:4])    # print [3 4]"
      ],
      "metadata": {
        "colab": {
          "base_uri": "https://localhost:8080/"
        },
        "id": "NZ3JMwquAvJ1",
        "outputId": "280623df-005c-41c5-94d7-eb05841b79a9"
      },
      "execution_count": 12,
      "outputs": [
        {
          "output_type": "stream",
          "name": "stdout",
          "text": [
            "[1 2 3 4]\n",
            "[2]\n",
            "[]\n",
            "[1 2 3]\n",
            "[3 4 5 6]\n",
            "[6]\n",
            "[3 4]\n"
          ]
        }
      ]
    },
    {
      "cell_type": "markdown",
      "source": [
        "#**Shape and Size of array**"
      ],
      "metadata": {
        "id": "hxEj1dxcOyae"
      }
    },
    {
      "cell_type": "code",
      "source": [
        "lst = [1,2,3,4,5,6]\n",
        "a = np.array(lst)  \n",
        "print(a.size)\n",
        "a.shape"
      ],
      "metadata": {
        "colab": {
          "base_uri": "https://localhost:8080/"
        },
        "id": "D5iO_vb-Azsf",
        "outputId": "47b3d12f-2488-4b72-a1dd-83ab3815ea40"
      },
      "execution_count": 13,
      "outputs": [
        {
          "output_type": "stream",
          "name": "stdout",
          "text": [
            "6\n"
          ]
        },
        {
          "output_type": "execute_result",
          "data": {
            "text/plain": [
              "(6,)"
            ]
          },
          "metadata": {},
          "execution_count": 13
        }
      ]
    },
    {
      "cell_type": "code",
      "source": [
        "lst = [\n",
        "        [1,2,3],\n",
        "        [4,5,6]\n",
        "       ]\n",
        "\n",
        "a = np.array(lst)\n",
        "print(a.size)\n",
        "a.shape"
      ],
      "metadata": {
        "colab": {
          "base_uri": "https://localhost:8080/"
        },
        "id": "502lDXKCPEbv",
        "outputId": "a9c2ef48-590c-4c5b-c979-9f532a89947a"
      },
      "execution_count": 15,
      "outputs": [
        {
          "output_type": "stream",
          "name": "stdout",
          "text": [
            "6\n"
          ]
        },
        {
          "output_type": "execute_result",
          "data": {
            "text/plain": [
              "(2, 3)"
            ]
          },
          "metadata": {},
          "execution_count": 15
        }
      ]
    },
    {
      "cell_type": "code",
      "source": [
        "lst = [\n",
        "        [1,2],\n",
        "        [3,4],\n",
        "        [5,6],\n",
        "        [7,8]\n",
        "      ]\n",
        "      \n",
        "a = np.array(lst)\n",
        "print(a.size)\n",
        "a.shape"
      ],
      "metadata": {
        "colab": {
          "base_uri": "https://localhost:8080/"
        },
        "id": "mnTXJGX4PI34",
        "outputId": "b3e0a67f-bf8c-42de-fdc0-8a458da11408"
      },
      "execution_count": 17,
      "outputs": [
        {
          "output_type": "stream",
          "name": "stdout",
          "text": [
            "8\n"
          ]
        },
        {
          "output_type": "execute_result",
          "data": {
            "text/plain": [
              "(4, 2)"
            ]
          },
          "metadata": {},
          "execution_count": 17
        }
      ]
    },
    {
      "cell_type": "markdown",
      "source": [
        "#**Reshape**"
      ],
      "metadata": {
        "id": "nFMNHoOwQEvL"
      }
    },
    {
      "cell_type": "code",
      "source": [
        "lst = [1,2,3,4,5,6]\n",
        "a = np.array(lst)  "
      ],
      "metadata": {
        "id": "SHeDu2hWPSo4"
      },
      "execution_count": 19,
      "outputs": []
    },
    {
      "cell_type": "markdown",
      "source": [
        "##Method 1"
      ],
      "metadata": {
        "id": "_xHGxSYBQ7Y8"
      }
    },
    {
      "cell_type": "code",
      "source": [
        "a.reshape((3,2))"
      ],
      "metadata": {
        "colab": {
          "base_uri": "https://localhost:8080/"
        },
        "id": "8xvEHlYqQnXj",
        "outputId": "5c07cf42-72af-4a73-a5f8-f0952cf56e22"
      },
      "execution_count": 21,
      "outputs": [
        {
          "output_type": "execute_result",
          "data": {
            "text/plain": [
              "array([[1, 2],\n",
              "       [3, 4],\n",
              "       [5, 6]])"
            ]
          },
          "metadata": {},
          "execution_count": 21
        }
      ]
    },
    {
      "cell_type": "code",
      "source": [
        "a.reshape((2,3))"
      ],
      "metadata": {
        "colab": {
          "base_uri": "https://localhost:8080/"
        },
        "id": "M_zsigsTQzOz",
        "outputId": "9bc9350c-d09d-4ad4-a1b8-e5d62b98e52d"
      },
      "execution_count": 22,
      "outputs": [
        {
          "output_type": "execute_result",
          "data": {
            "text/plain": [
              "array([[1, 2, 3],\n",
              "       [4, 5, 6]])"
            ]
          },
          "metadata": {},
          "execution_count": 22
        }
      ]
    },
    {
      "cell_type": "markdown",
      "source": [
        "##Method 2"
      ],
      "metadata": {
        "id": "y7-84FNlQ_3O"
      }
    },
    {
      "cell_type": "code",
      "source": [
        "np.reshape(a,(3,2))"
      ],
      "metadata": {
        "colab": {
          "base_uri": "https://localhost:8080/"
        },
        "id": "14PlIVKhQ-iw",
        "outputId": "332776a1-f0cf-4f25-febd-ac0853a5e459"
      },
      "execution_count": 23,
      "outputs": [
        {
          "output_type": "execute_result",
          "data": {
            "text/plain": [
              "array([[1, 2],\n",
              "       [3, 4],\n",
              "       [5, 6]])"
            ]
          },
          "metadata": {},
          "execution_count": 23
        }
      ]
    },
    {
      "cell_type": "code",
      "source": [
        "np.reshape(a,(2,3))"
      ],
      "metadata": {
        "colab": {
          "base_uri": "https://localhost:8080/"
        },
        "id": "E_NuCCCgRGZ8",
        "outputId": "07096813-4059-4ced-bf5a-6ebbb70fc0ca"
      },
      "execution_count": 24,
      "outputs": [
        {
          "output_type": "execute_result",
          "data": {
            "text/plain": [
              "array([[1, 2, 3],\n",
              "       [4, 5, 6]])"
            ]
          },
          "metadata": {},
          "execution_count": 24
        }
      ]
    },
    {
      "cell_type": "markdown",
      "source": [
        "#**Flatten**\n",
        "Covert Multi-Dimension or 2D array to 1D array "
      ],
      "metadata": {
        "id": "MrYa_LeLRSs2"
      }
    },
    {
      "cell_type": "code",
      "source": [
        "lst = [\n",
        "        [1,2],\n",
        "        [3,4],\n",
        "        [5,6],\n",
        "        [7,8]\n",
        "      ]\n",
        "      \n",
        "a1 = np.array(lst)\n",
        "\n",
        "a1.flatten()"
      ],
      "metadata": {
        "colab": {
          "base_uri": "https://localhost:8080/"
        },
        "id": "JBGtjMy4SExd",
        "outputId": "da582383-283b-46dc-e062-ae33847494ab"
      },
      "execution_count": 35,
      "outputs": [
        {
          "output_type": "execute_result",
          "data": {
            "text/plain": [
              "array([1, 2, 3, 4, 5, 6, 7, 8])"
            ]
          },
          "metadata": {},
          "execution_count": 35
        }
      ]
    },
    {
      "cell_type": "code",
      "source": [
        "lst = [\n",
        "        [1,2,3],\n",
        "        [4,5,6],\n",
        "        [7,8,9]\n",
        "       ]\n",
        "\n",
        "a2 = np.array(lst)\n",
        "\n",
        "a2.flatten()"
      ],
      "metadata": {
        "colab": {
          "base_uri": "https://localhost:8080/"
        },
        "id": "UqavQl3ESHTo",
        "outputId": "3dce23ff-8e93-4392-84eb-3bc917771dfe"
      },
      "execution_count": 36,
      "outputs": [
        {
          "output_type": "execute_result",
          "data": {
            "text/plain": [
              "array([1, 2, 3, 4, 5, 6, 7, 8, 9])"
            ]
          },
          "metadata": {},
          "execution_count": 36
        }
      ]
    },
    {
      "cell_type": "markdown",
      "source": [
        "#Array of Zeros\n",
        "\n",
        "zeros(shape, dtype=float, order='C', *, like=None)\n",
        "\n",
        "Return a new array of given shape and type, filled with zeros.\n",
        "\n",
        "Parameters\n",
        "\n",
        "* shape : int or tuple of ints\n",
        "  * Shape of the new array, e.g., ``(2, 3)`` or ``2``.\n",
        "* dtype : data-type, optional\n",
        "  * The desired data-type for the array, e.g., `numpy.int8`.  \n",
        "  * Default is `numpy.float64`.\n",
        "\n",
        "* order : {'C', 'F'}, optional, default: 'C'\n",
        "  * Whether to store multi-dimensional data in row-major\n",
        "  * (C-style) or column-major (Fortran-style) order in memory.\n",
        "  * **Note: This is helpful while sorting in which manner**\n",
        "\n",
        "* like : array_like\n",
        "  * Reference object to allow the creation of arrays which are not\n",
        "  * NumPy arrays. If an array-like passed in as ``like`` supports\n",
        "  * the ``__array_function__`` protocol, the result will be definedby it. In this case, it ensures the creation of an array object compatible with that passed in via this argument.\n",
        "\n",
        "Returns\n",
        "* out : ndarray\n",
        "    * Array of zeros with the given shape, dtype, and order.\n",
        "\n"
      ],
      "metadata": {
        "id": "53Fy8V9OS02D"
      }
    },
    {
      "cell_type": "code",
      "source": [
        "np.zeros((4,4))"
      ],
      "metadata": {
        "colab": {
          "base_uri": "https://localhost:8080/"
        },
        "id": "Hhi0uW0cS_UW",
        "outputId": "13d94284-04f5-400c-c79a-eb232311e7b2"
      },
      "execution_count": 39,
      "outputs": [
        {
          "output_type": "execute_result",
          "data": {
            "text/plain": [
              "array([[0., 0., 0., 0.],\n",
              "       [0., 0., 0., 0.],\n",
              "       [0., 0., 0., 0.],\n",
              "       [0., 0., 0., 0.]])"
            ]
          },
          "metadata": {},
          "execution_count": 39
        }
      ]
    },
    {
      "cell_type": "code",
      "source": [
        "np.zeros((4,3),dtype=int)"
      ],
      "metadata": {
        "colab": {
          "base_uri": "https://localhost:8080/"
        },
        "id": "SwKsTo-qS5Pv",
        "outputId": "2d8ca27c-3253-4bc5-829c-5f226243430c"
      },
      "execution_count": 41,
      "outputs": [
        {
          "output_type": "execute_result",
          "data": {
            "text/plain": [
              "array([[0, 0, 0],\n",
              "       [0, 0, 0],\n",
              "       [0, 0, 0],\n",
              "       [0, 0, 0]])"
            ]
          },
          "metadata": {},
          "execution_count": 41
        }
      ]
    },
    {
      "cell_type": "code",
      "source": [
        "a = np.zeros_like()"
      ],
      "metadata": {
        "id": "0p09gcYyVivt"
      },
      "execution_count": 57,
      "outputs": []
    },
    {
      "cell_type": "markdown",
      "source": [
        "##Zeros like\n",
        "zeros_like : Return an array of zeros with shape and type of input.\n",
        "empty : Return a new uninitialized array.\n",
        "ones : Return a new array setting values to one.\n",
        "full : Return a new array of given shape filled with value."
      ],
      "metadata": {
        "id": "W99sRO76TkfR"
      }
    },
    {
      "cell_type": "code",
      "source": [
        "a = [22,12,34,34]\n",
        "np.zeros_like(a)"
      ],
      "metadata": {
        "colab": {
          "base_uri": "https://localhost:8080/"
        },
        "id": "ictLF6n6V-SO",
        "outputId": "394ec409-7090-45dd-831f-fb372e160eb4"
      },
      "execution_count": 59,
      "outputs": [
        {
          "output_type": "execute_result",
          "data": {
            "text/plain": [
              "array([0, 0, 0, 0])"
            ]
          },
          "metadata": {},
          "execution_count": 59
        }
      ]
    },
    {
      "cell_type": "code",
      "source": [
        "lst = [\n",
        "        [1,2,3],\n",
        "        [4,5.1,6],\n",
        "        [7,8,9]\n",
        "       ]\n",
        "\n",
        "np.zeros_like(lst)"
      ],
      "metadata": {
        "colab": {
          "base_uri": "https://localhost:8080/"
        },
        "id": "nJxMaGKPWmH1",
        "outputId": "1b79def0-2b54-41e2-d78b-fad6ce7a1d62"
      },
      "execution_count": 61,
      "outputs": [
        {
          "output_type": "execute_result",
          "data": {
            "text/plain": [
              "array([[0., 0., 0.],\n",
              "       [0., 0., 0.],\n",
              "       [0., 0., 0.]])"
            ]
          },
          "metadata": {},
          "execution_count": 61
        }
      ]
    },
    {
      "cell_type": "code",
      "source": [
        "lst = [\n",
        "        [1,2,3],\n",
        "        [4,5.1,6],\n",
        "        [7,8,9]\n",
        "       ]\n",
        "\n",
        "np.zeros_like(lst , dtype=int)"
      ],
      "metadata": {
        "colab": {
          "base_uri": "https://localhost:8080/"
        },
        "id": "BBYBOTQLWypc",
        "outputId": "d3729a15-ee4e-475f-e7db-453d1b2604eb"
      },
      "execution_count": 62,
      "outputs": [
        {
          "output_type": "execute_result",
          "data": {
            "text/plain": [
              "array([[0, 0, 0],\n",
              "       [0, 0, 0],\n",
              "       [0, 0, 0]])"
            ]
          },
          "metadata": {},
          "execution_count": 62
        }
      ]
    },
    {
      "cell_type": "markdown",
      "source": [
        ""
      ],
      "metadata": {
        "id": "xr-rZOrwX5nM"
      }
    },
    {
      "cell_type": "code",
      "source": [
        ""
      ],
      "metadata": {
        "id": "TLv2i3uFX1Lz"
      },
      "execution_count": null,
      "outputs": []
    }
  ]
}